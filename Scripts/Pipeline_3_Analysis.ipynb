{
  "cells": [
    {
      "cell_type": "markdown",
      "metadata": {
        "id": "view-in-github",
        "colab_type": "text"
      },
      "source": [
        "<a href=\"https://colab.research.google.com/github/laiamr/tfm/blob/main/Scripts/Pipeline_3_Analysis.ipynb\" target=\"_parent\"><img src=\"https://colab.research.google.com/assets/colab-badge.svg\" alt=\"Open In Colab\"/></a>"
      ]
    },
    {
      "cell_type": "code",
      "source": [
        "!pip install pandas spacy matplotlib numpy"
      ],
      "metadata": {
        "id": "QcTk7SWosDyq"
      },
      "id": "QcTk7SWosDyq",
      "execution_count": null,
      "outputs": []
    },
    {
      "cell_type": "code",
      "execution_count": null,
      "id": "37f8eae6",
      "metadata": {
        "id": "37f8eae6"
      },
      "outputs": [],
      "source": [
        "import pandas as pd\n",
        "import spacy\n",
        "from collections import Counter\n",
        "import matplotlib.pyplot as plt\n",
        "import numpy as np\n",
        "import re"
      ]
    },
    {
      "cell_type": "code",
      "execution_count": null,
      "id": "2399dcb1",
      "metadata": {
        "id": "2399dcb1"
      },
      "outputs": [],
      "source": [
        "# Filenames\n",
        "dataFile = \"https://raw.githubusercontent.com/laiamr/tfm/refs/heads/main/Data/SocialMedia_Data.csv\" # Contains the data\n",
        "lexiconFile = \"https://raw.githubusercontent.com/laiamr/tfm/refs/heads/main/Data/WordList.csv\" # Contains information about the keywords we searched for in the tweets"
      ]
    },
    {
      "cell_type": "code",
      "execution_count": null,
      "id": "2bd1f69c",
      "metadata": {
        "id": "2bd1f69c",
        "outputId": "91a384cf-88c7-4763-9ee5-dfeee95c4067"
      },
      "outputs": [
        {
          "name": "stdout",
          "output_type": "stream",
          "text": [
            "(2909, 7)\n"
          ]
        },
        {
          "data": {
            "text/html": [
              "<div>\n",
              "<style scoped>\n",
              "    .dataframe tbody tr th:only-of-type {\n",
              "        vertical-align: middle;\n",
              "    }\n",
              "\n",
              "    .dataframe tbody tr th {\n",
              "        vertical-align: top;\n",
              "    }\n",
              "\n",
              "    .dataframe thead th {\n",
              "        text-align: right;\n",
              "    }\n",
              "</style>\n",
              "<table border=\"1\" class=\"dataframe\">\n",
              "  <thead>\n",
              "    <tr style=\"text-align: right;\">\n",
              "      <th></th>\n",
              "      <th>id</th>\n",
              "      <th>searchQuery</th>\n",
              "      <th>text</th>\n",
              "      <th>timestamp</th>\n",
              "      <th>cleanText</th>\n",
              "      <th>foundWord</th>\n",
              "      <th>socialMediaSense</th>\n",
              "    </tr>\n",
              "  </thead>\n",
              "  <tbody>\n",
              "    <tr>\n",
              "      <th>0</th>\n",
              "      <td>1620116848825217024</td>\n",
              "      <td>retuit</td>\n",
              "      <td>et segueixo i no puc fer retuit a les teves pi...</td>\n",
              "      <td>2023-01-30 17:48:00+00:00</td>\n",
              "      <td>et segueixo i no puc fer retuit a les teves pi...</td>\n",
              "      <td>retuit</td>\n",
              "      <td>1</td>\n",
              "    </tr>\n",
              "    <tr>\n",
              "      <th>1</th>\n",
              "      <td>1652264071687806977</td>\n",
              "      <td>tuits</td>\n",
              "      <td>sí.\\nsolen ser tuits patrocinats. \\nde pagament.</td>\n",
              "      <td>2023-04-29T10:50:00.000Z</td>\n",
              "      <td>sí. solen ser tuits patrocinats. de pagament.</td>\n",
              "      <td>tuits</td>\n",
              "      <td>1</td>\n",
              "    </tr>\n",
              "    <tr>\n",
              "      <th>2</th>\n",
              "      <td>1619801223661748226</td>\n",
              "      <td>comentat</td>\n",
              "      <td>amb quin mobil has comentat?</td>\n",
              "      <td>2023-01-29T20:54:00.000Z</td>\n",
              "      <td>amb quin mobil has comentat?</td>\n",
              "      <td>comentat</td>\n",
              "      <td>1</td>\n",
              "    </tr>\n",
              "    <tr>\n",
              "      <th>3</th>\n",
              "      <td>1718708884951409072</td>\n",
              "      <td>blocat</td>\n",
              "      <td>fent mongetes i de cap al compte b q estic (or...</td>\n",
              "      <td>2023-10-29T19:18:00.000Z</td>\n",
              "      <td>fent mongetes i de cap al compte b q estic (or...</td>\n",
              "      <td>blocat</td>\n",
              "      <td>1</td>\n",
              "    </tr>\n",
              "    <tr>\n",
              "      <th>4</th>\n",
              "      <td>1620159160997355520</td>\n",
              "      <td>tuit</td>\n",
              "      <td>no passa res... un tuit i a dormir.\\nfeina fet...</td>\n",
              "      <td>2023-01-30 20:36:00+00:00</td>\n",
              "      <td>no passa res... un tuit i a dormir. feina feta...</td>\n",
              "      <td>tuit</td>\n",
              "      <td>1</td>\n",
              "    </tr>\n",
              "  </tbody>\n",
              "</table>\n",
              "</div>"
            ],
            "text/plain": [
              "                    id searchQuery  \\\n",
              "0  1620116848825217024      retuit   \n",
              "1  1652264071687806977       tuits   \n",
              "2  1619801223661748226    comentat   \n",
              "3  1718708884951409072      blocat   \n",
              "4  1620159160997355520        tuit   \n",
              "\n",
              "                                                text  \\\n",
              "0  et segueixo i no puc fer retuit a les teves pi...   \n",
              "1   sí.\\nsolen ser tuits patrocinats. \\nde pagament.   \n",
              "2                       amb quin mobil has comentat?   \n",
              "3  fent mongetes i de cap al compte b q estic (or...   \n",
              "4  no passa res... un tuit i a dormir.\\nfeina fet...   \n",
              "\n",
              "                   timestamp  \\\n",
              "0  2023-01-30 17:48:00+00:00   \n",
              "1   2023-04-29T10:50:00.000Z   \n",
              "2   2023-01-29T20:54:00.000Z   \n",
              "3   2023-10-29T19:18:00.000Z   \n",
              "4  2023-01-30 20:36:00+00:00   \n",
              "\n",
              "                                           cleanText foundWord  \\\n",
              "0  et segueixo i no puc fer retuit a les teves pi...    retuit   \n",
              "1      sí. solen ser tuits patrocinats. de pagament.     tuits   \n",
              "2                       amb quin mobil has comentat?  comentat   \n",
              "3  fent mongetes i de cap al compte b q estic (or...    blocat   \n",
              "4  no passa res... un tuit i a dormir. feina feta...      tuit   \n",
              "\n",
              "   socialMediaSense  \n",
              "0                 1  \n",
              "1                 1  \n",
              "2                 1  \n",
              "3                 1  \n",
              "4                 1  "
            ]
          },
          "execution_count": 3,
          "metadata": {},
          "output_type": "execute_result"
        }
      ],
      "source": [
        "# Load data\n",
        "df_in = pd.read_csv(dataFile, sep=\";\")\n",
        "print(df_in.shape)\n",
        "df_in.head()"
      ]
    },
    {
      "cell_type": "code",
      "execution_count": null,
      "id": "61e788ed",
      "metadata": {
        "id": "61e788ed",
        "outputId": "537ba9e3-e273-4a93-8820-5aaa39e5aa4d"
      },
      "outputs": [
        {
          "name": "stdout",
          "output_type": "stream",
          "text": [
            "(117, 7)\n"
          ]
        },
        {
          "data": {
            "text/html": [
              "<div>\n",
              "<style scoped>\n",
              "    .dataframe tbody tr th:only-of-type {\n",
              "        vertical-align: middle;\n",
              "    }\n",
              "\n",
              "    .dataframe tbody tr th {\n",
              "        vertical-align: top;\n",
              "    }\n",
              "\n",
              "    .dataframe thead th {\n",
              "        text-align: right;\n",
              "    }\n",
              "</style>\n",
              "<table border=\"1\" class=\"dataframe\">\n",
              "  <thead>\n",
              "    <tr style=\"text-align: right;\">\n",
              "      <th></th>\n",
              "      <th>original_lemma</th>\n",
              "      <th>loanword_lemma</th>\n",
              "      <th>loanword_form</th>\n",
              "      <th>loanword_pos</th>\n",
              "      <th>loanword_features</th>\n",
              "      <th>loanword_type</th>\n",
              "      <th>loanword_category</th>\n",
              "    </tr>\n",
              "  </thead>\n",
              "  <tbody>\n",
              "    <tr>\n",
              "      <th>0</th>\n",
              "      <td>comment</td>\n",
              "      <td>comment</td>\n",
              "      <td>comment</td>\n",
              "      <td>noun, verb</td>\n",
              "      <td>lemma</td>\n",
              "      <td>direct borrowing</td>\n",
              "      <td>foreign lexeme</td>\n",
              "    </tr>\n",
              "    <tr>\n",
              "      <th>1</th>\n",
              "      <td>tag</td>\n",
              "      <td>tag</td>\n",
              "      <td>tag</td>\n",
              "      <td>noun, verb</td>\n",
              "      <td>lemma</td>\n",
              "      <td>direct borrowing</td>\n",
              "      <td>foreign lexeme</td>\n",
              "    </tr>\n",
              "    <tr>\n",
              "      <th>2</th>\n",
              "      <td>tag</td>\n",
              "      <td>tag</td>\n",
              "      <td>tags</td>\n",
              "      <td>noun</td>\n",
              "      <td>plural</td>\n",
              "      <td>direct borrowing</td>\n",
              "      <td>foreign lexeme</td>\n",
              "    </tr>\n",
              "    <tr>\n",
              "      <th>3</th>\n",
              "      <td>story</td>\n",
              "      <td>story</td>\n",
              "      <td>story</td>\n",
              "      <td>noun</td>\n",
              "      <td>lemma</td>\n",
              "      <td>direct borrowing</td>\n",
              "      <td>foreign lexeme</td>\n",
              "    </tr>\n",
              "    <tr>\n",
              "      <th>4</th>\n",
              "      <td>like</td>\n",
              "      <td>like</td>\n",
              "      <td>like</td>\n",
              "      <td>noun, verb</td>\n",
              "      <td>lemma</td>\n",
              "      <td>direct borrowing</td>\n",
              "      <td>foreign lexeme</td>\n",
              "    </tr>\n",
              "  </tbody>\n",
              "</table>\n",
              "</div>"
            ],
            "text/plain": [
              "  original_lemma loanword_lemma loanword_form loanword_pos loanword_features  \\\n",
              "0        comment        comment       comment   noun, verb             lemma   \n",
              "1            tag            tag           tag   noun, verb             lemma   \n",
              "2            tag            tag          tags         noun            plural   \n",
              "3          story          story         story         noun             lemma   \n",
              "4           like           like          like   noun, verb             lemma   \n",
              "\n",
              "      loanword_type loanword_category  \n",
              "0  direct borrowing    foreign lexeme  \n",
              "1  direct borrowing    foreign lexeme  \n",
              "2  direct borrowing    foreign lexeme  \n",
              "3  direct borrowing    foreign lexeme  \n",
              "4  direct borrowing    foreign lexeme  "
            ]
          },
          "execution_count": 4,
          "metadata": {},
          "output_type": "execute_result"
        }
      ],
      "source": [
        "# Load lexicon file\n",
        "df_lex = pd.read_csv(lexiconFile, sep=\";\")\n",
        "print(df_lex.shape)\n",
        "df_lex.head()"
      ]
    },
    {
      "cell_type": "code",
      "execution_count": null,
      "id": "b4a01362",
      "metadata": {
        "id": "b4a01362",
        "outputId": "5bebba5b-8832-4c00-cc9f-932f4019fcba"
      },
      "outputs": [
        {
          "name": "stdout",
          "output_type": "stream",
          "text": [
            "(2909, 14)\n"
          ]
        },
        {
          "data": {
            "text/html": [
              "<div>\n",
              "<style scoped>\n",
              "    .dataframe tbody tr th:only-of-type {\n",
              "        vertical-align: middle;\n",
              "    }\n",
              "\n",
              "    .dataframe tbody tr th {\n",
              "        vertical-align: top;\n",
              "    }\n",
              "\n",
              "    .dataframe thead th {\n",
              "        text-align: right;\n",
              "    }\n",
              "</style>\n",
              "<table border=\"1\" class=\"dataframe\">\n",
              "  <thead>\n",
              "    <tr style=\"text-align: right;\">\n",
              "      <th></th>\n",
              "      <th>id</th>\n",
              "      <th>searchQuery</th>\n",
              "      <th>text</th>\n",
              "      <th>timestamp</th>\n",
              "      <th>cleanText</th>\n",
              "      <th>foundWord</th>\n",
              "      <th>socialMediaSense</th>\n",
              "      <th>original_lemma</th>\n",
              "      <th>loanword_lemma</th>\n",
              "      <th>loanword_form</th>\n",
              "      <th>loanword_pos</th>\n",
              "      <th>loanword_features</th>\n",
              "      <th>loanword_type</th>\n",
              "      <th>loanword_category</th>\n",
              "    </tr>\n",
              "  </thead>\n",
              "  <tbody>\n",
              "    <tr>\n",
              "      <th>0</th>\n",
              "      <td>1620116848825217024</td>\n",
              "      <td>retuit</td>\n",
              "      <td>et segueixo i no puc fer retuit a les teves pi...</td>\n",
              "      <td>2023-01-30 17:48:00+00:00</td>\n",
              "      <td>et segueixo i no puc fer retuit a les teves pi...</td>\n",
              "      <td>retuit</td>\n",
              "      <td>1</td>\n",
              "      <td>retweet</td>\n",
              "      <td>retuit</td>\n",
              "      <td>retuit</td>\n",
              "      <td>noun</td>\n",
              "      <td>singular</td>\n",
              "      <td>full adaptation</td>\n",
              "      <td>foreign lexeme</td>\n",
              "    </tr>\n",
              "    <tr>\n",
              "      <th>1</th>\n",
              "      <td>1652264071687806977</td>\n",
              "      <td>tuits</td>\n",
              "      <td>sí.\\nsolen ser tuits patrocinats. \\nde pagament.</td>\n",
              "      <td>2023-04-29T10:50:00.000Z</td>\n",
              "      <td>sí. solen ser tuits patrocinats. de pagament.</td>\n",
              "      <td>tuits</td>\n",
              "      <td>1</td>\n",
              "      <td>tweet</td>\n",
              "      <td>tuit</td>\n",
              "      <td>tuits</td>\n",
              "      <td>noun</td>\n",
              "      <td>plural</td>\n",
              "      <td>full adaptation</td>\n",
              "      <td>foreign lexeme</td>\n",
              "    </tr>\n",
              "    <tr>\n",
              "      <th>2</th>\n",
              "      <td>1619801223661748226</td>\n",
              "      <td>comentat</td>\n",
              "      <td>amb quin mobil has comentat?</td>\n",
              "      <td>2023-01-29T20:54:00.000Z</td>\n",
              "      <td>amb quin mobil has comentat?</td>\n",
              "      <td>comentat</td>\n",
              "      <td>1</td>\n",
              "      <td>comment</td>\n",
              "      <td>comentar</td>\n",
              "      <td>comentat</td>\n",
              "      <td>verb</td>\n",
              "      <td>participle</td>\n",
              "      <td>calque</td>\n",
              "      <td>native lexeme</td>\n",
              "    </tr>\n",
              "    <tr>\n",
              "      <th>3</th>\n",
              "      <td>1718708884951409072</td>\n",
              "      <td>blocat</td>\n",
              "      <td>fent mongetes i de cap al compte b q estic (or...</td>\n",
              "      <td>2023-10-29T19:18:00.000Z</td>\n",
              "      <td>fent mongetes i de cap al compte b q estic (or...</td>\n",
              "      <td>blocat</td>\n",
              "      <td>1</td>\n",
              "      <td>block</td>\n",
              "      <td>blocar</td>\n",
              "      <td>blocat</td>\n",
              "      <td>verb</td>\n",
              "      <td>participle</td>\n",
              "      <td>calque</td>\n",
              "      <td>native lexeme</td>\n",
              "    </tr>\n",
              "    <tr>\n",
              "      <th>4</th>\n",
              "      <td>1620159160997355520</td>\n",
              "      <td>tuit</td>\n",
              "      <td>no passa res... un tuit i a dormir.\\nfeina fet...</td>\n",
              "      <td>2023-01-30 20:36:00+00:00</td>\n",
              "      <td>no passa res... un tuit i a dormir. feina feta...</td>\n",
              "      <td>tuit</td>\n",
              "      <td>1</td>\n",
              "      <td>tweet</td>\n",
              "      <td>tuit</td>\n",
              "      <td>tuit</td>\n",
              "      <td>noun</td>\n",
              "      <td>singular</td>\n",
              "      <td>full adaptation</td>\n",
              "      <td>foreign lexeme</td>\n",
              "    </tr>\n",
              "  </tbody>\n",
              "</table>\n",
              "</div>"
            ],
            "text/plain": [
              "                    id searchQuery  \\\n",
              "0  1620116848825217024      retuit   \n",
              "1  1652264071687806977       tuits   \n",
              "2  1619801223661748226    comentat   \n",
              "3  1718708884951409072      blocat   \n",
              "4  1620159160997355520        tuit   \n",
              "\n",
              "                                                text  \\\n",
              "0  et segueixo i no puc fer retuit a les teves pi...   \n",
              "1   sí.\\nsolen ser tuits patrocinats. \\nde pagament.   \n",
              "2                       amb quin mobil has comentat?   \n",
              "3  fent mongetes i de cap al compte b q estic (or...   \n",
              "4  no passa res... un tuit i a dormir.\\nfeina fet...   \n",
              "\n",
              "                   timestamp  \\\n",
              "0  2023-01-30 17:48:00+00:00   \n",
              "1   2023-04-29T10:50:00.000Z   \n",
              "2   2023-01-29T20:54:00.000Z   \n",
              "3   2023-10-29T19:18:00.000Z   \n",
              "4  2023-01-30 20:36:00+00:00   \n",
              "\n",
              "                                           cleanText foundWord  \\\n",
              "0  et segueixo i no puc fer retuit a les teves pi...    retuit   \n",
              "1      sí. solen ser tuits patrocinats. de pagament.     tuits   \n",
              "2                       amb quin mobil has comentat?  comentat   \n",
              "3  fent mongetes i de cap al compte b q estic (or...    blocat   \n",
              "4  no passa res... un tuit i a dormir. feina feta...      tuit   \n",
              "\n",
              "   socialMediaSense original_lemma loanword_lemma loanword_form loanword_pos  \\\n",
              "0                 1        retweet         retuit        retuit         noun   \n",
              "1                 1          tweet           tuit         tuits         noun   \n",
              "2                 1        comment       comentar      comentat         verb   \n",
              "3                 1          block         blocar        blocat         verb   \n",
              "4                 1          tweet           tuit          tuit         noun   \n",
              "\n",
              "  loanword_features    loanword_type loanword_category  \n",
              "0          singular  full adaptation    foreign lexeme  \n",
              "1            plural  full adaptation    foreign lexeme  \n",
              "2        participle           calque     native lexeme  \n",
              "3        participle           calque     native lexeme  \n",
              "4          singular  full adaptation    foreign lexeme  "
            ]
          },
          "execution_count": 5,
          "metadata": {},
          "output_type": "execute_result"
        }
      ],
      "source": [
        "# Add the type of loanword for each word of the dataset\n",
        "df = pd.merge(df_in, df_lex, left_on='foundWord', right_on='loanword_form', how='left')\n",
        "print(df.shape)\n",
        "df.head()"
      ]
    },
    {
      "cell_type": "markdown",
      "id": "edfab850",
      "metadata": {
        "id": "edfab850"
      },
      "source": [
        "**TOKENISE AND POS TAG**"
      ]
    },
    {
      "cell_type": "code",
      "execution_count": null,
      "id": "6ab569da",
      "metadata": {
        "id": "6ab569da"
      },
      "outputs": [],
      "source": [
        "# Annotate all the tweets with POS tags\n",
        "# Load spacy model for Catalan\n",
        "nlp = spacy.load(\"ca_core_news_md\")"
      ]
    },
    {
      "cell_type": "code",
      "execution_count": null,
      "id": "1067822e",
      "metadata": {
        "id": "1067822e"
      },
      "outputs": [],
      "source": [
        "# Function to save tokens and POS tags into lists\n",
        "def tokenize_and_pos_tag(text: str) -> tuple:\n",
        "    tokens = []\n",
        "    pos_tags = []\n",
        "    doc = nlp(text)\n",
        "\n",
        "    for tok in doc:\n",
        "        tokens.append(tok.text)\n",
        "        pos_tags.append(tok.pos_.lower())\n",
        "\n",
        "    return tokens, pos_tags"
      ]
    },
    {
      "cell_type": "code",
      "execution_count": null,
      "id": "6df4cd75",
      "metadata": {
        "id": "6df4cd75"
      },
      "outputs": [],
      "source": [
        "# Apply tokenizer to the rows of data and save tokens and POS tags into two lists (and add them to the dataframe)\n",
        "tokenized = []\n",
        "pos_tags = []\n",
        "for _, row in df.iterrows():\n",
        "    a, b = tokenize_and_pos_tag(row['cleanText'])\n",
        "    tokenized.append(a)\n",
        "    pos_tags.append(b)\n",
        "\n",
        "df['tokenized'] = tokenized\n",
        "df['pos_tags'] = pos_tags"
      ]
    },
    {
      "cell_type": "code",
      "execution_count": null,
      "id": "ac814cea",
      "metadata": {
        "id": "ac814cea"
      },
      "outputs": [],
      "source": [
        "# Function to extract the POS tag of a given word in the text\n",
        "def get_pos_tag(word: str, tok_text: tuple, pos_tags: tuple) -> str:\n",
        "    # Find index of the word in the tokenized list and then use the index to find the value in the pos_tags list\n",
        "    try:\n",
        "        idx = tok_text.index(word)\n",
        "        tag = pos_tags[idx]\n",
        "    except:\n",
        "        tag = ''\n",
        "    return tag"
      ]
    },
    {
      "cell_type": "code",
      "execution_count": null,
      "id": "315ef815",
      "metadata": {
        "id": "315ef815"
      },
      "outputs": [],
      "source": [
        "# Apply the function to the dataframe to extract the POS tag of the target word (foundWord) in the text, for each row\n",
        "df['detected_pos'] = df.apply(lambda row: get_pos_tag(row['foundWord'], row['tokenized'], row['pos_tags']), axis=1)\n",
        "print(df.shape)\n",
        "df.head()"
      ]
    },
    {
      "cell_type": "markdown",
      "id": "3fbf4f83",
      "metadata": {
        "id": "3fbf4f83"
      },
      "source": [
        "**ANALYSE VOLUME OF DATA BY DATE**"
      ]
    },
    {
      "cell_type": "code",
      "execution_count": null,
      "id": "954d3104",
      "metadata": {
        "id": "954d3104",
        "outputId": "742272b5-b119-4aa4-b544-29a507e38d30"
      },
      "outputs": [
        {
          "data": {
            "text/plain": [
              "(2, 17)"
            ]
          },
          "execution_count": 12,
          "metadata": {},
          "output_type": "execute_result"
        }
      ],
      "source": [
        "# Validate if all the tweets belong to the year 2023 (no, 2 of them are from 2022)\n",
        "df[~df['timestamp'].str.startswith('2023')].shape"
      ]
    },
    {
      "cell_type": "code",
      "execution_count": null,
      "id": "e0281140",
      "metadata": {
        "id": "e0281140"
      },
      "outputs": [],
      "source": [
        "# Extract the year and month from the timestamp\n",
        "df['year_month'] = df['timestamp'].str[:7]"
      ]
    },
    {
      "cell_type": "code",
      "execution_count": null,
      "id": "41013ab6",
      "metadata": {
        "id": "41013ab6",
        "outputId": "22abaffc-0dae-4310-81fb-e143d8d429da"
      },
      "outputs": [
        {
          "name": "stdout",
          "output_type": "stream",
          "text": [
            "{'2022-07': 1, '2023-01': 1012, '2023-02': 1, '2023-03': 1, '2023-04': 469, '2023-07': 573, '2023-10': 408}\n",
            "['2022-07', '2023-01', '2023-02', '2023-03', '2023-04', '2023-07', '2023-10']\n",
            "[1, 1012, 1, 1, 469, 573, 408]\n"
          ]
        }
      ],
      "source": [
        "# Create the count of each timestamp to make a plot (remove duplicates and sort them)\n",
        "count_timestamps = Counter(df.drop_duplicates(subset=['id'])['year_month'])\n",
        "sorted_count_timestamps = dict(sorted(count_timestamps.items()))\n",
        "print(sorted_count_timestamps)\n",
        "dates_labels = list(sorted_count_timestamps.keys())\n",
        "print(dates_labels)\n",
        "dates_values = list(sorted_count_timestamps.values())\n",
        "print(dates_values)"
      ]
    },
    {
      "cell_type": "code",
      "execution_count": null,
      "id": "a7dc52be",
      "metadata": {
        "id": "a7dc52be",
        "outputId": "b7bf21af-c708-4a16-93f3-b383c707d910"
      },
      "outputs": [
        {
          "data": {
            "text/plain": [
              "Text(0, 0.5, 'Number of tweets')"
            ]
          },
          "execution_count": 15,
          "metadata": {},
          "output_type": "execute_result"
        },
        {
          "data": {
            "image/png": "[encoded data removed]",
            "text/plain": [
              "<Figure size 640x480 with 1 Axes>"
            ]
          },
          "metadata": {},
          "output_type": "display_data"
        }
      ],
      "source": [
        "# Create a bar chart to visualize the distribution of tweets per year and month\n",
        "fig, ax = plt.subplots()\n",
        "ax.bar(dates_labels, dates_values, width=0.5)\n",
        "for i in range(len(dates_labels)):\n",
        "        plt.text(i, dates_values[i]+15, dates_values[i], ha='center')\n",
        "plt.title(\"Distribution of tweets per year and month\")\n",
        "plt.xlabel(\"Time (in months)\")\n",
        "plt.ylabel(\"Number of tweets\")"
      ]
    },
    {
      "cell_type": "markdown",
      "id": "d0cdcc6b",
      "metadata": {
        "id": "d0cdcc6b"
      },
      "source": [
        "**ANALYSE DATA BY TYPES OF BORROWING**"
      ]
    },
    {
      "cell_type": "code",
      "execution_count": null,
      "id": "27f96b2d",
      "metadata": {
        "id": "27f96b2d",
        "outputId": "49b17cbb-0caf-4447-c65f-1ffcd685c88c"
      },
      "outputs": [
        {
          "data": {
            "text/plain": [
              "{'calque': 1883,\n",
              " 'full adaptation': 482,\n",
              " 'direct borrowing': 368,\n",
              " 'semantic extension': 168,\n",
              " 'syntactic composition': 8}"
            ]
          },
          "execution_count": 16,
          "metadata": {},
          "output_type": "execute_result"
        }
      ],
      "source": [
        "# Extract the types of loanwords and their counts\n",
        "count_types_borrowing = Counter(df['loanword_type'])\n",
        "count_types_borrowing = dict(sorted(count_types_borrowing.items(), key=lambda item: item[1], reverse=True))\n",
        "count_types_borrowing"
      ]
    },
    {
      "cell_type": "code",
      "execution_count": null,
      "id": "d0057317",
      "metadata": {
        "id": "d0057317",
        "outputId": "0a513f8f-a356-433d-ff29-2d41f4ee9b63"
      },
      "outputs": [
        {
          "data": {
            "text/plain": [
              "Text(0, 0.5, 'Counts')"
            ]
          },
          "execution_count": 17,
          "metadata": {},
          "output_type": "execute_result"
        },
        {
          "data": {
            "image/png": "[encoded data removed]",
            "text/plain": [
              "<Figure size 640x480 with 1 Axes>"
            ]
          },
          "metadata": {},
          "output_type": "display_data"
        }
      ],
      "source": [
        "# Extract the labels and counts of the types of borrowings for the plot\n",
        "types_labels = list(count_types_borrowing.keys())\n",
        "types_values = list(count_types_borrowing.values())\n",
        "# Change each space in the labels for a new line (to fit well into the plot)\n",
        "type_lab_wrapped = [lab.replace(' ', '\\n') for lab in types_labels]\n",
        "\n",
        "# Create a bar chart to show the distribution of types of borrowings, ordered by their counts\n",
        "fig, ax = plt.subplots()\n",
        "ax.bar(type_lab_wrapped, types_values, width=0.5)\n",
        "for i in range(len(type_lab_wrapped)):\n",
        "        plt.text(i, types_values[i]+15, types_values[i], ha='center')\n",
        "plt.title(\"Distribution of types of borrowings\")\n",
        "plt.xlabel(\"Types of borrowings\")\n",
        "plt.ylabel(\"Counts\")"
      ]
    },
    {
      "cell_type": "code",
      "execution_count": null,
      "id": "8462403d",
      "metadata": {
        "id": "8462403d",
        "outputId": "a36a8e2e-3f36-4237-8267-1f8397f98610"
      },
      "outputs": [
        {
          "data": {
            "text/plain": [
              "Text(0.5, 1.0, 'Distribution of types of borrowings in percentages')"
            ]
          },
          "execution_count": 18,
          "metadata": {},
          "output_type": "execute_result"
        },
        {
          "data": {
            "image/png": "[encoded data removed]",
            "text/plain": [
              "<Figure size 600x300 with 1 Axes>"
            ]
          },
          "metadata": {},
          "output_type": "display_data"
        }
      ],
      "source": [
        "# Create a pie chart to show the distribution of types of borrowings in percentages\n",
        "fig, ax = plt.subplots(figsize=(6, 3), subplot_kw=dict(aspect=\"equal\"))\n",
        "\n",
        "def percentage(val, allvals):\n",
        "    absolute = np.round(val*100./float(np.sum(allvals)),decimals=1)\n",
        "    return f\"{absolute:.1f}%\"\n",
        "\n",
        "types_percent = [percentage(val, types_values) for val in types_values]\n",
        "\n",
        "wedges, texts = ax.pie(types_values,pctdistance=0.8, startangle=-80)\n",
        "\n",
        "bbox_props = dict(boxstyle=\"square,pad=0.3\", fc=\"w\", ec=\"k\", lw=0.72)\n",
        "kw = dict(arrowprops=dict(arrowstyle=\"-\"),\n",
        "          bbox=bbox_props, zorder=0, va=\"center\")\n",
        "\n",
        "for i, p in enumerate(wedges):\n",
        "    ang = (p.theta2 - p.theta1)/2. + p.theta1\n",
        "    y = np.sin(np.deg2rad(ang))\n",
        "    x = np.cos(np.deg2rad(ang))\n",
        "    horizontalalignment = {-1: \"right\", 1: \"left\"}[int(np.sign(x))]\n",
        "    connectionstyle = f\"angle,angleA=0,angleB={ang}\"\n",
        "    kw[\"arrowprops\"].update({\"connectionstyle\": connectionstyle})\n",
        "    ax.annotate(f'{types_labels[i]}: {types_percent[i]}', xy=(x, y), xytext=(1.25*np.sign(x), 1.3*y),\n",
        "                horizontalalignment=horizontalalignment, **kw)\n",
        "plt.title(\"Distribution of types of borrowings in percentages\")"
      ]
    },
    {
      "cell_type": "markdown",
      "id": "9a305c85",
      "metadata": {
        "id": "9a305c85"
      },
      "source": [
        "**ANALYSE DATA BY 2 GROUPS: ORIGINAL WORD (FOREIGN LEXEME) VS TRANSLATION (NATIVE LEXEME)**"
      ]
    },
    {
      "cell_type": "code",
      "execution_count": null,
      "id": "c53e4d56",
      "metadata": {
        "id": "c53e4d56",
        "outputId": "18e1c228-6275-4fa7-f1f7-6a8af993bd02"
      },
      "outputs": [
        {
          "data": {
            "text/plain": [
              "Text(0.0, 1.5, 'Distribution of categories of borrowings')"
            ]
          },
          "execution_count": 21,
          "metadata": {},
          "output_type": "execute_result"
        },
        {
          "data": {
            "image/png": "[encoded data removed]",
            "text/plain": [
              "<Figure size 500x100 with 1 Axes>"
            ]
          },
          "metadata": {},
          "output_type": "display_data"
        }
      ],
      "source": [
        "# Count the percentage of each category of loanwords\n",
        "# Foreign lexemes: the lexemes do not exist in Catalan (foreign origin)\n",
        "# Native lexemes: the lexemes exist in Catalan (native origin)\n",
        "counter_categories = Counter(df['loanword_category'])\n",
        "category_labels = list(counter_categories.keys())\n",
        "category_values = list(counter_categories.values())\n",
        "\n",
        "# Adapt the data for the plot\n",
        "def percentage(val, allvals):\n",
        "    absolute = np.round(val*100./float(np.sum(allvals)),decimals=1)\n",
        "    return absolute\n",
        "\n",
        "category_percent = np.array([percentage(val, category_values) for val in category_values])\n",
        "\n",
        "data_cum = category_percent.cumsum()\n",
        "category_colors = plt.colormaps['Blues'](\n",
        "        np.linspace(0.15, 0.5, len(category_percent)))\n",
        "def percentage(val, allvals):\n",
        "    absolute = np.round(val*100./float(np.sum(allvals)),decimals=1)\n",
        "    return f\"{absolute:.1f}%\"\n",
        "\n",
        "# Plot a horizontal bar chart with the categories of loanwords and their percentages\n",
        "fig, ax = plt.subplots(figsize=(5, 1))\n",
        "ax.invert_yaxis()\n",
        "ax.xaxis.set_visible(False)\n",
        "ax.set_xlim(0, 100)\n",
        "\n",
        "for i, (colname, color) in enumerate(zip(category_labels, category_colors)):\n",
        "    widths = category_percent[i]\n",
        "    starts = data_cum[i] - widths\n",
        "    rects = ax.barh('Categories', widths, left=starts, height=0.5,\n",
        "                    label=colname, color=color)\n",
        "\n",
        "    r, g, b, _ = color\n",
        "    text_color = 'white' if r * g * b < 0.5 else 'darkgrey'\n",
        "    ax.bar_label(rects, label_type='center', color=text_color)\n",
        "    ax.legend(ncols=len(category_labels), bbox_to_anchor=(0, 1),\n",
        "            loc='lower left', fontsize='small')\n",
        "plt.title('Distribution of categories of borrowings', y=1.5, loc='left')"
      ]
    },
    {
      "cell_type": "markdown",
      "id": "fab85c97",
      "metadata": {
        "id": "fab85c97"
      },
      "source": [
        "**ANALYSE DATA BY: FULL ADAPTATION VS DIRECT BORROWING (NO CASES FOUND OF PARTIAL ADAPTATION)**"
      ]
    },
    {
      "cell_type": "code",
      "execution_count": null,
      "id": "cb96ed17",
      "metadata": {
        "id": "cb96ed17",
        "outputId": "76ea76af-0373-4b8e-efad-2cb65f8655a7"
      },
      "outputs": [
        {
          "data": {
            "text/plain": [
              "Counter({'full adaptation': 482, 'direct borrowing': 368})"
            ]
          },
          "execution_count": 22,
          "metadata": {},
          "output_type": "execute_result"
        }
      ],
      "source": [
        "# Count the types of loanwords in the foreign lexeme category\n",
        "foreign_lex = Counter(df[df['loanword_category'] == 'foreign lexeme']['loanword_type'])\n",
        "foreign_lex"
      ]
    },
    {
      "cell_type": "code",
      "execution_count": null,
      "id": "4126905c",
      "metadata": {
        "id": "4126905c",
        "outputId": "708ce2b0-862d-421b-ca25-6a495d9e2712"
      },
      "outputs": [
        {
          "name": "stdout",
          "output_type": "stream",
          "text": [
            "% Full adaptations: 56.7\n",
            "% Direct borrowings: 43.3\n"
          ]
        }
      ],
      "source": [
        "# Print the percentage of each type of loanword in the foreign lexeme category\n",
        "print(r'% Full adaptations:', np.round(foreign_lex['full adaptation']*100/np.sum(list(foreign_lex.values())), decimals=1))\n",
        "print(r'% Direct borrowings:', np.round(foreign_lex['direct borrowing']*100/np.sum(list(foreign_lex.values())), decimals=1))"
      ]
    },
    {
      "cell_type": "markdown",
      "id": "1655bd46",
      "metadata": {
        "id": "1655bd46"
      },
      "source": [
        "**ANALYSE DATA BY: CALQUE VS SEMANTIC EXTENSION**"
      ]
    },
    {
      "cell_type": "code",
      "execution_count": null,
      "id": "71df5c8f",
      "metadata": {
        "id": "71df5c8f",
        "outputId": "3667945f-9075-449e-b2ff-a84258f9444a"
      },
      "outputs": [
        {
          "data": {
            "text/plain": [
              "Counter({'calque': 1883,\n",
              "         'semantic extension': 168,\n",
              "         'syntactic composition': 8})"
            ]
          },
          "execution_count": 24,
          "metadata": {},
          "output_type": "execute_result"
        }
      ],
      "source": [
        "# Count the types of loanwords in the native lexeme category\n",
        "native_categ = Counter(df[df['loanword_category'] == 'native lexeme']['loanword_type'])\n",
        "native_categ"
      ]
    },
    {
      "cell_type": "code",
      "execution_count": null,
      "id": "832f072a",
      "metadata": {
        "id": "832f072a",
        "outputId": "04bee070-10e6-4727-bc9a-727954bab824"
      },
      "outputs": [
        {
          "name": "stdout",
          "output_type": "stream",
          "text": [
            "% Calques: 91.5\n",
            "% Semantic extensions: 8.2\n",
            "% Syntactic compositions: 0.4\n"
          ]
        }
      ],
      "source": [
        "# Print the percentages of each type of loanword in the native lexeme category\n",
        "print(r'% Calques:', np.round(native_categ['calque']*100/np.sum(list(native_categ.values())), decimals=1))\n",
        "print(r'% Semantic extensions:', np.round(native_categ['semantic extension']*100/np.sum(list(native_categ.values())), decimals=1))\n",
        "print(r'% Syntactic compositions:', np.round(native_categ['syntactic composition']*100/np.sum(list(native_categ.values())), decimals=1))"
      ]
    },
    {
      "cell_type": "markdown",
      "id": "873c0364",
      "metadata": {
        "id": "873c0364"
      },
      "source": [
        "**CASE STUDY 1: DEGREE OF ADHERENCE TO THE NORM (TERMCAT)**\n",
        "\n",
        "TermCat claims that, whenever possible, the order of preference when incorporating a new word into the language should be:\n",
        "1. Catalan alternative - semantic extension & syntactic composition\n",
        "2. Adaptation\n",
        "3. Calque\n",
        "4. Direct borrowing"
      ]
    },
    {
      "cell_type": "code",
      "execution_count": null,
      "id": "89380026",
      "metadata": {
        "id": "89380026",
        "outputId": "aa8a0cd8-c50e-4ed0-b89b-68e964b8c039"
      },
      "outputs": [
        {
          "data": {
            "text/plain": [
              "Counter({'calque': 1883,\n",
              "         'full adaptation': 482,\n",
              "         'direct borrowing': 368,\n",
              "         'semantic extension': 168,\n",
              "         'syntactic composition': 8})"
            ]
          },
          "execution_count": 26,
          "metadata": {},
          "output_type": "execute_result"
        }
      ],
      "source": [
        "# Our types of borrowings\n",
        "count_types_borrowing = Counter(df['loanword_type'])\n",
        "count_types_borrowing"
      ]
    },
    {
      "cell_type": "code",
      "execution_count": null,
      "id": "b1b22174",
      "metadata": {
        "id": "b1b22174"
      },
      "outputs": [],
      "source": [
        "# Create a classification following TermCat's proposal\n",
        "# Join semantic extension and syntactic composition into \"Catalan alternatives\", leave the rest as they are\n",
        "termcat_categ_borrowings = {}\n",
        "termcat_categ_borrowings['Catalan alternatives'] = count_types_borrowing['semantic extension'] + count_types_borrowing['syntactic composition']\n",
        "termcat_categ_borrowings['Adaptations'] = count_types_borrowing['full adaptation']\n",
        "termcat_categ_borrowings['Calques'] = count_types_borrowing['calque']\n",
        "termcat_categ_borrowings['Direct borrowings'] = count_types_borrowing['direct borrowing']"
      ]
    },
    {
      "cell_type": "code",
      "execution_count": null,
      "id": "83b48131",
      "metadata": {
        "id": "83b48131",
        "outputId": "23bd218f-fa26-4a70-fd10-f370f8ad4408"
      },
      "outputs": [
        {
          "data": {
            "text/plain": [
              "Text(0, 0.5, 'Counts')"
            ]
          },
          "execution_count": 28,
          "metadata": {},
          "output_type": "execute_result"
        },
        {
          "data": {
            "image/png": "[encoded data removed]",
            "text/plain": [
              "<Figure size 640x480 with 1 Axes>"
            ]
          },
          "metadata": {},
          "output_type": "display_data"
        }
      ],
      "source": [
        "# Change each space in the labels for a new line (to fit well into the plot)\n",
        "termcat_labels = list(termcat_categ_borrowings.keys())\n",
        "termcat_lab_wrapped = [lab.replace(' ', '\\n') for lab in termcat_labels]\n",
        "termcat_values = list(termcat_categ_borrowings.values())\n",
        "\n",
        "# Plot a bar chart with the distribution of types of borrowings according to TermCat's proposal (by order of preference)\n",
        "fig, ax = plt.subplots()\n",
        "ax.bar(termcat_lab_wrapped, termcat_values, width=0.5)\n",
        "for i in range(len(termcat_lab_wrapped)):\n",
        "        plt.text(i, termcat_values[i]+15, termcat_values[i], ha='center')\n",
        "plt.title(\"Distribution of types of borrowings by TermCat's proposal\")\n",
        "plt.xlabel(\"Types of borrowings by TermCat\")\n",
        "plt.ylabel(\"Counts\")"
      ]
    },
    {
      "cell_type": "code",
      "execution_count": null,
      "id": "b8849872",
      "metadata": {
        "id": "b8849872",
        "outputId": "525a5a4c-ac53-46c9-f790-1ab89d938475"
      },
      "outputs": [
        {
          "data": {
            "text/plain": [
              "Text(0.0, 1.75, 'Types of borrowings by TermCat')"
            ]
          },
          "execution_count": 29,
          "metadata": {},
          "output_type": "execute_result"
        },
        {
          "data": {
            "image/png": "[encoded data removed]",
            "text/plain": [
              "<Figure size 500x100 with 1 Axes>"
            ]
          },
          "metadata": {},
          "output_type": "display_data"
        }
      ],
      "source": [
        "# Adapt the data for the plot\n",
        "def percentage(val, allvals):\n",
        "    absolute = np.round(val*100./float(np.sum(allvals)),decimals=1)\n",
        "    return absolute\n",
        "\n",
        "category_percent = np.array([percentage(val, termcat_values) for val in termcat_values])\n",
        "\n",
        "data_cum = category_percent.cumsum()\n",
        "category_colors = plt.colormaps['Blues'](\n",
        "        np.linspace(0.15, 0.5, len(category_percent)))\n",
        "def percentage(val, allvals):\n",
        "    absolute = np.round(val*100./float(np.sum(allvals)),decimals=1)\n",
        "    return f\"{absolute:.1f}%\"\n",
        "\n",
        "# Plot a horizontal bar chart with the categories of loanwords and their percentages\n",
        "fig, ax = plt.subplots(figsize=(5, 1))\n",
        "ax.invert_yaxis()\n",
        "ax.xaxis.set_visible(False)\n",
        "ax.set_xlim(0, 100)\n",
        "\n",
        "for i, (colname, color) in enumerate(zip(termcat_lab_wrapped, category_colors)):\n",
        "    widths = category_percent[i]\n",
        "    starts = data_cum[i] - widths\n",
        "    rects = ax.barh('Types', widths, left=starts, height=0.5,\n",
        "                    label=colname, color=color)\n",
        "\n",
        "    r, g, b, _ = color\n",
        "    text_color = 'white' if r * g * b < 0.5 else 'grey'\n",
        "    ax.bar_label(rects, label_type='center', color=text_color)\n",
        "    ax.legend(ncols=len(termcat_lab_wrapped), bbox_to_anchor=(-0.015, 1),\n",
        "            loc='lower left', fontsize='small')\n",
        "plt.title('Types of borrowings by TermCat', y=1.75, loc='left')"
      ]
    },
    {
      "cell_type": "markdown",
      "id": "9c4ba680",
      "metadata": {
        "id": "9c4ba680"
      },
      "source": [
        "**ANALYSE: LIGHT VERB CONSTRUCTIONS**\n",
        "\n",
        "options:<br>\n",
        "INF/PART/GER + Det + Noun_sing<br>\n",
        "INF/PART/GER + Noun_pl\n",
        "\n",
        "light verbs: fer, donar, deixar"
      ]
    },
    {
      "cell_type": "markdown",
      "id": "bab131b7",
      "metadata": {
        "id": "bab131b7"
      },
      "source": [
        "First approach for extracting light verb constructions (deprecated)"
      ]
    },
    {
      "cell_type": "code",
      "execution_count": null,
      "id": "60062707",
      "metadata": {
        "id": "60062707"
      },
      "outputs": [],
      "source": [
        "# Extract light verb constructions from the tweets using regular expressions and a predefined list of light verbs\n",
        "# The light verbs we are interested in are: fer, donar, and deixar, in the different non-finite forms (inf, gerund, masc sing participle)\n",
        "# Not the best strategy\n",
        "\n",
        "constructions = []\n",
        "\n",
        "# Iterate over each row of the dataframe to search the text\n",
        "for _, row in df.iterrows():\n",
        "\n",
        "    # Since we searched for all word in all the tweets, the texts that contain more than one word will be duplicated\n",
        "    # No need to search for all words in each tweet, only the foundWord\n",
        "    word = row['foundWord']\n",
        "    text = row['cleanText']\n",
        "\n",
        "    # Define the pattern and search for it in the text\n",
        "    pattern = r'(?:^|[ !-\\/:-?[-`{-~])((?:fer|fet|fent|donar|donat|donant|deixar|deixat|deixant)(?: \\w+\\b)?\\b ' + word + ')'\n",
        "    matches = re.findall(pattern, text)\n",
        "\n",
        "    # Remove the 'deixar/deixat/deixant de seguir' construction, since it is not a light verb construction\n",
        "    matches = [i for i in matches if i not in ['deixar de seguir', 'deixat de seguir', 'deixant de seguir']]\n",
        "\n",
        "    # Check if there are results\n",
        "    if len(matches) > 0:\n",
        "        constructions.extend(matches) # the variable matches is a list, we want all the values in the same level, not a list of lists, so we use extend instead of append\n"
      ]
    },
    {
      "cell_type": "code",
      "execution_count": null,
      "id": "4624f479",
      "metadata": {
        "id": "4624f479",
        "outputId": "ebfdbbb7-0e15-4d1d-ac52-6b11b79b7117"
      },
      "outputs": [
        {
          "name": "stdout",
          "output_type": "stream",
          "text": [
            "Total constr: 98\n",
            "Unique constr: 65\n"
          ]
        }
      ],
      "source": [
        "print('Total constr:', len(constructions))\n",
        "unique_light_verb_constr = list(set(constructions))\n",
        "print('Unique constr:', len(unique_light_verb_constr))"
      ]
    },
    {
      "cell_type": "markdown",
      "id": "82066531",
      "metadata": {
        "id": "82066531"
      },
      "source": [
        "New approach for extracting light verb constructions"
      ]
    },
    {
      "cell_type": "code",
      "execution_count": null,
      "id": "4f04a490",
      "metadata": {
        "id": "4f04a490",
        "outputId": "c307655b-bc6e-4fcd-c66b-0a1adfbe7694"
      },
      "outputs": [
        {
          "name": "stdout",
          "output_type": "stream",
          "text": [
            "(1842, 18)\n"
          ]
        },
        {
          "data": {
            "text/html": [
              "<div>\n",
              "<style scoped>\n",
              "    .dataframe tbody tr th:only-of-type {\n",
              "        vertical-align: middle;\n",
              "    }\n",
              "\n",
              "    .dataframe tbody tr th {\n",
              "        vertical-align: top;\n",
              "    }\n",
              "\n",
              "    .dataframe thead th {\n",
              "        text-align: right;\n",
              "    }\n",
              "</style>\n",
              "<table border=\"1\" class=\"dataframe\">\n",
              "  <thead>\n",
              "    <tr style=\"text-align: right;\">\n",
              "      <th></th>\n",
              "      <th>id</th>\n",
              "      <th>searchQuery</th>\n",
              "      <th>text</th>\n",
              "      <th>timestamp</th>\n",
              "      <th>cleanText</th>\n",
              "      <th>foundWord</th>\n",
              "      <th>socialMediaSense</th>\n",
              "      <th>original_lemma</th>\n",
              "      <th>loanword_lemma</th>\n",
              "      <th>loanword_form</th>\n",
              "      <th>loanword_pos</th>\n",
              "      <th>loanword_features</th>\n",
              "      <th>loanword_type</th>\n",
              "      <th>loanword_category</th>\n",
              "      <th>tokenized</th>\n",
              "      <th>pos_tags</th>\n",
              "      <th>detected_pos</th>\n",
              "      <th>year_month</th>\n",
              "    </tr>\n",
              "  </thead>\n",
              "  <tbody>\n",
              "    <tr>\n",
              "      <th>0</th>\n",
              "      <td>1620116848825217024</td>\n",
              "      <td>retuit</td>\n",
              "      <td>et segueixo i no puc fer retuit a les teves pi...</td>\n",
              "      <td>2023-01-30 17:48:00+00:00</td>\n",
              "      <td>et segueixo i no puc fer retuit a les teves pi...</td>\n",
              "      <td>retuit</td>\n",
              "      <td>1</td>\n",
              "      <td>retweet</td>\n",
              "      <td>retuit</td>\n",
              "      <td>retuit</td>\n",
              "      <td>noun</td>\n",
              "      <td>singular</td>\n",
              "      <td>full adaptation</td>\n",
              "      <td>foreign lexeme</td>\n",
              "      <td>[et, segueixo, i, no, puc, fer, retuit, a, les...</td>\n",
              "      <td>[pron, verb, cconj, adv, aux, verb, noun, adp,...</td>\n",
              "      <td>noun</td>\n",
              "      <td>2023-01</td>\n",
              "    </tr>\n",
              "    <tr>\n",
              "      <th>1</th>\n",
              "      <td>1652264071687806977</td>\n",
              "      <td>tuits</td>\n",
              "      <td>sí.\\nsolen ser tuits patrocinats. \\nde pagament.</td>\n",
              "      <td>2023-04-29T10:50:00.000Z</td>\n",
              "      <td>sí. solen ser tuits patrocinats. de pagament.</td>\n",
              "      <td>tuits</td>\n",
              "      <td>1</td>\n",
              "      <td>tweet</td>\n",
              "      <td>tuit</td>\n",
              "      <td>tuits</td>\n",
              "      <td>noun</td>\n",
              "      <td>plural</td>\n",
              "      <td>full adaptation</td>\n",
              "      <td>foreign lexeme</td>\n",
              "      <td>[sí, ., solen, ser, tuits, patrocinats, ., de,...</td>\n",
              "      <td>[adv, punct, verb, aux, noun, adj, punct, adp,...</td>\n",
              "      <td>noun</td>\n",
              "      <td>2023-04</td>\n",
              "    </tr>\n",
              "    <tr>\n",
              "      <th>4</th>\n",
              "      <td>1620159160997355520</td>\n",
              "      <td>tuit</td>\n",
              "      <td>no passa res... un tuit i a dormir.\\nfeina fet...</td>\n",
              "      <td>2023-01-30 20:36:00+00:00</td>\n",
              "      <td>no passa res... un tuit i a dormir. feina feta...</td>\n",
              "      <td>tuit</td>\n",
              "      <td>1</td>\n",
              "      <td>tweet</td>\n",
              "      <td>tuit</td>\n",
              "      <td>tuit</td>\n",
              "      <td>noun</td>\n",
              "      <td>singular</td>\n",
              "      <td>full adaptation</td>\n",
              "      <td>foreign lexeme</td>\n",
              "      <td>[no, passa, res, ..., un, tuit, i, a, dormir, ...</td>\n",
              "      <td>[adv, verb, pron, punct, det, noun, cconj, adp...</td>\n",
              "      <td>noun</td>\n",
              "      <td>2023-01</td>\n",
              "    </tr>\n",
              "    <tr>\n",
              "      <th>5</th>\n",
              "      <td>1619992121070743552</td>\n",
              "      <td>missatge directe</td>\n",
              "      <td>hola sílvia, hem vist el teu tuit. ens pots ex...</td>\n",
              "      <td>2023-01-30 09:33:00+00:00</td>\n",
              "      <td>hola sílvia, hem vist el teu tuit. ens pots ex...</td>\n",
              "      <td>missatge</td>\n",
              "      <td>1</td>\n",
              "      <td>message</td>\n",
              "      <td>missatge</td>\n",
              "      <td>missatge</td>\n",
              "      <td>noun</td>\n",
              "      <td>singular</td>\n",
              "      <td>calque</td>\n",
              "      <td>native lexeme</td>\n",
              "      <td>[hola, sílvia, ,, hem, vist, el, teu, tuit, .,...</td>\n",
              "      <td>[propn, propn, punct, aux, verb, det, det, nou...</td>\n",
              "      <td>noun</td>\n",
              "      <td>2023-01</td>\n",
              "    </tr>\n",
              "    <tr>\n",
              "      <th>7</th>\n",
              "      <td>1718544104508838085</td>\n",
              "      <td>respostes</td>\n",
              "      <td>imaginem una ia que sigui capaç de simular les...</td>\n",
              "      <td>2023-10-29T08:23:00.000Z</td>\n",
              "      <td>imaginem una ia que sigui capaç de simular les...</td>\n",
              "      <td>respostes</td>\n",
              "      <td>1</td>\n",
              "      <td>reply</td>\n",
              "      <td>resposta</td>\n",
              "      <td>respostes</td>\n",
              "      <td>noun</td>\n",
              "      <td>plural</td>\n",
              "      <td>calque</td>\n",
              "      <td>native lexeme</td>\n",
              "      <td>[imaginem, una, ia, que, sigui, capaç, de, sim...</td>\n",
              "      <td>[verb, det, noun, pron, aux, adj, adp, verb, d...</td>\n",
              "      <td>noun</td>\n",
              "      <td>2023-10</td>\n",
              "    </tr>\n",
              "  </tbody>\n",
              "</table>\n",
              "</div>"
            ],
            "text/plain": [
              "                    id       searchQuery  \\\n",
              "0  1620116848825217024            retuit   \n",
              "1  1652264071687806977             tuits   \n",
              "4  1620159160997355520              tuit   \n",
              "5  1619992121070743552  missatge directe   \n",
              "7  1718544104508838085         respostes   \n",
              "\n",
              "                                                text  \\\n",
              "0  et segueixo i no puc fer retuit a les teves pi...   \n",
              "1   sí.\\nsolen ser tuits patrocinats. \\nde pagament.   \n",
              "4  no passa res... un tuit i a dormir.\\nfeina fet...   \n",
              "5  hola sílvia, hem vist el teu tuit. ens pots ex...   \n",
              "7  imaginem una ia que sigui capaç de simular les...   \n",
              "\n",
              "                   timestamp  \\\n",
              "0  2023-01-30 17:48:00+00:00   \n",
              "1   2023-04-29T10:50:00.000Z   \n",
              "4  2023-01-30 20:36:00+00:00   \n",
              "5  2023-01-30 09:33:00+00:00   \n",
              "7   2023-10-29T08:23:00.000Z   \n",
              "\n",
              "                                           cleanText  foundWord  \\\n",
              "0  et segueixo i no puc fer retuit a les teves pi...     retuit   \n",
              "1      sí. solen ser tuits patrocinats. de pagament.      tuits   \n",
              "4  no passa res... un tuit i a dormir. feina feta...       tuit   \n",
              "5  hola sílvia, hem vist el teu tuit. ens pots ex...   missatge   \n",
              "7  imaginem una ia que sigui capaç de simular les...  respostes   \n",
              "\n",
              "   socialMediaSense original_lemma loanword_lemma loanword_form loanword_pos  \\\n",
              "0                 1        retweet         retuit        retuit         noun   \n",
              "1                 1          tweet           tuit         tuits         noun   \n",
              "4                 1          tweet           tuit          tuit         noun   \n",
              "5                 1        message       missatge      missatge         noun   \n",
              "7                 1          reply       resposta     respostes         noun   \n",
              "\n",
              "  loanword_features    loanword_type loanword_category  \\\n",
              "0          singular  full adaptation    foreign lexeme   \n",
              "1            plural  full adaptation    foreign lexeme   \n",
              "4          singular  full adaptation    foreign lexeme   \n",
              "5          singular           calque     native lexeme   \n",
              "7            plural           calque     native lexeme   \n",
              "\n",
              "                                           tokenized  \\\n",
              "0  [et, segueixo, i, no, puc, fer, retuit, a, les...   \n",
              "1  [sí, ., solen, ser, tuits, patrocinats, ., de,...   \n",
              "4  [no, passa, res, ..., un, tuit, i, a, dormir, ...   \n",
              "5  [hola, sílvia, ,, hem, vist, el, teu, tuit, .,...   \n",
              "7  [imaginem, una, ia, que, sigui, capaç, de, sim...   \n",
              "\n",
              "                                            pos_tags detected_pos year_month  \n",
              "0  [pron, verb, cconj, adv, aux, verb, noun, adp,...         noun    2023-01  \n",
              "1  [adv, punct, verb, aux, noun, adj, punct, adp,...         noun    2023-04  \n",
              "4  [adv, verb, pron, punct, det, noun, cconj, adp...         noun    2023-01  \n",
              "5  [propn, propn, punct, aux, verb, det, det, nou...         noun    2023-01  \n",
              "7  [verb, det, noun, pron, aux, adj, adp, verb, d...         noun    2023-10  "
            ]
          },
          "execution_count": 36,
          "metadata": {},
          "output_type": "execute_result"
        }
      ],
      "source": [
        "# Get the rows with the nouns in our list of words\n",
        "df_nouns = df[(df['loanword_pos'].str.contains('noun')) & (df['detected_pos'].isin(['noun', '', 'propn']))]\n",
        "print(df_nouns.shape)\n",
        "df_nouns.head()"
      ]
    },
    {
      "cell_type": "code",
      "execution_count": null,
      "id": "6af15872",
      "metadata": {
        "id": "6af15872"
      },
      "outputs": [],
      "source": [
        "# Function to find verbs on the left of the target nouns\n",
        "# We only consider the verbs in the non-finite forms (infinitive, gerund, masculine singular participle), because they are the ones that we extracted the tweets for\n",
        "# Other forms wouldn't be representative of the real distribution of data, since we didn't search for them\n",
        "def find_light_verb_constructions(word: str, tok_text: tuple, pos_tags: tuple) -> list:\n",
        "    # Find index of the word in the tokenized list and then use the index to find the value in the pos_tags list\n",
        "    context = ''\n",
        "    verb_form = ''\n",
        "    lemma = ''\n",
        "    lem_context = ''\n",
        "    idx = 0\n",
        "    try:\n",
        "        # First, we tokenize the foundWord. E.g. \"m'agrada\" has 2 tokens -> [\"m'\", \"agrada\"]\n",
        "        d = nlp(word)\n",
        "        tok_word = [tok.text for tok in d]\n",
        "        #print(tok_word)\n",
        "        len_tok_word = len(tok_word)  # Number of tokens in the word\n",
        "\n",
        "        # If the word has more than one token, we take the first one (e.g. \"m'agrada\" -> \"m'\")\n",
        "        if len(tok_word) > 1:\n",
        "            # Find the slice of the tokenized text that matches the word (list of tokens)\n",
        "            for i in range(0, len(tok_text)-len_tok_word+1):\n",
        "                slice = tok_text[i:i+len_tok_word]\n",
        "                # If the slice matches the word, we take the index of the first token of the word\n",
        "                if slice == tok_word:\n",
        "                    idx = i\n",
        "                    #print(f'idx = {idx}, slice = {slice}, tok_word = {tok_word}')\n",
        "                    break\n",
        "        else:\n",
        "            # If the word has only one token, we find the index of the token in the tokenized text\n",
        "            idx = tok_text.index(tok_word[0])\n",
        "        #print(idx)\n",
        "\n",
        "        # Now we have the indices of the tokens that match the word in the tokenized text\n",
        "        # We take the left context of each instance of the word (given by the indices) - where the verb should be\n",
        "        # But we only contemplate a small window of the left context, 3 tokens before the word\n",
        "        ini = max(0, idx-3)  # Ensure we don't go out of bounds\n",
        "        left_context = tok_text[ini:idx]\n",
        "        #print(left_context)\n",
        "\n",
        "        # We check the POS tags of the left context to find a verb\n",
        "        # We could find a determiner in betweeen the verb and the target noun, or a punctuation mark. E.g: fer 'mute'\n",
        "        for i in range(idx-1, ini, -1): # go backwards, from the end to the beginning of the context\n",
        "            #print(i, left_context[i], pos_tags[i])\n",
        "            # Check if the current token is a verb, a determiner, or a punctuation mark\n",
        "            if pos_tags[i] == 'verb':\n",
        "                # If we find a verb, stop and return a string from this position up to the target word\n",
        "                context = \" \".join(tok_text[i:idx]) + ' ' + word # include the target word (if we get the word from the slice, in the m'agrada case, there would be a space after the apostrophe)\n",
        "                # Finally, we tokenize the context to make sure that the verb is in one of the non-finite forms we are interested in\n",
        "                d = nlp(context)\n",
        "                # We know the verb is in the first position because we stopped the search when we found it\n",
        "                found_verb_forms = set(d[0].morph.get('VerbForm'))\n",
        "                non_fin_forms = {'Inf', 'Ger', 'Part'}  # Non-finite forms we are interested in\n",
        "                # Check if the verb is in one of the non-finite forms we are interested in (we intersect the two sets)\n",
        "                form_inters = found_verb_forms.intersection(non_fin_forms)\n",
        "                if form_inters: # intersection not empty\n",
        "                    # If the verb is in one of the non-finite forms we are interested in, we keep the context\n",
        "                    # and we return it together with its verb form, the lemma of the verb and the context with the verb lemmatized\n",
        "                    verb_form = form_inters.pop()  # Get the first form in the intersection\n",
        "                    lemma = d[0].lemma_\n",
        "                    # Fin the position of the space after the verb in the context\n",
        "                    pos_space = context.find(' ')\n",
        "                    # We change the inflected verb for the lemma in the context\n",
        "                    lem_context = lemma + context[pos_space:]\n",
        "                else:\n",
        "                    # If the verb is not in one of the non-finite forms we are interested in, we empty the context and lemma\n",
        "                    context = ''\n",
        "                break\n",
        "            # Punctuation marks are only allowed if they are quotation marks\n",
        "            elif pos_tags[i] == 'punct' and tok_text[i] not in ['\"', \"'\", '“', '”']:\n",
        "                # If we find a punctuation mark different from quotes, we stop the search\n",
        "                break\n",
        "            elif pos_tags[i] == 'det' or pos_tags[i] == 'adj':\n",
        "                # If we find a determiner or adjective, we continue the search\n",
        "                continue\n",
        "            else:\n",
        "                # If we find any other POS tag, we stop the search\n",
        "                break\n",
        "\n",
        "    except:\n",
        "        # If we don't find any verb, we return an empty list\n",
        "        pass\n",
        "    #print(f'final context: {context} - lemma: {lemma}')\n",
        "    return context, verb_form, lemma, lem_context"
      ]
    },
    {
      "cell_type": "code",
      "execution_count": null,
      "id": "5d734ee1",
      "metadata": {
        "id": "5d734ee1",
        "outputId": "1856d6ad-0c2e-44a6-e312-4fc79b040d8c"
      },
      "outputs": [
        {
          "data": {
            "text/plain": [
              "('fer un tweet', 'Inf', 'fer', 'fer un tweet')"
            ]
          },
          "execution_count": 38,
          "metadata": {},
          "output_type": "execute_result"
        }
      ],
      "source": [
        "# TESTING\n",
        "id = 165 # 0, 23\n",
        "word = df_nouns['foundWord'][id]\n",
        "tok_text = df_nouns['tokenized'][id]\n",
        "pos_tags = df_nouns['pos_tags'][id]\n",
        "\n",
        "find_light_verb_constructions(word, tok_text, pos_tags)"
      ]
    },
    {
      "cell_type": "code",
      "execution_count": null,
      "id": "c4728d17",
      "metadata": {
        "id": "c4728d17",
        "outputId": "84824ced-93bc-4b5b-e40f-d4ca8de9ead3"
      },
      "outputs": [
        {
          "name": "stderr",
          "output_type": "stream",
          "text": [
            "/var/folders/n5/fr7ssm7s57z_7psd2b6ddp9r0000gp/T/ipykernel_65516/2522837862.py:5: SettingWithCopyWarning: \n",
            "A value is trying to be set on a copy of a slice from a DataFrame.\n",
            "Try using .loc[row_indexer,col_indexer] = value instead\n",
            "\n",
            "See the caveats in the documentation: https://pandas.pydata.org/pandas-docs/stable/user_guide/indexing.html#returning-a-view-versus-a-copy\n",
            "  df_nouns.at[_, 'verb_constr'] = constr\n",
            "/var/folders/n5/fr7ssm7s57z_7psd2b6ddp9r0000gp/T/ipykernel_65516/2522837862.py:6: SettingWithCopyWarning: \n",
            "A value is trying to be set on a copy of a slice from a DataFrame.\n",
            "Try using .loc[row_indexer,col_indexer] = value instead\n",
            "\n",
            "See the caveats in the documentation: https://pandas.pydata.org/pandas-docs/stable/user_guide/indexing.html#returning-a-view-versus-a-copy\n",
            "  df_nouns.at[_, 'verb_form'] = verb_form\n",
            "/var/folders/n5/fr7ssm7s57z_7psd2b6ddp9r0000gp/T/ipykernel_65516/2522837862.py:7: SettingWithCopyWarning: \n",
            "A value is trying to be set on a copy of a slice from a DataFrame.\n",
            "Try using .loc[row_indexer,col_indexer] = value instead\n",
            "\n",
            "See the caveats in the documentation: https://pandas.pydata.org/pandas-docs/stable/user_guide/indexing.html#returning-a-view-versus-a-copy\n",
            "  df_nouns.at[_, 'verb_lemma'] = lemma\n",
            "/var/folders/n5/fr7ssm7s57z_7psd2b6ddp9r0000gp/T/ipykernel_65516/2522837862.py:8: SettingWithCopyWarning: \n",
            "A value is trying to be set on a copy of a slice from a DataFrame.\n",
            "Try using .loc[row_indexer,col_indexer] = value instead\n",
            "\n",
            "See the caveats in the documentation: https://pandas.pydata.org/pandas-docs/stable/user_guide/indexing.html#returning-a-view-versus-a-copy\n",
            "  df_nouns.at[_, 'verb_lemma_constr'] = lem_constr\n"
          ]
        }
      ],
      "source": [
        "# We apply the function to each row of the dataframe, passing the foundWord, tokenized text, and POS tags\n",
        "# The function returns a tuple with the verb construction, the verb form, the lemma of the verb, and the lemma of the construction\n",
        "for _, row in df_nouns.iterrows():\n",
        "    constr, verb_form, lemma, lem_constr = find_light_verb_constructions(row['foundWord'], row['tokenized'], row['pos_tags'])\n",
        "    df_nouns.at[_, 'verb_constr'] = constr\n",
        "    df_nouns.at[_, 'verb_form'] = verb_form\n",
        "    df_nouns.at[_, 'verb_lemma'] = lemma\n",
        "    df_nouns.at[_, 'verb_lemma_constr'] = lem_constr"
      ]
    },
    {
      "cell_type": "code",
      "execution_count": null,
      "id": "7ab28abe",
      "metadata": {
        "id": "7ab28abe",
        "outputId": "fc0d8920-92e2-40c4-969e-3e14d4efa229"
      },
      "outputs": [
        {
          "name": "stdout",
          "output_type": "stream",
          "text": [
            "(253, 22)\n"
          ]
        },
        {
          "data": {
            "text/html": [
              "<div>\n",
              "<style scoped>\n",
              "    .dataframe tbody tr th:only-of-type {\n",
              "        vertical-align: middle;\n",
              "    }\n",
              "\n",
              "    .dataframe tbody tr th {\n",
              "        vertical-align: top;\n",
              "    }\n",
              "\n",
              "    .dataframe thead th {\n",
              "        text-align: right;\n",
              "    }\n",
              "</style>\n",
              "<table border=\"1\" class=\"dataframe\">\n",
              "  <thead>\n",
              "    <tr style=\"text-align: right;\">\n",
              "      <th></th>\n",
              "      <th>id</th>\n",
              "      <th>searchQuery</th>\n",
              "      <th>text</th>\n",
              "      <th>timestamp</th>\n",
              "      <th>cleanText</th>\n",
              "      <th>foundWord</th>\n",
              "      <th>socialMediaSense</th>\n",
              "      <th>original_lemma</th>\n",
              "      <th>loanword_lemma</th>\n",
              "      <th>loanword_form</th>\n",
              "      <th>...</th>\n",
              "      <th>loanword_type</th>\n",
              "      <th>loanword_category</th>\n",
              "      <th>tokenized</th>\n",
              "      <th>pos_tags</th>\n",
              "      <th>detected_pos</th>\n",
              "      <th>year_month</th>\n",
              "      <th>verb_constr</th>\n",
              "      <th>verb_form</th>\n",
              "      <th>verb_lemma</th>\n",
              "      <th>verb_lemma_constr</th>\n",
              "    </tr>\n",
              "  </thead>\n",
              "  <tbody>\n",
              "    <tr>\n",
              "      <th>0</th>\n",
              "      <td>1620116848825217024</td>\n",
              "      <td>retuit</td>\n",
              "      <td>et segueixo i no puc fer retuit a les teves pi...</td>\n",
              "      <td>2023-01-30 17:48:00+00:00</td>\n",
              "      <td>et segueixo i no puc fer retuit a les teves pi...</td>\n",
              "      <td>retuit</td>\n",
              "      <td>1</td>\n",
              "      <td>retweet</td>\n",
              "      <td>retuit</td>\n",
              "      <td>retuit</td>\n",
              "      <td>...</td>\n",
              "      <td>full adaptation</td>\n",
              "      <td>foreign lexeme</td>\n",
              "      <td>[et, segueixo, i, no, puc, fer, retuit, a, les...</td>\n",
              "      <td>[pron, verb, cconj, adv, aux, verb, noun, adp,...</td>\n",
              "      <td>noun</td>\n",
              "      <td>2023-01</td>\n",
              "      <td>fer retuit</td>\n",
              "      <td>Inf</td>\n",
              "      <td>fer</td>\n",
              "      <td>fer retuit</td>\n",
              "    </tr>\n",
              "    <tr>\n",
              "      <th>7</th>\n",
              "      <td>1718544104508838085</td>\n",
              "      <td>respostes</td>\n",
              "      <td>imaginem una ia que sigui capaç de simular les...</td>\n",
              "      <td>2023-10-29T08:23:00.000Z</td>\n",
              "      <td>imaginem una ia que sigui capaç de simular les...</td>\n",
              "      <td>respostes</td>\n",
              "      <td>1</td>\n",
              "      <td>reply</td>\n",
              "      <td>resposta</td>\n",
              "      <td>respostes</td>\n",
              "      <td>...</td>\n",
              "      <td>calque</td>\n",
              "      <td>native lexeme</td>\n",
              "      <td>[imaginem, una, ia, que, sigui, capaç, de, sim...</td>\n",
              "      <td>[verb, det, noun, pron, aux, adj, adp, verb, d...</td>\n",
              "      <td>noun</td>\n",
              "      <td>2023-10</td>\n",
              "      <td>simular les respostes</td>\n",
              "      <td>Inf</td>\n",
              "      <td>simular</td>\n",
              "      <td>simular les respostes</td>\n",
              "    </tr>\n",
              "    <tr>\n",
              "      <th>29</th>\n",
              "      <td>1718651703115842033</td>\n",
              "      <td>likes</td>\n",
              "      <td>puigdemontistes titllant de cunyat a ningú 🤣🤣🤣...</td>\n",
              "      <td>2023-10-29T15:31:00.000Z</td>\n",
              "      <td>puigdemontistes titllant de cunyat a ningú 🤣🤣🤣...</td>\n",
              "      <td>likes</td>\n",
              "      <td>1</td>\n",
              "      <td>like</td>\n",
              "      <td>like</td>\n",
              "      <td>likes</td>\n",
              "      <td>...</td>\n",
              "      <td>direct borrowing</td>\n",
              "      <td>foreign lexeme</td>\n",
              "      <td>[puigdemontistes, titllant, de, cunyat, a, nin...</td>\n",
              "      <td>[adj, verb, adp, noun, adp, pron, pron, verb, ...</td>\n",
              "      <td>noun</td>\n",
              "      <td>2023-10</td>\n",
              "      <td>arreplegar likes</td>\n",
              "      <td>Inf</td>\n",
              "      <td>arreplegar</td>\n",
              "      <td>arreplegar likes</td>\n",
              "    </tr>\n",
              "    <tr>\n",
              "      <th>38</th>\n",
              "      <td>1652346629607903241</td>\n",
              "      <td>tuits</td>\n",
              "      <td>sempre ho dic, tinc molta capacitat per escriu...</td>\n",
              "      <td>2023-04-29T16:18:00.000Z</td>\n",
              "      <td>sempre ho dic, tinc molta capacitat per escriu...</td>\n",
              "      <td>tuits</td>\n",
              "      <td>1</td>\n",
              "      <td>tweet</td>\n",
              "      <td>tuit</td>\n",
              "      <td>tuits</td>\n",
              "      <td>...</td>\n",
              "      <td>full adaptation</td>\n",
              "      <td>foreign lexeme</td>\n",
              "      <td>[sempre, ho, dic, ,, tinc, molta, capacitat, p...</td>\n",
              "      <td>[adv, pron, verb, punct, verb, det, noun, adp,...</td>\n",
              "      <td>noun</td>\n",
              "      <td>2023-04</td>\n",
              "      <td>escriure tuits</td>\n",
              "      <td>Inf</td>\n",
              "      <td>escriure</td>\n",
              "      <td>escriure tuits</td>\n",
              "    </tr>\n",
              "    <tr>\n",
              "      <th>66</th>\n",
              "      <td>1619962362446086144</td>\n",
              "      <td>tweet</td>\n",
              "      <td>ha arribat el dia de fer el titular cutre que ...</td>\n",
              "      <td>2023-01-30 07:34:00+00:00</td>\n",
              "      <td>ha arribat el dia de fer el titular cutre que ...</td>\n",
              "      <td>tweet</td>\n",
              "      <td>1</td>\n",
              "      <td>tweet</td>\n",
              "      <td>tweet</td>\n",
              "      <td>tweet</td>\n",
              "      <td>...</td>\n",
              "      <td>direct borrowing</td>\n",
              "      <td>foreign lexeme</td>\n",
              "      <td>[ha, arribat, el, dia, de, fer, el, titular, c...</td>\n",
              "      <td>[aux, verb, det, noun, adp, verb, det, noun, a...</td>\n",
              "      <td>noun</td>\n",
              "      <td>2023-01</td>\n",
              "      <td>fer aquest tweet</td>\n",
              "      <td>Inf</td>\n",
              "      <td>fer</td>\n",
              "      <td>fer aquest tweet</td>\n",
              "    </tr>\n",
              "  </tbody>\n",
              "</table>\n",
              "<p>5 rows × 22 columns</p>\n",
              "</div>"
            ],
            "text/plain": [
              "                     id searchQuery  \\\n",
              "0   1620116848825217024      retuit   \n",
              "7   1718544104508838085   respostes   \n",
              "29  1718651703115842033       likes   \n",
              "38  1652346629607903241       tuits   \n",
              "66  1619962362446086144       tweet   \n",
              "\n",
              "                                                 text  \\\n",
              "0   et segueixo i no puc fer retuit a les teves pi...   \n",
              "7   imaginem una ia que sigui capaç de simular les...   \n",
              "29  puigdemontistes titllant de cunyat a ningú 🤣🤣🤣...   \n",
              "38  sempre ho dic, tinc molta capacitat per escriu...   \n",
              "66  ha arribat el dia de fer el titular cutre que ...   \n",
              "\n",
              "                    timestamp  \\\n",
              "0   2023-01-30 17:48:00+00:00   \n",
              "7    2023-10-29T08:23:00.000Z   \n",
              "29   2023-10-29T15:31:00.000Z   \n",
              "38   2023-04-29T16:18:00.000Z   \n",
              "66  2023-01-30 07:34:00+00:00   \n",
              "\n",
              "                                            cleanText  foundWord  \\\n",
              "0   et segueixo i no puc fer retuit a les teves pi...     retuit   \n",
              "7   imaginem una ia que sigui capaç de simular les...  respostes   \n",
              "29  puigdemontistes titllant de cunyat a ningú 🤣🤣🤣...      likes   \n",
              "38  sempre ho dic, tinc molta capacitat per escriu...      tuits   \n",
              "66  ha arribat el dia de fer el titular cutre que ...      tweet   \n",
              "\n",
              "    socialMediaSense original_lemma loanword_lemma loanword_form  ...  \\\n",
              "0                  1        retweet         retuit        retuit  ...   \n",
              "7                  1          reply       resposta     respostes  ...   \n",
              "29                 1           like           like         likes  ...   \n",
              "38                 1          tweet           tuit         tuits  ...   \n",
              "66                 1          tweet          tweet         tweet  ...   \n",
              "\n",
              "       loanword_type loanword_category  \\\n",
              "0    full adaptation    foreign lexeme   \n",
              "7             calque     native lexeme   \n",
              "29  direct borrowing    foreign lexeme   \n",
              "38   full adaptation    foreign lexeme   \n",
              "66  direct borrowing    foreign lexeme   \n",
              "\n",
              "                                            tokenized  \\\n",
              "0   [et, segueixo, i, no, puc, fer, retuit, a, les...   \n",
              "7   [imaginem, una, ia, que, sigui, capaç, de, sim...   \n",
              "29  [puigdemontistes, titllant, de, cunyat, a, nin...   \n",
              "38  [sempre, ho, dic, ,, tinc, molta, capacitat, p...   \n",
              "66  [ha, arribat, el, dia, de, fer, el, titular, c...   \n",
              "\n",
              "                                             pos_tags detected_pos year_month  \\\n",
              "0   [pron, verb, cconj, adv, aux, verb, noun, adp,...         noun    2023-01   \n",
              "7   [verb, det, noun, pron, aux, adj, adp, verb, d...         noun    2023-10   \n",
              "29  [adj, verb, adp, noun, adp, pron, pron, verb, ...         noun    2023-10   \n",
              "38  [adv, pron, verb, punct, verb, det, noun, adp,...         noun    2023-04   \n",
              "66  [aux, verb, det, noun, adp, verb, det, noun, a...         noun    2023-01   \n",
              "\n",
              "              verb_constr verb_form  verb_lemma      verb_lemma_constr  \n",
              "0              fer retuit       Inf         fer             fer retuit  \n",
              "7   simular les respostes       Inf     simular  simular les respostes  \n",
              "29       arreplegar likes       Inf  arreplegar       arreplegar likes  \n",
              "38         escriure tuits       Inf    escriure         escriure tuits  \n",
              "66       fer aquest tweet       Inf         fer       fer aquest tweet  \n",
              "\n",
              "[5 rows x 22 columns]"
            ]
          },
          "execution_count": 40,
          "metadata": {},
          "output_type": "execute_result"
        }
      ],
      "source": [
        "# Create a new dataframe with the verb constructions\n",
        "df_verb_constr = df_nouns[df_nouns['verb_constr'] != '']\n",
        "print(df_verb_constr.shape)\n",
        "df_verb_constr.head()"
      ]
    },
    {
      "cell_type": "code",
      "execution_count": null,
      "id": "1b74eac8",
      "metadata": {
        "id": "1b74eac8",
        "outputId": "aff0fe24-293b-4582-e110-f062d78ba278"
      },
      "outputs": [
        {
          "data": {
            "text/html": [
              "<div>\n",
              "<style scoped>\n",
              "    .dataframe tbody tr th:only-of-type {\n",
              "        vertical-align: middle;\n",
              "    }\n",
              "\n",
              "    .dataframe tbody tr th {\n",
              "        vertical-align: top;\n",
              "    }\n",
              "\n",
              "    .dataframe thead th {\n",
              "        text-align: right;\n",
              "    }\n",
              "</style>\n",
              "<table border=\"1\" class=\"dataframe\">\n",
              "  <thead>\n",
              "    <tr style=\"text-align: right;\">\n",
              "      <th></th>\n",
              "      <th>id</th>\n",
              "      <th>searchQuery</th>\n",
              "      <th>text</th>\n",
              "      <th>timestamp</th>\n",
              "      <th>cleanText</th>\n",
              "      <th>foundWord</th>\n",
              "      <th>socialMediaSense</th>\n",
              "      <th>original_lemma</th>\n",
              "      <th>loanword_lemma</th>\n",
              "      <th>loanword_form</th>\n",
              "      <th>...</th>\n",
              "      <th>loanword_type</th>\n",
              "      <th>loanword_category</th>\n",
              "      <th>tokenized</th>\n",
              "      <th>pos_tags</th>\n",
              "      <th>detected_pos</th>\n",
              "      <th>year_month</th>\n",
              "      <th>verb_constr</th>\n",
              "      <th>verb_form</th>\n",
              "      <th>verb_lemma</th>\n",
              "      <th>verb_lemma_constr</th>\n",
              "    </tr>\n",
              "  </thead>\n",
              "  <tbody>\n",
              "    <tr>\n",
              "      <th>331</th>\n",
              "      <td>1620151513384624128</td>\n",
              "      <td>etiqueta</td>\n",
              "      <td>1. @tinavalles_ , hem recuperat uns tuits que ...</td>\n",
              "      <td>2023-01-30 20:06:00+00:00</td>\n",
              "      <td>1. @tinavalles_ , hem recuperat uns tuits que ...</td>\n",
              "      <td>tuits</td>\n",
              "      <td>1</td>\n",
              "      <td>tweet</td>\n",
              "      <td>tuit</td>\n",
              "      <td>tuits</td>\n",
              "      <td>...</td>\n",
              "      <td>full adaptation</td>\n",
              "      <td>foreign lexeme</td>\n",
              "      <td>[1, ., @tinavalles, _, ,, hem, recuperat, uns,...</td>\n",
              "      <td>[num, punct, adj, punct, punct, aux, verb, det...</td>\n",
              "      <td>noun</td>\n",
              "      <td>2023-01</td>\n",
              "      <td>recuperat uns tuits</td>\n",
              "      <td>Part</td>\n",
              "      <td>recuperat</td>\n",
              "      <td>recuperat uns tuits</td>\n",
              "    </tr>\n",
              "    <tr>\n",
              "      <th>504</th>\n",
              "      <td>1620182281238495232</td>\n",
              "      <td>missatge</td>\n",
              "      <td>té a veure amb el grup? pq he passat els missa...</td>\n",
              "      <td>2023-01-30 22:08:00+00:00</td>\n",
              "      <td>té a veure amb el grup? pq he passat els missa...</td>\n",
              "      <td>missatges</td>\n",
              "      <td>1</td>\n",
              "      <td>message</td>\n",
              "      <td>missatge</td>\n",
              "      <td>missatges</td>\n",
              "      <td>...</td>\n",
              "      <td>calque</td>\n",
              "      <td>native lexeme</td>\n",
              "      <td>[té, a, veure, amb, el, grup, ?, pq, he, passa...</td>\n",
              "      <td>[verb, adp, noun, adp, det, noun, punct, pron,...</td>\n",
              "      <td>noun</td>\n",
              "      <td>2023-01</td>\n",
              "      <td>passat els missatges</td>\n",
              "      <td>Part</td>\n",
              "      <td>passat</td>\n",
              "      <td>passat els missatges</td>\n",
              "    </tr>\n",
              "    <tr>\n",
              "      <th>543</th>\n",
              "      <td>1619985377837862912</td>\n",
              "      <td>tweet</td>\n",
              "      <td>he denunciat el tweet, però també cal tenir en...</td>\n",
              "      <td>2023-01-30 09:06:00+00:00</td>\n",
              "      <td>he denunciat el tweet, però també cal tenir en...</td>\n",
              "      <td>tweet</td>\n",
              "      <td>1</td>\n",
              "      <td>tweet</td>\n",
              "      <td>tweet</td>\n",
              "      <td>tweet</td>\n",
              "      <td>...</td>\n",
              "      <td>direct borrowing</td>\n",
              "      <td>foreign lexeme</td>\n",
              "      <td>[he, denunciat, el, tweet, ,, però, també, cal...</td>\n",
              "      <td>[aux, verb, det, noun, punct, cconj, adv, verb...</td>\n",
              "      <td>noun</td>\n",
              "      <td>2023-01</td>\n",
              "      <td>denunciat el tweet</td>\n",
              "      <td>Part</td>\n",
              "      <td>denunciat</td>\n",
              "      <td>denunciat el tweet</td>\n",
              "    </tr>\n",
              "    <tr>\n",
              "      <th>1005</th>\n",
              "      <td>1619705738989015041</td>\n",
              "      <td>tweet</td>\n",
              "      <td>no sabeu pas la il•lusió que m'ha fet que m'ha...</td>\n",
              "      <td>2023-01-29T14:35:00.000Z</td>\n",
              "      <td>no sabeu pas la il•lusió que m'ha fet que m'ha...</td>\n",
              "      <td>tweet</td>\n",
              "      <td>1</td>\n",
              "      <td>tweet</td>\n",
              "      <td>tweet</td>\n",
              "      <td>tweet</td>\n",
              "      <td>...</td>\n",
              "      <td>direct borrowing</td>\n",
              "      <td>foreign lexeme</td>\n",
              "      <td>[no, sabeu, pas, la, il•lusió, que, m', ha, fe...</td>\n",
              "      <td>[adv, adj, noun, det, noun, pron, pron, aux, v...</td>\n",
              "      <td>noun</td>\n",
              "      <td>2023-01</td>\n",
              "      <td>respost aquest tweet</td>\n",
              "      <td>Part</td>\n",
              "      <td>respost</td>\n",
              "      <td>respost aquest tweet</td>\n",
              "    </tr>\n",
              "    <tr>\n",
              "      <th>1077</th>\n",
              "      <td>1619769508050403328</td>\n",
              "      <td>likes</td>\n",
              "      <td>mai he fet tuits per tenir likes, sempre escri...</td>\n",
              "      <td>2023-01-29T18:48:00.000Z</td>\n",
              "      <td>mai he fet tuits per tenir likes, sempre escri...</td>\n",
              "      <td>tuits</td>\n",
              "      <td>1</td>\n",
              "      <td>tweet</td>\n",
              "      <td>tuit</td>\n",
              "      <td>tuits</td>\n",
              "      <td>...</td>\n",
              "      <td>full adaptation</td>\n",
              "      <td>foreign lexeme</td>\n",
              "      <td>[mai, he, fet, tuits, per, tenir, likes, ,, se...</td>\n",
              "      <td>[adv, aux, verb, noun, adp, verb, noun, punct,...</td>\n",
              "      <td>noun</td>\n",
              "      <td>2023-01</td>\n",
              "      <td>fet tuits</td>\n",
              "      <td>Part</td>\n",
              "      <td>fet</td>\n",
              "      <td>fet tuits</td>\n",
              "    </tr>\n",
              "    <tr>\n",
              "      <th>1512</th>\n",
              "      <td>1652437664295952385</td>\n",
              "      <td>piulades</td>\n",
              "      <td>cada dia surten desenes de nous llocs d'intel·...</td>\n",
              "      <td>2023-04-29T22:20:00.000Z</td>\n",
              "      <td>cada dia surten desenes de nous llocs d'intel·...</td>\n",
              "      <td>piulades</td>\n",
              "      <td>1</td>\n",
              "      <td>tweet</td>\n",
              "      <td>piulada</td>\n",
              "      <td>piulades</td>\n",
              "      <td>...</td>\n",
              "      <td>calque</td>\n",
              "      <td>native lexeme</td>\n",
              "      <td>[cada, dia, surten, desenes, de, nous, llocs, ...</td>\n",
              "      <td>[det, noun, verb, noun, adp, adj, noun, adp, n...</td>\n",
              "      <td>noun</td>\n",
              "      <td>2023-04</td>\n",
              "      <td>publicat piulades</td>\n",
              "      <td>Part</td>\n",
              "      <td>publicat</td>\n",
              "      <td>publicat piulades</td>\n",
              "    </tr>\n",
              "    <tr>\n",
              "      <th>1566</th>\n",
              "      <td>1652231822791565318</td>\n",
              "      <td>missatges</td>\n",
              "      <td>avui surt publicada l'entrevista d'en @davidme...</td>\n",
              "      <td>2023-04-29T08:42:00.000Z</td>\n",
              "      <td>avui surt publicada l'entrevista d'en @davidme...</td>\n",
              "      <td>missatges</td>\n",
              "      <td>1</td>\n",
              "      <td>message</td>\n",
              "      <td>missatge</td>\n",
              "      <td>missatges</td>\n",
              "      <td>...</td>\n",
              "      <td>calque</td>\n",
              "      <td>native lexeme</td>\n",
              "      <td>[avui, surt, publicada, l', entrevista, d', en...</td>\n",
              "      <td>[adv, verb, adj, det, noun, adp, adp, propn, a...</td>\n",
              "      <td>noun</td>\n",
              "      <td>2023-04</td>\n",
              "      <td>enviat missatges</td>\n",
              "      <td>Part</td>\n",
              "      <td>enviat</td>\n",
              "      <td>enviat missatges</td>\n",
              "    </tr>\n",
              "    <tr>\n",
              "      <th>1577</th>\n",
              "      <td>1652352640536248320</td>\n",
              "      <td>comentaris</td>\n",
              "      <td>de fet he tancat els comentaris molt abans d'a...</td>\n",
              "      <td>2023-04-29T16:42:00.000Z</td>\n",
              "      <td>de fet he tancat els comentaris molt abans d'a...</td>\n",
              "      <td>comentaris</td>\n",
              "      <td>1</td>\n",
              "      <td>comment</td>\n",
              "      <td>comentari</td>\n",
              "      <td>comentaris</td>\n",
              "      <td>...</td>\n",
              "      <td>calque</td>\n",
              "      <td>native lexeme</td>\n",
              "      <td>[de, fet, he, tancat, els, comentaris, molt, a...</td>\n",
              "      <td>[adp, noun, aux, verb, det, noun, adv, adv, ad...</td>\n",
              "      <td>noun</td>\n",
              "      <td>2023-04</td>\n",
              "      <td>tancat els comentaris</td>\n",
              "      <td>Part</td>\n",
              "      <td>tancat</td>\n",
              "      <td>tancat els comentaris</td>\n",
              "    </tr>\n",
              "    <tr>\n",
              "      <th>1586</th>\n",
              "      <td>1652245102000058369</td>\n",
              "      <td>històries</td>\n",
              "      <td>[5/20] | a #badalona, per exemple el @gerard_s...</td>\n",
              "      <td>2023-04-29T09:35:00.000Z</td>\n",
              "      <td>[5/20] | a #badalona, per exemple el @gerard_s...</td>\n",
              "      <td>històries</td>\n",
              "      <td>1</td>\n",
              "      <td>story</td>\n",
              "      <td>història</td>\n",
              "      <td>històries</td>\n",
              "      <td>...</td>\n",
              "      <td>calque</td>\n",
              "      <td>native lexeme</td>\n",
              "      <td>[[, 5/20, ], |, a, #, badalona, ,, per, exempl...</td>\n",
              "      <td>[punct, num, punct, punct, adp, propn, propn, ...</td>\n",
              "      <td>noun</td>\n",
              "      <td>2023-04</td>\n",
              "      <td>seguit les històries</td>\n",
              "      <td>Part</td>\n",
              "      <td>seguit</td>\n",
              "      <td>seguit les històries</td>\n",
              "    </tr>\n",
              "    <tr>\n",
              "      <th>1592</th>\n",
              "      <td>1652457093536923648</td>\n",
              "      <td>tweets</td>\n",
              "      <td>he guardat aquests tweets a preferits i m’he g...</td>\n",
              "      <td>2023-04-29T23:37:00.000Z</td>\n",
              "      <td>he guardat aquests tweets a preferits i m’he g...</td>\n",
              "      <td>tweets</td>\n",
              "      <td>1</td>\n",
              "      <td>tweet</td>\n",
              "      <td>tweet</td>\n",
              "      <td>tweets</td>\n",
              "      <td>...</td>\n",
              "      <td>direct borrowing</td>\n",
              "      <td>foreign lexeme</td>\n",
              "      <td>[he, guardat, aquests, tweets, a, preferits, i...</td>\n",
              "      <td>[aux, verb, det, noun, adp, noun, cconj, propn...</td>\n",
              "      <td>noun</td>\n",
              "      <td>2023-04</td>\n",
              "      <td>guardat aquests tweets</td>\n",
              "      <td>Part</td>\n",
              "      <td>guardat</td>\n",
              "      <td>guardat aquests tweets</td>\n",
              "    </tr>\n",
              "    <tr>\n",
              "      <th>1593</th>\n",
              "      <td>1652424881642827777</td>\n",
              "      <td>tweets</td>\n",
              "      <td>saps el que es el panic al moment al que algú ...</td>\n",
              "      <td>2023-04-29T21:29:00.000Z</td>\n",
              "      <td>saps el que es el panic al moment al que algú ...</td>\n",
              "      <td>tweets</td>\n",
              "      <td>1</td>\n",
              "      <td>tweet</td>\n",
              "      <td>tweet</td>\n",
              "      <td>tweets</td>\n",
              "      <td>...</td>\n",
              "      <td>direct borrowing</td>\n",
              "      <td>foreign lexeme</td>\n",
              "      <td>[saps, el, que, es, el, panic, a, l, moment, a...</td>\n",
              "      <td>[verb, det, pron, pron, det, adj, adp, det, no...</td>\n",
              "      <td>noun</td>\n",
              "      <td>2023-04</td>\n",
              "      <td>dedicat tweets</td>\n",
              "      <td>Part</td>\n",
              "      <td>dedicat</td>\n",
              "      <td>dedicat tweets</td>\n",
              "    </tr>\n",
              "    <tr>\n",
              "      <th>1787</th>\n",
              "      <td>1652274502552768513</td>\n",
              "      <td>seguint</td>\n",
              "      <td>tu, seguint la teva línia prefabricada, plena ...</td>\n",
              "      <td>2023-04-29T11:31:00.000Z</td>\n",
              "      <td>tu, seguint la teva línia prefabricada, plena ...</td>\n",
              "      <td>piulada</td>\n",
              "      <td>1</td>\n",
              "      <td>tweet</td>\n",
              "      <td>piulada</td>\n",
              "      <td>piulada</td>\n",
              "      <td>...</td>\n",
              "      <td>calque</td>\n",
              "      <td>native lexeme</td>\n",
              "      <td>[tu, ,, seguint, la, teva, línia, prefabricada...</td>\n",
              "      <td>[pron, punct, verb, det, det, noun, adj, punct...</td>\n",
              "      <td>noun</td>\n",
              "      <td>2023-04</td>\n",
              "      <td>fet cap piulada</td>\n",
              "      <td>Part</td>\n",
              "      <td>fet</td>\n",
              "      <td>fet cap piulada</td>\n",
              "    </tr>\n",
              "    <tr>\n",
              "      <th>1788</th>\n",
              "      <td>1652274403244113922</td>\n",
              "      <td>seguint</td>\n",
              "      <td>tu, seguint la teva línia prefabricada, plena ...</td>\n",
              "      <td>2023-04-29T11:31:00.000Z</td>\n",
              "      <td>tu, seguint la teva línia prefabricada, plena ...</td>\n",
              "      <td>piulada</td>\n",
              "      <td>1</td>\n",
              "      <td>tweet</td>\n",
              "      <td>piulada</td>\n",
              "      <td>piulada</td>\n",
              "      <td>...</td>\n",
              "      <td>calque</td>\n",
              "      <td>native lexeme</td>\n",
              "      <td>[tu, ,, seguint, la, teva, línia, prefabricada...</td>\n",
              "      <td>[pron, punct, verb, det, det, noun, adj, punct...</td>\n",
              "      <td>noun</td>\n",
              "      <td>2023-04</td>\n",
              "      <td>fet cap piulada</td>\n",
              "      <td>Part</td>\n",
              "      <td>fet</td>\n",
              "      <td>fet cap piulada</td>\n",
              "    </tr>\n",
              "    <tr>\n",
              "      <th>2902</th>\n",
              "      <td>1718623212915818748</td>\n",
              "      <td>publicat</td>\n",
              "      <td>👆 el \"hater\" que acabo de blocar perquè m'insu...</td>\n",
              "      <td>2023-10-29T13:37:00.000Z</td>\n",
              "      <td>👆 el \"hater\" que acabo de blocar perquè m'insu...</td>\n",
              "      <td>resposta</td>\n",
              "      <td>1</td>\n",
              "      <td>reply</td>\n",
              "      <td>resposta</td>\n",
              "      <td>resposta</td>\n",
              "      <td>...</td>\n",
              "      <td>calque</td>\n",
              "      <td>native lexeme</td>\n",
              "      <td>[👆, el, \", hater, \", que, acabo, de, blocar, p...</td>\n",
              "      <td>[verb, det, punct, propn, punct, pron, verb, a...</td>\n",
              "      <td>noun</td>\n",
              "      <td>2023-10</td>\n",
              "      <td>publicat aquesta resposta</td>\n",
              "      <td>Part</td>\n",
              "      <td>publicat</td>\n",
              "      <td>publicat aquesta resposta</td>\n",
              "    </tr>\n",
              "    <tr>\n",
              "      <th>2905</th>\n",
              "      <td>1718621817638711297</td>\n",
              "      <td>publicat</td>\n",
              "      <td>acabo de blocar un \"hater\" que m'insultava gre...</td>\n",
              "      <td>2023-10-29T13:32:00.000Z</td>\n",
              "      <td>acabo de blocar un \"hater\" que m'insultava gre...</td>\n",
              "      <td>tuit</td>\n",
              "      <td>1</td>\n",
              "      <td>tweet</td>\n",
              "      <td>tuit</td>\n",
              "      <td>tuit</td>\n",
              "      <td>...</td>\n",
              "      <td>full adaptation</td>\n",
              "      <td>foreign lexeme</td>\n",
              "      <td>[acabo, de, blocar, un, \", hater, \", que, m', ...</td>\n",
              "      <td>[verb, adp, verb, det, punct, propn, punct, pr...</td>\n",
              "      <td>noun</td>\n",
              "      <td>2023-10</td>\n",
              "      <td>publicat aquest tuit</td>\n",
              "      <td>Part</td>\n",
              "      <td>publicat</td>\n",
              "      <td>publicat aquest tuit</td>\n",
              "    </tr>\n",
              "  </tbody>\n",
              "</table>\n",
              "<p>15 rows × 22 columns</p>\n",
              "</div>"
            ],
            "text/plain": [
              "                       id searchQuery  \\\n",
              "331   1620151513384624128    etiqueta   \n",
              "504   1620182281238495232    missatge   \n",
              "543   1619985377837862912       tweet   \n",
              "1005  1619705738989015041       tweet   \n",
              "1077  1619769508050403328       likes   \n",
              "1512  1652437664295952385    piulades   \n",
              "1566  1652231822791565318   missatges   \n",
              "1577  1652352640536248320  comentaris   \n",
              "1586  1652245102000058369   històries   \n",
              "1592  1652457093536923648      tweets   \n",
              "1593  1652424881642827777      tweets   \n",
              "1787  1652274502552768513     seguint   \n",
              "1788  1652274403244113922     seguint   \n",
              "2902  1718623212915818748    publicat   \n",
              "2905  1718621817638711297    publicat   \n",
              "\n",
              "                                                   text  \\\n",
              "331   1. @tinavalles_ , hem recuperat uns tuits que ...   \n",
              "504   té a veure amb el grup? pq he passat els missa...   \n",
              "543   he denunciat el tweet, però també cal tenir en...   \n",
              "1005  no sabeu pas la il•lusió que m'ha fet que m'ha...   \n",
              "1077  mai he fet tuits per tenir likes, sempre escri...   \n",
              "1512  cada dia surten desenes de nous llocs d'intel·...   \n",
              "1566  avui surt publicada l'entrevista d'en @davidme...   \n",
              "1577  de fet he tancat els comentaris molt abans d'a...   \n",
              "1586  [5/20] | a #badalona, per exemple el @gerard_s...   \n",
              "1592  he guardat aquests tweets a preferits i m’he g...   \n",
              "1593  saps el que es el panic al moment al que algú ...   \n",
              "1787  tu, seguint la teva línia prefabricada, plena ...   \n",
              "1788  tu, seguint la teva línia prefabricada, plena ...   \n",
              "2902  👆 el \"hater\" que acabo de blocar perquè m'insu...   \n",
              "2905  acabo de blocar un \"hater\" que m'insultava gre...   \n",
              "\n",
              "                      timestamp  \\\n",
              "331   2023-01-30 20:06:00+00:00   \n",
              "504   2023-01-30 22:08:00+00:00   \n",
              "543   2023-01-30 09:06:00+00:00   \n",
              "1005   2023-01-29T14:35:00.000Z   \n",
              "1077   2023-01-29T18:48:00.000Z   \n",
              "1512   2023-04-29T22:20:00.000Z   \n",
              "1566   2023-04-29T08:42:00.000Z   \n",
              "1577   2023-04-29T16:42:00.000Z   \n",
              "1586   2023-04-29T09:35:00.000Z   \n",
              "1592   2023-04-29T23:37:00.000Z   \n",
              "1593   2023-04-29T21:29:00.000Z   \n",
              "1787   2023-04-29T11:31:00.000Z   \n",
              "1788   2023-04-29T11:31:00.000Z   \n",
              "2902   2023-10-29T13:37:00.000Z   \n",
              "2905   2023-10-29T13:32:00.000Z   \n",
              "\n",
              "                                              cleanText   foundWord  \\\n",
              "331   1. @tinavalles_ , hem recuperat uns tuits que ...       tuits   \n",
              "504   té a veure amb el grup? pq he passat els missa...   missatges   \n",
              "543   he denunciat el tweet, però també cal tenir en...       tweet   \n",
              "1005  no sabeu pas la il•lusió que m'ha fet que m'ha...       tweet   \n",
              "1077  mai he fet tuits per tenir likes, sempre escri...       tuits   \n",
              "1512  cada dia surten desenes de nous llocs d'intel·...    piulades   \n",
              "1566  avui surt publicada l'entrevista d'en @davidme...   missatges   \n",
              "1577  de fet he tancat els comentaris molt abans d'a...  comentaris   \n",
              "1586  [5/20] | a #badalona, per exemple el @gerard_s...   històries   \n",
              "1592  he guardat aquests tweets a preferits i m’he g...      tweets   \n",
              "1593  saps el que es el panic al moment al que algú ...      tweets   \n",
              "1787  tu, seguint la teva línia prefabricada, plena ...     piulada   \n",
              "1788  tu, seguint la teva línia prefabricada, plena ...     piulada   \n",
              "2902  👆 el \"hater\" que acabo de blocar perquè m'insu...    resposta   \n",
              "2905  acabo de blocar un \"hater\" que m'insultava gre...        tuit   \n",
              "\n",
              "      socialMediaSense original_lemma loanword_lemma loanword_form  ...  \\\n",
              "331                  1          tweet           tuit         tuits  ...   \n",
              "504                  1        message       missatge     missatges  ...   \n",
              "543                  1          tweet          tweet         tweet  ...   \n",
              "1005                 1          tweet          tweet         tweet  ...   \n",
              "1077                 1          tweet           tuit         tuits  ...   \n",
              "1512                 1          tweet        piulada      piulades  ...   \n",
              "1566                 1        message       missatge     missatges  ...   \n",
              "1577                 1        comment      comentari    comentaris  ...   \n",
              "1586                 1          story       història     històries  ...   \n",
              "1592                 1          tweet          tweet        tweets  ...   \n",
              "1593                 1          tweet          tweet        tweets  ...   \n",
              "1787                 1          tweet        piulada       piulada  ...   \n",
              "1788                 1          tweet        piulada       piulada  ...   \n",
              "2902                 1          reply       resposta      resposta  ...   \n",
              "2905                 1          tweet           tuit          tuit  ...   \n",
              "\n",
              "         loanword_type loanword_category  \\\n",
              "331    full adaptation    foreign lexeme   \n",
              "504             calque     native lexeme   \n",
              "543   direct borrowing    foreign lexeme   \n",
              "1005  direct borrowing    foreign lexeme   \n",
              "1077   full adaptation    foreign lexeme   \n",
              "1512            calque     native lexeme   \n",
              "1566            calque     native lexeme   \n",
              "1577            calque     native lexeme   \n",
              "1586            calque     native lexeme   \n",
              "1592  direct borrowing    foreign lexeme   \n",
              "1593  direct borrowing    foreign lexeme   \n",
              "1787            calque     native lexeme   \n",
              "1788            calque     native lexeme   \n",
              "2902            calque     native lexeme   \n",
              "2905   full adaptation    foreign lexeme   \n",
              "\n",
              "                                              tokenized  \\\n",
              "331   [1, ., @tinavalles, _, ,, hem, recuperat, uns,...   \n",
              "504   [té, a, veure, amb, el, grup, ?, pq, he, passa...   \n",
              "543   [he, denunciat, el, tweet, ,, però, també, cal...   \n",
              "1005  [no, sabeu, pas, la, il•lusió, que, m', ha, fe...   \n",
              "1077  [mai, he, fet, tuits, per, tenir, likes, ,, se...   \n",
              "1512  [cada, dia, surten, desenes, de, nous, llocs, ...   \n",
              "1566  [avui, surt, publicada, l', entrevista, d', en...   \n",
              "1577  [de, fet, he, tancat, els, comentaris, molt, a...   \n",
              "1586  [[, 5/20, ], |, a, #, badalona, ,, per, exempl...   \n",
              "1592  [he, guardat, aquests, tweets, a, preferits, i...   \n",
              "1593  [saps, el, que, es, el, panic, a, l, moment, a...   \n",
              "1787  [tu, ,, seguint, la, teva, línia, prefabricada...   \n",
              "1788  [tu, ,, seguint, la, teva, línia, prefabricada...   \n",
              "2902  [👆, el, \", hater, \", que, acabo, de, blocar, p...   \n",
              "2905  [acabo, de, blocar, un, \", hater, \", que, m', ...   \n",
              "\n",
              "                                               pos_tags detected_pos  \\\n",
              "331   [num, punct, adj, punct, punct, aux, verb, det...         noun   \n",
              "504   [verb, adp, noun, adp, det, noun, punct, pron,...         noun   \n",
              "543   [aux, verb, det, noun, punct, cconj, adv, verb...         noun   \n",
              "1005  [adv, adj, noun, det, noun, pron, pron, aux, v...         noun   \n",
              "1077  [adv, aux, verb, noun, adp, verb, noun, punct,...         noun   \n",
              "1512  [det, noun, verb, noun, adp, adj, noun, adp, n...         noun   \n",
              "1566  [adv, verb, adj, det, noun, adp, adp, propn, a...         noun   \n",
              "1577  [adp, noun, aux, verb, det, noun, adv, adv, ad...         noun   \n",
              "1586  [punct, num, punct, punct, adp, propn, propn, ...         noun   \n",
              "1592  [aux, verb, det, noun, adp, noun, cconj, propn...         noun   \n",
              "1593  [verb, det, pron, pron, det, adj, adp, det, no...         noun   \n",
              "1787  [pron, punct, verb, det, det, noun, adj, punct...         noun   \n",
              "1788  [pron, punct, verb, det, det, noun, adj, punct...         noun   \n",
              "2902  [verb, det, punct, propn, punct, pron, verb, a...         noun   \n",
              "2905  [verb, adp, verb, det, punct, propn, punct, pr...         noun   \n",
              "\n",
              "     year_month                verb_constr verb_form verb_lemma  \\\n",
              "331     2023-01        recuperat uns tuits      Part  recuperat   \n",
              "504     2023-01       passat els missatges      Part     passat   \n",
              "543     2023-01         denunciat el tweet      Part  denunciat   \n",
              "1005    2023-01       respost aquest tweet      Part    respost   \n",
              "1077    2023-01                  fet tuits      Part        fet   \n",
              "1512    2023-04          publicat piulades      Part   publicat   \n",
              "1566    2023-04           enviat missatges      Part     enviat   \n",
              "1577    2023-04      tancat els comentaris      Part     tancat   \n",
              "1586    2023-04       seguit les històries      Part     seguit   \n",
              "1592    2023-04     guardat aquests tweets      Part    guardat   \n",
              "1593    2023-04             dedicat tweets      Part    dedicat   \n",
              "1787    2023-04            fet cap piulada      Part        fet   \n",
              "1788    2023-04            fet cap piulada      Part        fet   \n",
              "2902    2023-10  publicat aquesta resposta      Part   publicat   \n",
              "2905    2023-10       publicat aquest tuit      Part   publicat   \n",
              "\n",
              "              verb_lemma_constr  \n",
              "331         recuperat uns tuits  \n",
              "504        passat els missatges  \n",
              "543          denunciat el tweet  \n",
              "1005       respost aquest tweet  \n",
              "1077                  fet tuits  \n",
              "1512          publicat piulades  \n",
              "1566           enviat missatges  \n",
              "1577      tancat els comentaris  \n",
              "1586       seguit les històries  \n",
              "1592     guardat aquests tweets  \n",
              "1593             dedicat tweets  \n",
              "1787            fet cap piulada  \n",
              "1788            fet cap piulada  \n",
              "2902  publicat aquesta resposta  \n",
              "2905       publicat aquest tuit  \n",
              "\n",
              "[15 rows x 22 columns]"
            ]
          },
          "execution_count": 41,
          "metadata": {},
          "output_type": "execute_result"
        }
      ],
      "source": [
        "# Check if the lemma of the verb is correct: we look for the verbs that don't end with 'r' or 're'\n",
        "# 15 verbs have the participle as the lemma, we'll manually correct them to avoid errors in the analysis\n",
        "df_verb_constr[~(df_verb_constr['verb_lemma'].str.endswith('r')) & ~(df_verb_constr['verb_lemma'].str.endswith('re'))]"
      ]
    },
    {
      "cell_type": "code",
      "execution_count": null,
      "id": "774b19af",
      "metadata": {
        "id": "774b19af",
        "outputId": "8cc6cae8-99c8-4d7e-de08-906441e04d0c"
      },
      "outputs": [
        {
          "data": {
            "text/plain": [
              "(238, 22)"
            ]
          },
          "execution_count": 42,
          "metadata": {},
          "output_type": "execute_result"
        }
      ],
      "source": [
        "# These are the \"correct\" lemmas of the verbs. Total should be 253\n",
        "df_verb_constr[(df_verb_constr['verb_lemma'].str.endswith('r')) | (df_verb_constr['verb_lemma'].str.endswith('re'))].shape"
      ]
    },
    {
      "cell_type": "code",
      "execution_count": null,
      "id": "33eb3488",
      "metadata": {
        "id": "33eb3488"
      },
      "outputs": [],
      "source": [
        "# Change the verb lemma manually so that it's correct (detect the ones that don't end with 'r' or 're' and hardcode the correct lemma)\n",
        "for _, row in df_verb_constr[~(df_verb_constr['verb_lemma'].str.endswith('r')) & ~(df_verb_constr['verb_lemma'].str.endswith('re'))].iterrows():\n",
        "    if row['verb_lemma'].endswith('st'):\n",
        "        df_verb_constr.at[_, 'verb_lemma'] = 'respondre' # the only one that ends with 'st\n",
        "    else:\n",
        "        df_verb_constr.at[_, 'verb_lemma'] = row['verb_lemma'][:-1] + 'r' #the rest end with vowel + 't', so we remove the 't' and add 'r'"
      ]
    },
    {
      "cell_type": "code",
      "execution_count": null,
      "id": "fe3aa1b9",
      "metadata": {
        "id": "fe3aa1b9",
        "outputId": "b0242bee-1da2-43fb-9770-42e7851aa396"
      },
      "outputs": [
        {
          "name": "stdout",
          "output_type": "stream",
          "text": [
            "Total verb + noun constructions: 253\n",
            "Unique verb + noun constructions: 206\n"
          ]
        }
      ],
      "source": [
        "# Calculate some simple statistics about the verb constructions\n",
        "# Count the number of verb constructions\n",
        "print('Total verb + noun constructions:', df_verb_constr['verb_constr'].shape[0])\n",
        "# Remove duplicates\n",
        "print('Unique verb + noun constructions:', df_verb_constr.drop_duplicates(subset=['verb_constr']).shape[0])"
      ]
    },
    {
      "cell_type": "code",
      "execution_count": null,
      "id": "ed7ab4b5",
      "metadata": {
        "id": "ed7ab4b5",
        "outputId": "d39eab50-6f4c-40c1-8489-dee9afea9039"
      },
      "outputs": [
        {
          "name": "stdout",
          "output_type": "stream",
          "text": [
            "Total lemmatized verb + noun constructions: 253\n",
            "Unique lemmatized verb + noun constructions: 186\n"
          ]
        }
      ],
      "source": [
        "# Calculate some simple statistics about the verb constructions\n",
        "# Count the number of verb constructions\n",
        "print('Total lemmatized verb + noun constructions:', df_verb_constr['verb_lemma_constr'].shape[0])\n",
        "\n",
        "# Remove duplicates\n",
        "print('Unique lemmatized verb + noun constructions:', df_verb_constr.drop_duplicates(subset=['verb_lemma_constr']).shape[0])"
      ]
    },
    {
      "cell_type": "code",
      "execution_count": null,
      "id": "96b63c3e",
      "metadata": {
        "id": "96b63c3e",
        "outputId": "1d4cb8c3-d225-4d87-9ccb-9ebe89042b47"
      },
      "outputs": [
        {
          "name": "stdout",
          "output_type": "stream",
          "text": [
            "Total different verbs in constructions: 80\n",
            "Most common verbs in constructions: [('fer', 70), ('enviar', 17), ('llegir', 16), ('veure', 10), ('escriure', 8)]\n",
            "fer: 70 (27.7%)\n",
            "enviar: 17 (6.7%)\n",
            "llegir: 16 (6.3%)\n",
            "veure: 10 (4.0%)\n",
            "escriure: 8 (3.2%)\n"
          ]
        }
      ],
      "source": [
        "# Number of different verbs in the constructions (lemmas)\n",
        "print('Total different verbs in constructions:', df_verb_constr['verb_lemma'].nunique())\n",
        "\n",
        "# Most common verbs (top 5)\n",
        "most_common_verbs = Counter(df_verb_constr['verb_lemma']).most_common(5)\n",
        "print('Most common verbs in constructions:', most_common_verbs)\n",
        "# Print the percentages of each verb\n",
        "for verb, count in most_common_verbs:\n",
        "    percentage = np.round(count*100/df_verb_constr.shape[0], decimals=1)\n",
        "    print(f'{verb}: {count} ({percentage}%)')"
      ]
    },
    {
      "cell_type": "code",
      "execution_count": null,
      "id": "050c88ce",
      "metadata": {
        "id": "050c88ce",
        "outputId": "2d04b89a-eb9f-4c9a-dee6-450f74dd3a3a"
      },
      "outputs": [
        {
          "name": "stdout",
          "output_type": "stream",
          "text": [
            "Total verbs that only appear once in constructions: 50\n",
            "Total verbs that only appear twice in constructions: 11\n"
          ]
        }
      ],
      "source": [
        "# How many verbs only appear once or twice\n",
        "print('Total verbs that only appear once in constructions:', sum(1 for count in Counter(df_verb_constr['verb_lemma']).values() if count == 1))\n",
        "print('Total verbs that only appear twice in constructions:', sum(1 for count in Counter(df_verb_constr['verb_lemma']).values() if count == 2))"
      ]
    },
    {
      "cell_type": "code",
      "execution_count": null,
      "id": "a9ba180b",
      "metadata": {
        "id": "a9ba180b",
        "outputId": "9cb65e45-e8b1-4221-8b16-497e610a60d5"
      },
      "outputs": [
        {
          "name": "stdout",
          "output_type": "stream",
          "text": [
            "Inf: 164 (64.8%)\n",
            "Part: 57 (22.5%)\n",
            "Ger: 32 (12.6%)\n"
          ]
        }
      ],
      "source": [
        "# Find out the most common inflections of the verbs in the constructions\n",
        "count_inflection = Counter(df_verb_constr['verb_form']).most_common()\n",
        "# Print the percentages of each inflected form\n",
        "for verb, count in count_inflection:\n",
        "    percentage = np.round(count*100/df_verb_constr.shape[0], decimals=1)\n",
        "    print(f'{verb}: {count} ({percentage}%)')"
      ]
    },
    {
      "cell_type": "code",
      "execution_count": null,
      "id": "70e98515",
      "metadata": {
        "id": "70e98515",
        "outputId": "f428526e-0716-4e6b-acf2-772ceaad02a9"
      },
      "outputs": [
        {
          "data": {
            "text/plain": [
              "[('fer tuits', 9),\n",
              " ('enviar un missatge', 7),\n",
              " ('fer aquest tweet', 5),\n",
              " ('fer un comentari', 5),\n",
              " ('fer comentaris', 5),\n",
              " ('fer un tuit', 4),\n",
              " ('fer tweets', 4),\n",
              " ('fer aquest comentari', 4),\n",
              " ('enviar missatges', 3),\n",
              " ('fer aquest tuit', 3)]"
            ]
          },
          "execution_count": 49,
          "metadata": {},
          "output_type": "execute_result"
        }
      ],
      "source": [
        "# See how many different lemmatized constructions we have\n",
        "Counter(df_nouns[df_nouns['verb_lemma_constr'] != '']['verb_lemma_constr']).most_common(10)"
      ]
    },
    {
      "cell_type": "code",
      "execution_count": null,
      "id": "ff140c3a",
      "metadata": {
        "id": "ff140c3a",
        "outputId": "57f323bb-19fc-4bf4-9852-bd87ed2c4354"
      },
      "outputs": [
        {
          "name": "stderr",
          "output_type": "stream",
          "text": [
            "/var/folders/n5/fr7ssm7s57z_7psd2b6ddp9r0000gp/T/ipykernel_65516/1036755924.py:3: SettingWithCopyWarning: \n",
            "A value is trying to be set on a copy of a slice from a DataFrame.\n",
            "Try using .loc[row_indexer,col_indexer] = value instead\n",
            "\n",
            "See the caveats in the documentation: https://pandas.pydata.org/pandas-docs/stable/user_guide/indexing.html#returning-a-view-versus-a-copy\n",
            "  df_verb_constr['verb_structure'] = df_verb_constr['verb_lemma'] + ' ' + df_verb_constr['loanword_lemma']\n"
          ]
        }
      ],
      "source": [
        "# From the verb's lemma and the noun's lemma, we can create the basic structure of the types of constructions\n",
        "# This way, we can more easily see the patterns of the constructions\n",
        "df_verb_constr['verb_structure'] = df_verb_constr['verb_lemma'] + ' ' + df_verb_constr['loanword_lemma']"
      ]
    },
    {
      "cell_type": "code",
      "execution_count": null,
      "id": "6ba265f2",
      "metadata": {
        "id": "6ba265f2",
        "outputId": "193ef7bc-1b78-4c43-b86d-d2833a0be34f"
      },
      "outputs": [
        {
          "name": "stdout",
          "output_type": "stream",
          "text": [
            "Total unique structures: 139\n",
            "Counts of structures: {'fer tuit': 23, 'fer comentari': 17, 'fer tweet': 13, 'enviar missatge': 13, 'llegir tuit': 7, 'fer retuit': 6, 'escriure tuit': 6, 'fer piulada': 6, 'veure tuit': 5, 'enviar missatge directe': 4, 'rebre missatge': 4, 'llegir piulada': 4, 'esborrar piulada': 3, 'llançar missatge': 3, 'tenir like': 3, 'respondre tweet': 2, 'utilitzar etiqueta': 2, 'veure tweet': 2, 'escriure tweet': 2, 'llegir tweet': 2, 'córrer tweet': 2, 'evitar etiqueta': 2, 'esborrar comentari': 2, 'tenir seguidor': 2, 'mirar perfil': 2, 'guanyar seguidor': 2, 'contestar tuit': 2, 'simular resposta': 1, 'arreplegar like': 1, 'marcar perfil': 1, 'escoltar comentari': 1, 'veire comentari': 1, 'veure piulada': 1, 'traduïr piulada': 1, 'tenir retuit': 1, 'donar like': 1, 'deixar tweet': 1, 'consultar publicació': 1, 'difondre publicació': 1, 'recuperar tuit': 1, 'donar missatge': 1, 'comentar tweet': 1, 'comentar post': 1, 'penjar tweet': 1, 'passar tuit': 1, 'llegir missatge': 1, 'esborrar tweet': 1, 'passar missatge': 1, 'censurar comentari': 1, 'rascar retweet': 1, 'denunciar tweet': 1, 'compartir post': 1, \"donar m'agrada\": 1, 'posar like': 1, 'modificar tuit': 1, 'fer post': 1, 'veure publicació': 1, 'intercanviar comentari': 1, 'posar tuit': 1, 'identificar tuit': 1, 'respondre missatge': 1, 'dir amic': 1, 'rebre perfil': 1, 'traducir tweet': 1, 'repiular missatge': 1, 'aguantar piulada': 1, 'arribar missatge': 1, 'tenir missatge': 1, 'sumar like': 1, 'aprofitar comentari': 1, 'guanyar like': 1, 'penjar història': 1, 'obtenir seguidor': 1, 'esborrar seguidor': 1, 'rebatre tuit': 1, 'corregir tuit': 1, 'trobar resposta': 1, 'compartir història': 1, 'respondre piulada': 1, 'donar resposta': 1, 'fer amic': 1, 'investigar perfil': 1, 'publicar piulada': 1, 'mirar història': 1, 'evitar missatge': 1, 'estalviar comentari': 1, 'tancar comentari': 1, 'descobrir història': 1, 'seguir història': 1, 'guardar tweet': 1, 'dedicar tweet': 1, 'fer seguidor': 1, 'borrar tweet': 1, 'veire tweet': 1, 'editar tweet': 1, 'fotre tuit': 1, 'començar tuit': 1, 'rebre comentari': 1, 'repetir post': 1, 'concretar comentari': 1, 'tallar comentari': 1, 'compartir comentari': 1, 'sortir post': 1, 'visitar perfil': 1, 'marcar missatge': 1, 'obrir piulada': 1, 'citar tuit': 1, 'mirar tweet': 1, 'crear perfil': 1, 'llegir etiqueta': 1, 'penjar etiqueta': 1, 'usar etiqueta': 1, 'colar perfil': 1, 'sabotejar perfil': 1, 'fer like': 1, 'llegir comentari': 1, 'veure comentari': 1, 'deixar comentari': 1, 'replicar missatge': 1, 'agafar missatge': 1, 'apareixre tuit': 1, 'incrementar seguidor': 1, 'comentar tuit': 1, 'compartir missatge': 1, 'veire publicació': 1, 'penjar story': 1, 'fer publicació': 1, 'pujar tweet': 1, 'buscar tweet': 1, 'esborrar tuit': 1, 'encontrar tuit': 1, 'crear publicació': 1, 'modificar història': 1, 'buscar resposta': 1, 'explicar història': 1, 'sortir tuit': 1, 'mirar seguidor': 1, 'publicar resposta': 1, 'publicar tuit': 1}\n"
          ]
        }
      ],
      "source": [
        "# See how many different structures we have\n",
        "unique_struct = df_verb_constr['verb_structure'].drop_duplicates()\n",
        "print('Total unique structures:', unique_struct.shape[0])\n",
        "\n",
        "# Count the number of occurrences of the top 10 structures\n",
        "count_structures = Counter(df_verb_constr['verb_structure'])\n",
        "count_structures = dict(sorted(count_structures.items(), key=lambda item: item[1], reverse=True)) # sort by count\n",
        "print('Counts of structures:', count_structures)\n",
        "\n",
        "# we only keep the top 10 structures\n",
        "top_struct_lab = list(count_structures.keys())[:10]\n",
        "top_struct_val = list(count_structures.values())[:10]"
      ]
    },
    {
      "cell_type": "code",
      "execution_count": null,
      "id": "b2ef4d0c",
      "metadata": {
        "id": "b2ef4d0c",
        "outputId": "688d6e7f-9314-4b89-ba85-31e517c95305"
      },
      "outputs": [
        {
          "data": {
            "image/png": "[encoded data removed]",
            "text/plain": [
              "<Figure size 640x480 with 1 Axes>"
            ]
          },
          "metadata": {},
          "output_type": "display_data"
        }
      ],
      "source": [
        "# Create a bar chart to visualize the top 10 structures\n",
        "fig, ax = plt.subplots()\n",
        "ax.bar(top_struct_lab, top_struct_val, width=0.7)\n",
        "for i in range(len(top_struct_lab)):\n",
        "        plt.text(i, top_struct_val[i]+0.1, top_struct_val[i], ha='center')\n",
        "plt.title(\"Distribution of Verb + Noun structures\")\n",
        "plt.xlabel(\"Structures (Verb + Noun)\")\n",
        "plt.ylabel(\"Counts\")\n",
        "ax.tick_params(axis='x', labelrotation=70)"
      ]
    },
    {
      "cell_type": "code",
      "execution_count": null,
      "id": "2ecf8f2a",
      "metadata": {
        "id": "2ecf8f2a"
      },
      "outputs": [],
      "source": [
        "# Export to csv all the unique structures to manually chech if they are light verb constructions or not\n",
        "df_lvc_ann = df_verb_constr['verb_structure'].drop_duplicates()\n",
        "df_lvc_ann.to_csv(folderName+\"LVC_to_annotate.csv\")"
      ]
    },
    {
      "cell_type": "code",
      "execution_count": null,
      "id": "14895a1f",
      "metadata": {
        "id": "14895a1f",
        "outputId": "90ea0791-a66f-434d-e2ce-3122b7b615ec"
      },
      "outputs": [
        {
          "name": "stdout",
          "output_type": "stream",
          "text": [
            "(139, 2)\n"
          ]
        },
        {
          "data": {
            "text/html": [
              "<div>\n",
              "<style scoped>\n",
              "    .dataframe tbody tr th:only-of-type {\n",
              "        vertical-align: middle;\n",
              "    }\n",
              "\n",
              "    .dataframe tbody tr th {\n",
              "        vertical-align: top;\n",
              "    }\n",
              "\n",
              "    .dataframe thead th {\n",
              "        text-align: right;\n",
              "    }\n",
              "</style>\n",
              "<table border=\"1\" class=\"dataframe\">\n",
              "  <thead>\n",
              "    <tr style=\"text-align: right;\">\n",
              "      <th></th>\n",
              "      <th>constructions</th>\n",
              "      <th>is_LVC</th>\n",
              "    </tr>\n",
              "  </thead>\n",
              "  <tbody>\n",
              "    <tr>\n",
              "      <th>0</th>\n",
              "      <td>fer tuit</td>\n",
              "      <td>1</td>\n",
              "    </tr>\n",
              "    <tr>\n",
              "      <th>1</th>\n",
              "      <td>fer comentari</td>\n",
              "      <td>1</td>\n",
              "    </tr>\n",
              "    <tr>\n",
              "      <th>2</th>\n",
              "      <td>fer tweet</td>\n",
              "      <td>1</td>\n",
              "    </tr>\n",
              "    <tr>\n",
              "      <th>3</th>\n",
              "      <td>enviar missatge</td>\n",
              "      <td>0</td>\n",
              "    </tr>\n",
              "    <tr>\n",
              "      <th>4</th>\n",
              "      <td>llegir tuit</td>\n",
              "      <td>0</td>\n",
              "    </tr>\n",
              "  </tbody>\n",
              "</table>\n",
              "</div>"
            ],
            "text/plain": [
              "     constructions  is_LVC\n",
              "0         fer tuit       1\n",
              "1    fer comentari       1\n",
              "2        fer tweet       1\n",
              "3  enviar missatge       0\n",
              "4      llegir tuit       0"
            ]
          },
          "execution_count": 54,
          "metadata": {},
          "output_type": "execute_result"
        }
      ],
      "source": [
        "# Load the annotated LVC file\n",
        "df_lvc_ann = pd.read_csv(folderName+\"LVC_annotation.csv\", sep=\";\")\n",
        "print(df_lvc_ann.shape)\n",
        "df_lvc_ann.head()"
      ]
    },
    {
      "cell_type": "code",
      "execution_count": null,
      "id": "cd07ce21",
      "metadata": {
        "id": "cd07ce21",
        "outputId": "bf0aca98-04fb-430e-8ef1-2d51f62019a6"
      },
      "outputs": [
        {
          "name": "stdout",
          "output_type": "stream",
          "text": [
            "Number of lemmatized LVC: 21\n",
            "% LVC out of all verb constr: 15.1\n"
          ]
        }
      ],
      "source": [
        "# How many distinct constructions are light verb constructions & percentage\n",
        "df_lvc_ann[df_lvc_ann['is_LVC'] == 1].shape\n",
        "print('Number of lemmatized LVC:', df_lvc_ann[df_lvc_ann['is_LVC'] == 1].shape[0])\n",
        "print(f'% LVC out of all verb constr: {round(df_lvc_ann[df_lvc_ann['is_LVC'] == 1].shape[0]*100/df_lvc_ann['is_LVC'].shape[0],ndigits=1)}')"
      ]
    },
    {
      "cell_type": "code",
      "execution_count": null,
      "id": "b38d70e9",
      "metadata": {
        "id": "b38d70e9",
        "outputId": "901b3f73-e8ba-4af7-8e5e-7cdf19bfb794"
      },
      "outputs": [
        {
          "data": {
            "text/html": [
              "<div>\n",
              "<style scoped>\n",
              "    .dataframe tbody tr th:only-of-type {\n",
              "        vertical-align: middle;\n",
              "    }\n",
              "\n",
              "    .dataframe tbody tr th {\n",
              "        vertical-align: top;\n",
              "    }\n",
              "\n",
              "    .dataframe thead th {\n",
              "        text-align: right;\n",
              "    }\n",
              "</style>\n",
              "<table border=\"1\" class=\"dataframe\">\n",
              "  <thead>\n",
              "    <tr style=\"text-align: right;\">\n",
              "      <th></th>\n",
              "      <th>id</th>\n",
              "      <th>searchQuery</th>\n",
              "      <th>text</th>\n",
              "      <th>timestamp</th>\n",
              "      <th>cleanText</th>\n",
              "      <th>foundWord</th>\n",
              "      <th>socialMediaSense</th>\n",
              "      <th>original_lemma</th>\n",
              "      <th>loanword_lemma</th>\n",
              "      <th>loanword_form</th>\n",
              "      <th>...</th>\n",
              "      <th>tokenized</th>\n",
              "      <th>pos_tags</th>\n",
              "      <th>detected_pos</th>\n",
              "      <th>year_month</th>\n",
              "      <th>verb_constr</th>\n",
              "      <th>verb_form</th>\n",
              "      <th>verb_lemma</th>\n",
              "      <th>verb_lemma_constr</th>\n",
              "      <th>verb_structure</th>\n",
              "      <th>is_LVC</th>\n",
              "    </tr>\n",
              "  </thead>\n",
              "  <tbody>\n",
              "    <tr>\n",
              "      <th>0</th>\n",
              "      <td>1620116848825217024</td>\n",
              "      <td>retuit</td>\n",
              "      <td>et segueixo i no puc fer retuit a les teves pi...</td>\n",
              "      <td>2023-01-30 17:48:00+00:00</td>\n",
              "      <td>et segueixo i no puc fer retuit a les teves pi...</td>\n",
              "      <td>retuit</td>\n",
              "      <td>1</td>\n",
              "      <td>retweet</td>\n",
              "      <td>retuit</td>\n",
              "      <td>retuit</td>\n",
              "      <td>...</td>\n",
              "      <td>[et, segueixo, i, no, puc, fer, retuit, a, les...</td>\n",
              "      <td>[pron, verb, cconj, adv, aux, verb, noun, adp,...</td>\n",
              "      <td>noun</td>\n",
              "      <td>2023-01</td>\n",
              "      <td>fer retuit</td>\n",
              "      <td>Inf</td>\n",
              "      <td>fer</td>\n",
              "      <td>fer retuit</td>\n",
              "      <td>fer retuit</td>\n",
              "      <td>1</td>\n",
              "    </tr>\n",
              "    <tr>\n",
              "      <th>1</th>\n",
              "      <td>1718544104508838085</td>\n",
              "      <td>respostes</td>\n",
              "      <td>imaginem una ia que sigui capaç de simular les...</td>\n",
              "      <td>2023-10-29T08:23:00.000Z</td>\n",
              "      <td>imaginem una ia que sigui capaç de simular les...</td>\n",
              "      <td>respostes</td>\n",
              "      <td>1</td>\n",
              "      <td>reply</td>\n",
              "      <td>resposta</td>\n",
              "      <td>respostes</td>\n",
              "      <td>...</td>\n",
              "      <td>[imaginem, una, ia, que, sigui, capaç, de, sim...</td>\n",
              "      <td>[verb, det, noun, pron, aux, adj, adp, verb, d...</td>\n",
              "      <td>noun</td>\n",
              "      <td>2023-10</td>\n",
              "      <td>simular les respostes</td>\n",
              "      <td>Inf</td>\n",
              "      <td>simular</td>\n",
              "      <td>simular les respostes</td>\n",
              "      <td>simular resposta</td>\n",
              "      <td>0</td>\n",
              "    </tr>\n",
              "    <tr>\n",
              "      <th>2</th>\n",
              "      <td>1718651703115842033</td>\n",
              "      <td>likes</td>\n",
              "      <td>puigdemontistes titllant de cunyat a ningú 🤣🤣🤣...</td>\n",
              "      <td>2023-10-29T15:31:00.000Z</td>\n",
              "      <td>puigdemontistes titllant de cunyat a ningú 🤣🤣🤣...</td>\n",
              "      <td>likes</td>\n",
              "      <td>1</td>\n",
              "      <td>like</td>\n",
              "      <td>like</td>\n",
              "      <td>likes</td>\n",
              "      <td>...</td>\n",
              "      <td>[puigdemontistes, titllant, de, cunyat, a, nin...</td>\n",
              "      <td>[adj, verb, adp, noun, adp, pron, pron, verb, ...</td>\n",
              "      <td>noun</td>\n",
              "      <td>2023-10</td>\n",
              "      <td>arreplegar likes</td>\n",
              "      <td>Inf</td>\n",
              "      <td>arreplegar</td>\n",
              "      <td>arreplegar likes</td>\n",
              "      <td>arreplegar like</td>\n",
              "      <td>0</td>\n",
              "    </tr>\n",
              "    <tr>\n",
              "      <th>3</th>\n",
              "      <td>1652346629607903241</td>\n",
              "      <td>tuits</td>\n",
              "      <td>sempre ho dic, tinc molta capacitat per escriu...</td>\n",
              "      <td>2023-04-29T16:18:00.000Z</td>\n",
              "      <td>sempre ho dic, tinc molta capacitat per escriu...</td>\n",
              "      <td>tuits</td>\n",
              "      <td>1</td>\n",
              "      <td>tweet</td>\n",
              "      <td>tuit</td>\n",
              "      <td>tuits</td>\n",
              "      <td>...</td>\n",
              "      <td>[sempre, ho, dic, ,, tinc, molta, capacitat, p...</td>\n",
              "      <td>[adv, pron, verb, punct, verb, det, noun, adp,...</td>\n",
              "      <td>noun</td>\n",
              "      <td>2023-04</td>\n",
              "      <td>escriure tuits</td>\n",
              "      <td>Inf</td>\n",
              "      <td>escriure</td>\n",
              "      <td>escriure tuits</td>\n",
              "      <td>escriure tuit</td>\n",
              "      <td>0</td>\n",
              "    </tr>\n",
              "    <tr>\n",
              "      <th>4</th>\n",
              "      <td>1619962362446086144</td>\n",
              "      <td>tweet</td>\n",
              "      <td>ha arribat el dia de fer el titular cutre que ...</td>\n",
              "      <td>2023-01-30 07:34:00+00:00</td>\n",
              "      <td>ha arribat el dia de fer el titular cutre que ...</td>\n",
              "      <td>tweet</td>\n",
              "      <td>1</td>\n",
              "      <td>tweet</td>\n",
              "      <td>tweet</td>\n",
              "      <td>tweet</td>\n",
              "      <td>...</td>\n",
              "      <td>[ha, arribat, el, dia, de, fer, el, titular, c...</td>\n",
              "      <td>[aux, verb, det, noun, adp, verb, det, noun, a...</td>\n",
              "      <td>noun</td>\n",
              "      <td>2023-01</td>\n",
              "      <td>fer aquest tweet</td>\n",
              "      <td>Inf</td>\n",
              "      <td>fer</td>\n",
              "      <td>fer aquest tweet</td>\n",
              "      <td>fer tweet</td>\n",
              "      <td>1</td>\n",
              "    </tr>\n",
              "  </tbody>\n",
              "</table>\n",
              "<p>5 rows × 24 columns</p>\n",
              "</div>"
            ],
            "text/plain": [
              "                    id searchQuery  \\\n",
              "0  1620116848825217024      retuit   \n",
              "1  1718544104508838085   respostes   \n",
              "2  1718651703115842033       likes   \n",
              "3  1652346629607903241       tuits   \n",
              "4  1619962362446086144       tweet   \n",
              "\n",
              "                                                text  \\\n",
              "0  et segueixo i no puc fer retuit a les teves pi...   \n",
              "1  imaginem una ia que sigui capaç de simular les...   \n",
              "2  puigdemontistes titllant de cunyat a ningú 🤣🤣🤣...   \n",
              "3  sempre ho dic, tinc molta capacitat per escriu...   \n",
              "4  ha arribat el dia de fer el titular cutre que ...   \n",
              "\n",
              "                   timestamp  \\\n",
              "0  2023-01-30 17:48:00+00:00   \n",
              "1   2023-10-29T08:23:00.000Z   \n",
              "2   2023-10-29T15:31:00.000Z   \n",
              "3   2023-04-29T16:18:00.000Z   \n",
              "4  2023-01-30 07:34:00+00:00   \n",
              "\n",
              "                                           cleanText  foundWord  \\\n",
              "0  et segueixo i no puc fer retuit a les teves pi...     retuit   \n",
              "1  imaginem una ia que sigui capaç de simular les...  respostes   \n",
              "2  puigdemontistes titllant de cunyat a ningú 🤣🤣🤣...      likes   \n",
              "3  sempre ho dic, tinc molta capacitat per escriu...      tuits   \n",
              "4  ha arribat el dia de fer el titular cutre que ...      tweet   \n",
              "\n",
              "   socialMediaSense original_lemma loanword_lemma loanword_form  ...  \\\n",
              "0                 1        retweet         retuit        retuit  ...   \n",
              "1                 1          reply       resposta     respostes  ...   \n",
              "2                 1           like           like         likes  ...   \n",
              "3                 1          tweet           tuit         tuits  ...   \n",
              "4                 1          tweet          tweet         tweet  ...   \n",
              "\n",
              "                                           tokenized  \\\n",
              "0  [et, segueixo, i, no, puc, fer, retuit, a, les...   \n",
              "1  [imaginem, una, ia, que, sigui, capaç, de, sim...   \n",
              "2  [puigdemontistes, titllant, de, cunyat, a, nin...   \n",
              "3  [sempre, ho, dic, ,, tinc, molta, capacitat, p...   \n",
              "4  [ha, arribat, el, dia, de, fer, el, titular, c...   \n",
              "\n",
              "                                            pos_tags detected_pos year_month  \\\n",
              "0  [pron, verb, cconj, adv, aux, verb, noun, adp,...         noun    2023-01   \n",
              "1  [verb, det, noun, pron, aux, adj, adp, verb, d...         noun    2023-10   \n",
              "2  [adj, verb, adp, noun, adp, pron, pron, verb, ...         noun    2023-10   \n",
              "3  [adv, pron, verb, punct, verb, det, noun, adp,...         noun    2023-04   \n",
              "4  [aux, verb, det, noun, adp, verb, det, noun, a...         noun    2023-01   \n",
              "\n",
              "             verb_constr verb_form  verb_lemma      verb_lemma_constr  \\\n",
              "0             fer retuit       Inf         fer             fer retuit   \n",
              "1  simular les respostes       Inf     simular  simular les respostes   \n",
              "2       arreplegar likes       Inf  arreplegar       arreplegar likes   \n",
              "3         escriure tuits       Inf    escriure         escriure tuits   \n",
              "4       fer aquest tweet       Inf         fer       fer aquest tweet   \n",
              "\n",
              "     verb_structure is_LVC  \n",
              "0        fer retuit      1  \n",
              "1  simular resposta      0  \n",
              "2   arreplegar like      0  \n",
              "3     escriure tuit      0  \n",
              "4         fer tweet      1  \n",
              "\n",
              "[5 rows x 24 columns]"
            ]
          },
          "execution_count": 56,
          "metadata": {},
          "output_type": "execute_result"
        }
      ],
      "source": [
        "# Merge this annotation with the big dataframe for all verbal constructions\n",
        "df_verb_constr = pd.merge(df_verb_constr, df_lvc_ann, left_on='verb_structure', right_on='constructions', how='left')\n",
        "df_verb_constr.drop(columns='constructions', axis = 1, inplace=True)\n",
        "df_verb_constr.head()"
      ]
    },
    {
      "cell_type": "code",
      "execution_count": null,
      "id": "27645c34",
      "metadata": {
        "id": "27645c34",
        "outputId": "0b63bb1c-80fe-4808-e539-9cce7a11aa19"
      },
      "outputs": [
        {
          "name": "stdout",
          "output_type": "stream",
          "text": [
            "Number of LVC lemmas in the data: 84\n"
          ]
        },
        {
          "data": {
            "text/plain": [
              "[('fer tuit', 23),\n",
              " ('fer comentari', 17),\n",
              " ('fer tweet', 13),\n",
              " ('fer retuit', 6),\n",
              " ('fer piulada', 6)]"
            ]
          },
          "execution_count": 57,
          "metadata": {},
          "output_type": "execute_result"
        }
      ],
      "source": [
        "# Now we can see how many LVC we have in the data and which are the most frequent\n",
        "print('Number of LVC lemmas in the data:', df_verb_constr[df_verb_constr['is_LVC'] == 1].shape[0])\n",
        "count_lvc_lemmas = Counter(df_verb_constr[df_verb_constr['is_LVC'] == 1]['verb_structure'])\n",
        "count_lvc_lemmas.most_common(5)"
      ]
    },
    {
      "cell_type": "code",
      "execution_count": null,
      "id": "8a0b737d",
      "metadata": {
        "id": "8a0b737d",
        "outputId": "a78d832c-6d6f-42bd-be2b-743f15947655"
      },
      "outputs": [
        {
          "name": "stdout",
          "output_type": "stream",
          "text": [
            "Number of inflected LVCs:  53\n"
          ]
        }
      ],
      "source": [
        "# How many different LVCs we have with inflection\n",
        "print('Number of inflected LVCs: ', len(df_verb_constr[df_verb_constr['is_LVC'] == 1]['verb_constr'].unique()))"
      ]
    },
    {
      "cell_type": "code",
      "execution_count": null,
      "id": "ffbcea3a",
      "metadata": {
        "id": "ffbcea3a",
        "outputId": "a12c9b2b-0666-4441-a1d0-0de25bcc2189"
      },
      "outputs": [
        {
          "name": "stdout",
          "output_type": "stream",
          "text": [
            "Number of unique verb lemmas in LVC:  6\n",
            "Unique light verbs from LVCs: ['fer', 'tenir', 'donar', 'deixar', 'posar', 'fotre']\n",
            "Frequency of occurrence of the lemmas of nouns in LVCs\n",
            " tuit: 25 (29.8%)\n",
            " comentari: 18 (21.4%)\n",
            " tweet: 14 (16.7%)\n",
            " retuit: 7 (8.3%)\n",
            " piulada: 6 (7.1%)\n",
            " like: 6 (7.1%)\n",
            " seguidor: 3 (3.6%)\n",
            " m'agrada: 1 (1.2%)\n",
            " post: 1 (1.2%)\n",
            " resposta: 1 (1.2%)\n",
            " amic: 1 (1.2%)\n",
            " publicació: 1 (1.2%)\n"
          ]
        }
      ],
      "source": [
        "# Number of different verb lemmas that are used in LVCs\n",
        "print('Number of unique verb lemmas in LVC: ', len(df_verb_constr[df_verb_constr['is_LVC'] == 1]['verb_lemma'].unique()))\n",
        "print('Unique light verbs from LVCs:', list(Counter(df_verb_constr[df_verb_constr['is_LVC'] == 1]['verb_lemma']).keys()))\n",
        "\n",
        "# Which nouns (lemma) are more frequenty combined into LVCs\n",
        "count_noun_lvc = dict(sorted(Counter(df_verb_constr[df_verb_constr['is_LVC'] == 1]['loanword_lemma']).items(), key=lambda item: item[1], reverse=True))\n",
        "print('Frequency of occurrence of the lemmas of nouns in LVCs')\n",
        "for verb, count in zip(count_noun_lvc.keys(), count_noun_lvc.values()):\n",
        "    percentage = np.round(count*100/np.sum(list(count_noun_lvc.values())), decimals=1)\n",
        "    print(f' {verb}: {count} ({percentage}%)')"
      ]
    },
    {
      "cell_type": "markdown",
      "id": "6fd001d9",
      "metadata": {
        "id": "6fd001d9"
      },
      "source": [
        "**FIND INFLECTED (MORPH) VERBAL FORMS**"
      ]
    },
    {
      "cell_type": "code",
      "execution_count": null,
      "id": "31e27c9f",
      "metadata": {
        "id": "31e27c9f",
        "outputId": "64f02717-e447-4a22-c067-c96fbc8c51ce"
      },
      "outputs": [
        {
          "data": {
            "text/plain": [
              "(1010, 18)"
            ]
          },
          "execution_count": 160,
          "metadata": {},
          "output_type": "execute_result"
        }
      ],
      "source": [
        "# Find the amount of verbs from the list (we include the detected_pos but allow some wiggle room for the English words and some normal errors of the tool, like participles)\n",
        "df_morph_verbs = df[(df['loanword_pos'].str.contains('verb')) & (df['loanword_features'].isin(['infinitive', '', 'participle', 'gerund', 'lemma'])) & (df['detected_pos'].isin(['verb', '', 'adj', 'aux']))]\n",
        "df_morph_verbs.shape"
      ]
    },
    {
      "cell_type": "code",
      "execution_count": null,
      "id": "16af1853",
      "metadata": {
        "id": "16af1853",
        "outputId": "c2ec0a2e-a675-4d3a-a34b-5552332487ae"
      },
      "outputs": [
        {
          "name": "stdout",
          "output_type": "stream",
          "text": [
            "Number of unique verbal forms (inflected): 49\n",
            "Number of unique verbal lemmas: 25\n"
          ]
        }
      ],
      "source": [
        "# Find the number of occurrences removing duplicated forms\n",
        "print('Number of unique verbal forms (inflected):', df_morph_verbs.drop_duplicates(subset='foundWord').shape[0])\n",
        "\n",
        "# Find the number of occurrences removing duplicated lemmas\n",
        "print('Number of unique verbal lemmas:', df_morph_verbs.drop_duplicates(subset='loanword_lemma').shape[0])"
      ]
    },
    {
      "cell_type": "markdown",
      "id": "97902a70",
      "metadata": {
        "id": "97902a70"
      },
      "source": [
        "**MOST FREQUENT LEMMAS IN CATALAN AND ENGLISH**"
      ]
    },
    {
      "cell_type": "code",
      "execution_count": null,
      "id": "37ff13c1",
      "metadata": {
        "id": "37ff13c1",
        "outputId": "92c04994-5a46-43b6-e96d-914a94a72abf"
      },
      "outputs": [
        {
          "name": "stdout",
          "output_type": "stream",
          "text": [
            "Frequency of occurrence of the lemmas of all the loanwords\n",
            " tuit: 398 (13.7%)\n",
            " comentari: 236 (8.1%)\n",
            " compartir: 203 (7.0%)\n",
            " tweet: 193 (6.6%)\n",
            " piulada: 176 (6.1%)\n",
            " blocar: 168 (5.8%)\n",
            " seguidor: 143 (4.9%)\n",
            " missatge: 136 (4.7%)\n",
            " publicar: 135 (4.6%)\n",
            " perfil: 134 (4.6%)\n"
          ]
        }
      ],
      "source": [
        "# Most common lemmas in Catalan (top 5)\n",
        "loanword_lemmas = Counter(df['loanword_lemma']).most_common(10)\n",
        "print('Frequency of occurrence of the lemmas of all the loanwords')\n",
        "for verb, count in loanword_lemmas:\n",
        "    percentage = np.round(count*100/df['loanword_lemma'].shape[0], decimals=1)\n",
        "    print(f' {verb}: {count} ({percentage}%)')"
      ]
    },
    {
      "cell_type": "code",
      "execution_count": null,
      "id": "4204f870",
      "metadata": {
        "id": "4204f870",
        "outputId": "0875135f-8bfe-4688-d24e-875d1c611e97"
      },
      "outputs": [
        {
          "name": "stdout",
          "output_type": "stream",
          "text": [
            "Frequency of occurrence of the lemmas of all the loanwords\n",
            " tweet: 863 (29.7%)\n",
            " comment: 339 (11.7%)\n",
            " block: 260 (8.9%)\n",
            " post: 225 (7.7%)\n",
            " share: 203 (7.0%)\n",
            " follower: 144 (5.0%)\n",
            " message: 136 (4.7%)\n",
            " profile: 134 (4.6%)\n",
            " reply: 105 (3.6%)\n",
            " like: 94 (3.2%)\n"
          ]
        }
      ],
      "source": [
        "# Most common lemmas from the original English words\n",
        "eng_lemmas = Counter(df['original_lemma']).most_common(10)\n",
        "print('Frequency of occurrence of the lemmas of all the loanwords')\n",
        "for verb, count in eng_lemmas:\n",
        "    percentage = np.round(count*100/df['original_lemma'].shape[0], decimals=1)\n",
        "    print(f' {verb}: {count} ({percentage}%)')"
      ]
    },
    {
      "cell_type": "code",
      "execution_count": null,
      "id": "0a68b52b",
      "metadata": {
        "id": "0a68b52b"
      },
      "outputs": [],
      "source": [
        "# Filter the dataframe to keep only the rows with any non-finite verbal form\n",
        "df_infl_verbs = df_morph_verbs[df_morph_verbs['loanword_features'] != 'lemma']\n",
        "df_infl_verbs.shape"
      ]
    },
    {
      "cell_type": "code",
      "execution_count": null,
      "id": "ad0ba7a0",
      "metadata": {
        "id": "ad0ba7a0",
        "outputId": "46c3180f-0897-4ea8-f887-378e138fc1a3"
      },
      "outputs": [
        {
          "name": "stdout",
          "output_type": "stream",
          "text": [
            "loanword_features  gerund  infinitive  participle\n",
            "loanword_lemma                                   \n",
            "blocar                  7          54         105\n",
            "bloquejar               4          23          37\n",
            "clavar                  0           1           0\n",
            "comentar               15          55          27\n",
            "compartir              18         154          31\n",
            "deixar de seguir        0           8           0\n",
            "etiquetar               1          20           8\n",
            "piular                  3          50           7\n",
            "prohibir                0           3           1\n",
            "publicar               11          97          27\n",
            "repiular                1           8           6\n",
            "republicar              0           0           1\n",
            "respondre               0          31           0\n",
            "retuitar                0          10           0\n",
            "retuitejar              0           4           0\n",
            "seguir                  9          58           9\n",
            "silenciar               1          23           6\n",
            "tuitar                  0           4           0\n",
            "tuitejar                6          17           1\n",
            "vist                    0           0          36\n"
          ]
        }
      ],
      "source": [
        "# For verbs, which form is the most productive? (check if all 3 non-fin forms are represented)\n",
        "# Count the number of instances of each 'loanword_features' value for each 'loanword_lemma'\n",
        "lemma_feature_counts = df_infl_verbs.groupby('loanword_lemma')['loanword_features'].value_counts().unstack(fill_value=0)\n",
        "print(lemma_feature_counts)"
      ]
    },
    {
      "cell_type": "markdown",
      "id": "a0e68c88",
      "metadata": {
        "id": "a0e68c88"
      },
      "source": [
        "**CASE STUDY 2: HOW THE ENGLISH WORD 'TWEET' IS USED IN CATALAN**"
      ]
    },
    {
      "cell_type": "code",
      "execution_count": null,
      "id": "97d5b77f",
      "metadata": {
        "id": "97d5b77f",
        "outputId": "176ef646-c560-463f-e8c7-43684981e384"
      },
      "outputs": [
        {
          "name": "stdout",
          "output_type": "stream",
          "text": [
            "(767, 18)\n",
            "Counter({'tuit': 392, 'tweet': 191, 'piulada': 176, 'piulet': 8})\n"
          ]
        }
      ],
      "source": [
        "# First for nouns (use lemmas)\n",
        "df_tweet_noun = df[(df['original_lemma'] == 'tweet') & (df['loanword_pos'].str.contains('noun')) & (df['detected_pos'].isin(['noun', 'propn', '']))]\n",
        "print(df_tweet_noun.shape)\n",
        "tweets_noun = Counter(df_tweet_noun['loanword_lemma'])\n",
        "print(tweets_noun)"
      ]
    },
    {
      "cell_type": "code",
      "execution_count": null,
      "id": "995f4f93",
      "metadata": {
        "id": "995f4f93",
        "outputId": "876e7be6-2ef0-456b-f5f0-cb275c454c8c"
      },
      "outputs": [
        {
          "data": {
            "image/png": "[encoded data removed]",
            "text/plain": [
              "<Figure size 700x400 with 1 Axes>"
            ]
          },
          "metadata": {},
          "output_type": "display_data"
        }
      ],
      "source": [
        "# Data for the pie chart\n",
        "tweet_n_labels = list(tweets_noun.keys())\n",
        "tweet_n_values = list(tweets_noun.values())\n",
        "\n",
        "def percentage(val, allvals):\n",
        "    absolute = np.round(val * 100. / float(np.sum(allvals)), decimals=1)\n",
        "    return f\"{absolute:.1f}%\"\n",
        "\n",
        "percentages = [percentage(v, tweet_n_values) for v in tweet_n_values]\n",
        "\n",
        "fig, ax = plt.subplots(figsize=(7, 4), subplot_kw=dict(aspect=\"equal\"))\n",
        "wedges, texts = ax.pie(tweet_n_values, startangle=-60, wedgeprops=dict(width=0.5), pctdistance=0.8)\n",
        "\n",
        "bbox_props = dict(boxstyle=\"square,pad=0.3\", fc=\"w\", ec=\"k\", lw=0.72)\n",
        "kw = dict(arrowprops=dict(arrowstyle=\"-\"),\n",
        "          bbox=bbox_props, zorder=0, va=\"center\")\n",
        "\n",
        "for i, p in enumerate(wedges):\n",
        "    ang = (p.theta2 - p.theta1)/2. + p.theta1\n",
        "    y = np.sin(np.deg2rad(ang))\n",
        "    x = np.cos(np.deg2rad(ang))\n",
        "    horizontalalignment = {-1: \"right\", 1: \"left\"}[int(np.sign(x))]\n",
        "    connectionstyle = f\"angle,angleA=0,angleB={ang}\"\n",
        "    kw[\"arrowprops\"].update({\"connectionstyle\": connectionstyle})\n",
        "    # Adjust label positions to avoid overlaps for small slices\n",
        "    # For the smallest slices (last two), push labels further out and slightly shift vertically\n",
        "    if i >= len(wedges) - 2:\n",
        "        ax.annotate(\n",
        "            f'{tweet_n_labels[i]}: {percentages[i]}',\n",
        "            xy=(x, y),\n",
        "            xytext=(0.5 * np.sign(x), 1.5 * y),\n",
        "            horizontalalignment=horizontalalignment,\n",
        "            **kw\n",
        "        )\n",
        "    else:\n",
        "        ax.annotate(\n",
        "            f'{tweet_n_labels[i]}: {percentages[i]}',\n",
        "            xy=(x, y),\n",
        "            xytext=(1.3 * np.sign(x), 1.4 * y),\n",
        "            horizontalalignment=horizontalalignment,\n",
        "            **kw\n",
        "        )\n",
        "\n",
        "plt.title(\"Distribution of the noun 'tweet' in percentages\")\n",
        "plt.show()"
      ]
    },
    {
      "cell_type": "code",
      "execution_count": null,
      "id": "d3ea919e",
      "metadata": {
        "id": "d3ea919e",
        "outputId": "8334be0a-d336-4a6e-cb8f-c2c6dafa4948"
      },
      "outputs": [
        {
          "name": "stdout",
          "output_type": "stream",
          "text": [
            "(90, 18)\n",
            "Counter({'piular': 60, 'tuitejar': 24, 'tuitar': 4, 'tweet': 2})\n"
          ]
        }
      ],
      "source": [
        "# Then for verbs (use lemmas)\n",
        "df_tweet_verb = df[(df['original_lemma'] == 'tweet') & (df['loanword_pos'].str.contains('verb')) & (df['detected_pos'].isin(['verb', 'adj', '']))]\n",
        "print(df_tweet_verb.shape)\n",
        "tweets_verb = Counter(df_tweet_verb['loanword_lemma'])\n",
        "print(tweets_verb)"
      ]
    },
    {
      "cell_type": "code",
      "execution_count": null,
      "id": "122753ae",
      "metadata": {
        "id": "122753ae",
        "outputId": "7dbf3d8e-cf7c-4d4c-f9a8-8c8ab529f525"
      },
      "outputs": [
        {
          "data": {
            "image/png": "[encoded data removed]",
            "text/plain": [
              "<Figure size 700x400 with 1 Axes>"
            ]
          },
          "metadata": {},
          "output_type": "display_data"
        }
      ],
      "source": [
        "# Data for the pie chart\n",
        "tweet_v_labels = list(tweets_verb.keys())\n",
        "tweet_v_values = list(tweets_verb.values())\n",
        "\n",
        "def percentage(val, allvals):\n",
        "    absolute = np.round(val * 100. / float(np.sum(allvals)), decimals=1)\n",
        "    return f\"{absolute:.1f}%\"\n",
        "\n",
        "percentages = [percentage(v, tweet_v_values) for v in tweet_v_values]\n",
        "\n",
        "fig, ax = plt.subplots(figsize=(7, 4), subplot_kw=dict(aspect=\"equal\"))\n",
        "wedges, texts = ax.pie(tweet_v_values, startangle=55, wedgeprops=dict(width=0.5), pctdistance=0.8)\n",
        "\n",
        "bbox_props = dict(boxstyle=\"square,pad=0.3\", fc=\"w\", ec=\"k\", lw=0.72)\n",
        "kw = dict(arrowprops=dict(arrowstyle=\"-\"),\n",
        "          bbox=bbox_props, zorder=0, va=\"center\")\n",
        "\n",
        "for i, p in enumerate(wedges):\n",
        "    ang = (p.theta2 - p.theta1)/2. + p.theta1\n",
        "    y = np.sin(np.deg2rad(ang))\n",
        "    x = np.cos(np.deg2rad(ang))\n",
        "    horizontalalignment = {-1: \"right\", 1: \"left\"}[int(np.sign(x))]\n",
        "    connectionstyle = f\"angle,angleA=0,angleB={ang}\"\n",
        "    kw[\"arrowprops\"].update({\"connectionstyle\": connectionstyle})\n",
        "    # Adjust label positions to avoid overlaps for small slices\n",
        "    # For the smallest slices (last two), push labels further out and slightly shift vertically\n",
        "    ax.annotate(\n",
        "        f'{tweet_v_labels[i]}: {percentages[i]}',\n",
        "        xy=(x, y),\n",
        "        xytext=(1.3 * np.sign(x), 1.2 * y),\n",
        "        horizontalalignment=horizontalalignment,\n",
        "        **kw\n",
        "    )\n",
        "\n",
        "plt.title(\"Distribution of the verb 'to tweet' in percentages\")\n",
        "plt.show()"
      ]
    },
    {
      "cell_type": "code",
      "execution_count": null,
      "id": "1203c2b0",
      "metadata": {
        "id": "1203c2b0",
        "outputId": "bb452503-60f7-4779-cc5b-2aeb64566866"
      },
      "outputs": [
        {
          "name": "stdout",
          "output_type": "stream",
          "text": [
            "Proportion of categories for 'tweet' as noun: loanword_category\n",
            "foreign lexeme    76.0\n",
            "native lexeme     24.0\n",
            "Name: proportion, dtype: float64\n",
            "-----\n",
            "Proportion of types for 'tweet' as noun: loanword_type\n",
            "full adaptation     51.1\n",
            "direct borrowing    24.9\n",
            "calque              24.0\n",
            "Name: proportion, dtype: float64\n",
            "------------------------------------\n",
            "------------------------------------\n",
            "Proportion of categores for 'tweet' as verb: loanword_category\n",
            "native lexeme     66.7\n",
            "foreign lexeme    33.3\n",
            "Name: proportion, dtype: float64\n",
            "-----\n",
            "Proportion of types for 'tweet' as verb: loanword_type\n",
            "calque              66.7\n",
            "full adaptation     31.1\n",
            "direct borrowing     2.2\n",
            "Name: proportion, dtype: float64\n"
          ]
        }
      ],
      "source": [
        "# Find the proportion of categories and types for the tweet noun and verb\n",
        "print(\"Proportion of categories for 'tweet' as noun:\", np.round(df_tweet_noun['loanword_category'].value_counts(normalize=True) * 100, decimals=1))\n",
        "print('-----')\n",
        "print(\"Proportion of types for 'tweet' as noun:\", np.round(df_tweet_noun['loanword_type'].value_counts(normalize=True) * 100, decimals=1))\n",
        "print('------------------------------------')\n",
        "print('------------------------------------')\n",
        "print(\"Proportion of categores for 'tweet' as verb:\", np.round(df_tweet_verb['loanword_category'].value_counts(normalize=True) * 100, decimals=1))\n",
        "print('-----')\n",
        "print(\"Proportion of types for 'tweet' as verb:\", np.round(df_tweet_verb['loanword_type'].value_counts(normalize=True) * 100, decimals=1))"
      ]
    }
  ],
  "metadata": {
    "kernelspec": {
      "display_name": "tfmvenv",
      "language": "python",
      "name": "python3"
    },
    "language_info": {
      "codemirror_mode": {
        "name": "ipython",
        "version": 3
      },
      "file_extension": ".py",
      "mimetype": "text/x-python",
      "name": "python",
      "nbconvert_exporter": "python",
      "pygments_lexer": "ipython3",
      "version": "3.12.5"
    },
    "colab": {
      "provenance": [],
      "include_colab_link": true
    }
  },
  "nbformat": 4,
  "nbformat_minor": 5
}