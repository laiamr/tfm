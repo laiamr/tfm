{
  "cells": [
    {
      "cell_type": "markdown",
      "metadata": {
        "id": "view-in-github",
        "colab_type": "text"
      },
      "source": [
        "<a href=\"https://colab.research.google.com/github/laiamr/tfm/blob/main/Scripts/TFM_Pipeline_1_DataCleaning.ipynb\" target=\"_parent\"><img src=\"https://colab.research.google.com/assets/colab-badge.svg\" alt=\"Open In Colab\"/></a>"
      ]
    },
    {
      "cell_type": "code",
      "source": [
        "!pip install pandas spacy spacy-langdetect"
      ],
      "metadata": {
        "id": "37ukRJIMjC24"
      },
      "id": "37ukRJIMjC24",
      "execution_count": null,
      "outputs": []
    },
    {
      "cell_type": "code",
      "execution_count": null,
      "id": "1c5e62e8",
      "metadata": {
        "id": "1c5e62e8"
      },
      "outputs": [],
      "source": [
        "import pandas as pd\n",
        "import spacy\n",
        "from spacy.language import Language  # For custom pipeline components\n",
        "from spacy_langdetect import LanguageDetector  # For language detection\n",
        "import re\n",
        "from collections import Counter"
      ]
    },
    {
      "cell_type": "markdown",
      "id": "d9646fbb",
      "metadata": {
        "id": "d9646fbb"
      },
      "source": [
        "**CONSTANTS and SPACY SETUP**"
      ]
    },
    {
      "cell_type": "code",
      "execution_count": null,
      "id": "79d55a02",
      "metadata": {
        "id": "79d55a02"
      },
      "outputs": [],
      "source": [
        "# File names\n",
        "dataFile = 'https://raw.githubusercontent.com/laiamr/tfm/refs/heads/main/Data/CAT_Tweets.csv'\n",
        "lexiconFile = 'https://raw.githubusercontent.com/laiamr/tfm/refs/heads/main/Data/WordList.csv'\n",
        "annotationSampleFile = 'https://raw.githubusercontent.com/laiamr/tfm/refs/heads/main/Data/annotation_sample.csv'\n",
        "tempAnnotatedSample = 'https://raw.githubusercontent.com/laiamr/tfm/refs/heads/main/Data/manually_annotated_sample.csv'\n",
        "definitiveAnnotatedSample = 'https://raw.githubusercontent.com/laiamr/tfm/refs/heads/main/Data/annotated_sample.csv'"
      ]
    },
    {
      "cell_type": "code",
      "execution_count": null,
      "id": "9bd0c1b8",
      "metadata": {
        "id": "9bd0c1b8"
      },
      "outputs": [],
      "source": [
        "# FUNCTIONALITY NEEDED TO DETECT THE LANGUAGE IN THE TWEETS\n",
        "# Load spacy model for Catalan\n",
        "nlp = spacy.load(\"ca_core_news_md\")\n",
        "\n",
        "# Add language detector functionality into the pipeline\n",
        "# Custom language detector factory function\n",
        "@Language.factory(\"language_detector\")\n",
        "def create_language_detector(nlp, name):\n",
        "    return LanguageDetector() # Create the detector component\n",
        "\n",
        "# Add language detector to the spaCy pipeline\n",
        "nlp.add_pipe(\"language_detector\", last=True)\n",
        "\n",
        "# Function to check if the text is in catalan\n",
        "def is_catalan(text):\n",
        "    doc = nlp(text)  # Process the text with the spaCy pipeline\n",
        "    detect_language = doc._.language  # Access language detection results\n",
        "    #print(detect_language)\n",
        "    return int(detect_language['language'] == 'ca' and detect_language['score'] > 0.9)  # Check if detected language is catalan and with high confidence"
      ]
    },
    {
      "cell_type": "markdown",
      "id": "8ea5bd8b",
      "metadata": {
        "id": "8ea5bd8b"
      },
      "source": [
        "**LOAD THE TWO DATA FILES**"
      ]
    },
    {
      "cell_type": "code",
      "execution_count": 5,
      "id": "120f27f5",
      "metadata": {
        "colab": {
          "base_uri": "https://localhost:8080/",
          "height": 224
        },
        "id": "120f27f5",
        "outputId": "03c168ed-9e76-479c-c6a4-d7414b16aee6"
      },
      "outputs": [
        {
          "output_type": "stream",
          "name": "stdout",
          "text": [
            "(117, 7)\n"
          ]
        },
        {
          "output_type": "execute_result",
          "data": {
            "text/plain": [
              "  original_lemma loanword_lemma loanword_form loanword_pos loanword_features  \\\n",
              "0        comment        comment       comment   noun, verb             lemma   \n",
              "1            tag            tag           tag   noun, verb             lemma   \n",
              "2            tag            tag          tags         noun            plural   \n",
              "3          story          story         story         noun             lemma   \n",
              "4           like           like          like   noun, verb             lemma   \n",
              "\n",
              "      loanword_type loanword_category  \n",
              "0  direct borrowing    foreign lexeme  \n",
              "1  direct borrowing    foreign lexeme  \n",
              "2  direct borrowing    foreign lexeme  \n",
              "3  direct borrowing    foreign lexeme  \n",
              "4  direct borrowing    foreign lexeme  "
            ],
            "text/html": [
              "\n",
              "  <div id=\"df-4691d4ac-cf19-4248-b499-34aa595964a4\" class=\"colab-df-container\">\n",
              "    <div>\n",
              "<style scoped>\n",
              "    .dataframe tbody tr th:only-of-type {\n",
              "        vertical-align: middle;\n",
              "    }\n",
              "\n",
              "    .dataframe tbody tr th {\n",
              "        vertical-align: top;\n",
              "    }\n",
              "\n",
              "    .dataframe thead th {\n",
              "        text-align: right;\n",
              "    }\n",
              "</style>\n",
              "<table border=\"1\" class=\"dataframe\">\n",
              "  <thead>\n",
              "    <tr style=\"text-align: right;\">\n",
              "      <th></th>\n",
              "      <th>original_lemma</th>\n",
              "      <th>loanword_lemma</th>\n",
              "      <th>loanword_form</th>\n",
              "      <th>loanword_pos</th>\n",
              "      <th>loanword_features</th>\n",
              "      <th>loanword_type</th>\n",
              "      <th>loanword_category</th>\n",
              "    </tr>\n",
              "  </thead>\n",
              "  <tbody>\n",
              "    <tr>\n",
              "      <th>0</th>\n",
              "      <td>comment</td>\n",
              "      <td>comment</td>\n",
              "      <td>comment</td>\n",
              "      <td>noun, verb</td>\n",
              "      <td>lemma</td>\n",
              "      <td>direct borrowing</td>\n",
              "      <td>foreign lexeme</td>\n",
              "    </tr>\n",
              "    <tr>\n",
              "      <th>1</th>\n",
              "      <td>tag</td>\n",
              "      <td>tag</td>\n",
              "      <td>tag</td>\n",
              "      <td>noun, verb</td>\n",
              "      <td>lemma</td>\n",
              "      <td>direct borrowing</td>\n",
              "      <td>foreign lexeme</td>\n",
              "    </tr>\n",
              "    <tr>\n",
              "      <th>2</th>\n",
              "      <td>tag</td>\n",
              "      <td>tag</td>\n",
              "      <td>tags</td>\n",
              "      <td>noun</td>\n",
              "      <td>plural</td>\n",
              "      <td>direct borrowing</td>\n",
              "      <td>foreign lexeme</td>\n",
              "    </tr>\n",
              "    <tr>\n",
              "      <th>3</th>\n",
              "      <td>story</td>\n",
              "      <td>story</td>\n",
              "      <td>story</td>\n",
              "      <td>noun</td>\n",
              "      <td>lemma</td>\n",
              "      <td>direct borrowing</td>\n",
              "      <td>foreign lexeme</td>\n",
              "    </tr>\n",
              "    <tr>\n",
              "      <th>4</th>\n",
              "      <td>like</td>\n",
              "      <td>like</td>\n",
              "      <td>like</td>\n",
              "      <td>noun, verb</td>\n",
              "      <td>lemma</td>\n",
              "      <td>direct borrowing</td>\n",
              "      <td>foreign lexeme</td>\n",
              "    </tr>\n",
              "  </tbody>\n",
              "</table>\n",
              "</div>\n",
              "    <div class=\"colab-df-buttons\">\n",
              "\n",
              "  <div class=\"colab-df-container\">\n",
              "    <button class=\"colab-df-convert\" onclick=\"convertToInteractive('df-4691d4ac-cf19-4248-b499-34aa595964a4')\"\n",
              "            title=\"Convert this dataframe to an interactive table.\"\n",
              "            style=\"display:none;\">\n",
              "\n",
              "  <svg xmlns=\"http://www.w3.org/2000/svg\" height=\"24px\" viewBox=\"0 -960 960 960\">\n",
              "    <path d=\"M120-120v-720h720v720H120Zm60-500h600v-160H180v160Zm220 220h160v-160H400v160Zm0 220h160v-160H400v160ZM180-400h160v-160H180v160Zm440 0h160v-160H620v160ZM180-180h160v-160H180v160Zm440 0h160v-160H620v160Z\"/>\n",
              "  </svg>\n",
              "    </button>\n",
              "\n",
              "  <style>\n",
              "    .colab-df-container {\n",
              "      display:flex;\n",
              "      gap: 12px;\n",
              "    }\n",
              "\n",
              "    .colab-df-convert {\n",
              "      background-color: #E8F0FE;\n",
              "      border: none;\n",
              "      border-radius: 50%;\n",
              "      cursor: pointer;\n",
              "      display: none;\n",
              "      fill: #1967D2;\n",
              "      height: 32px;\n",
              "      padding: 0 0 0 0;\n",
              "      width: 32px;\n",
              "    }\n",
              "\n",
              "    .colab-df-convert:hover {\n",
              "      background-color: #E2EBFA;\n",
              "      box-shadow: 0px 1px 2px rgba(60, 64, 67, 0.3), 0px 1px 3px 1px rgba(60, 64, 67, 0.15);\n",
              "      fill: #174EA6;\n",
              "    }\n",
              "\n",
              "    .colab-df-buttons div {\n",
              "      margin-bottom: 4px;\n",
              "    }\n",
              "\n",
              "    [theme=dark] .colab-df-convert {\n",
              "      background-color: #3B4455;\n",
              "      fill: #D2E3FC;\n",
              "    }\n",
              "\n",
              "    [theme=dark] .colab-df-convert:hover {\n",
              "      background-color: #434B5C;\n",
              "      box-shadow: 0px 1px 3px 1px rgba(0, 0, 0, 0.15);\n",
              "      filter: drop-shadow(0px 1px 2px rgba(0, 0, 0, 0.3));\n",
              "      fill: #FFFFFF;\n",
              "    }\n",
              "  </style>\n",
              "\n",
              "    <script>\n",
              "      const buttonEl =\n",
              "        document.querySelector('#df-4691d4ac-cf19-4248-b499-34aa595964a4 button.colab-df-convert');\n",
              "      buttonEl.style.display =\n",
              "        google.colab.kernel.accessAllowed ? 'block' : 'none';\n",
              "\n",
              "      async function convertToInteractive(key) {\n",
              "        const element = document.querySelector('#df-4691d4ac-cf19-4248-b499-34aa595964a4');\n",
              "        const dataTable =\n",
              "          await google.colab.kernel.invokeFunction('convertToInteractive',\n",
              "                                                    [key], {});\n",
              "        if (!dataTable) return;\n",
              "\n",
              "        const docLinkHtml = 'Like what you see? Visit the ' +\n",
              "          '<a target=\"_blank\" href=https://colab.research.google.com/notebooks/data_table.ipynb>data table notebook</a>'\n",
              "          + ' to learn more about interactive tables.';\n",
              "        element.innerHTML = '';\n",
              "        dataTable['output_type'] = 'display_data';\n",
              "        await google.colab.output.renderOutput(dataTable, element);\n",
              "        const docLink = document.createElement('div');\n",
              "        docLink.innerHTML = docLinkHtml;\n",
              "        element.appendChild(docLink);\n",
              "      }\n",
              "    </script>\n",
              "  </div>\n",
              "\n",
              "\n",
              "    <div id=\"df-f29cca21-27b0-4e37-afe7-7fe913c73ac6\">\n",
              "      <button class=\"colab-df-quickchart\" onclick=\"quickchart('df-f29cca21-27b0-4e37-afe7-7fe913c73ac6')\"\n",
              "                title=\"Suggest charts\"\n",
              "                style=\"display:none;\">\n",
              "\n",
              "<svg xmlns=\"http://www.w3.org/2000/svg\" height=\"24px\"viewBox=\"0 0 24 24\"\n",
              "     width=\"24px\">\n",
              "    <g>\n",
              "        <path d=\"M19 3H5c-1.1 0-2 .9-2 2v14c0 1.1.9 2 2 2h14c1.1 0 2-.9 2-2V5c0-1.1-.9-2-2-2zM9 17H7v-7h2v7zm4 0h-2V7h2v10zm4 0h-2v-4h2v4z\"/>\n",
              "    </g>\n",
              "</svg>\n",
              "      </button>\n",
              "\n",
              "<style>\n",
              "  .colab-df-quickchart {\n",
              "      --bg-color: #E8F0FE;\n",
              "      --fill-color: #1967D2;\n",
              "      --hover-bg-color: #E2EBFA;\n",
              "      --hover-fill-color: #174EA6;\n",
              "      --disabled-fill-color: #AAA;\n",
              "      --disabled-bg-color: #DDD;\n",
              "  }\n",
              "\n",
              "  [theme=dark] .colab-df-quickchart {\n",
              "      --bg-color: #3B4455;\n",
              "      --fill-color: #D2E3FC;\n",
              "      --hover-bg-color: #434B5C;\n",
              "      --hover-fill-color: #FFFFFF;\n",
              "      --disabled-bg-color: #3B4455;\n",
              "      --disabled-fill-color: #666;\n",
              "  }\n",
              "\n",
              "  .colab-df-quickchart {\n",
              "    background-color: var(--bg-color);\n",
              "    border: none;\n",
              "    border-radius: 50%;\n",
              "    cursor: pointer;\n",
              "    display: none;\n",
              "    fill: var(--fill-color);\n",
              "    height: 32px;\n",
              "    padding: 0;\n",
              "    width: 32px;\n",
              "  }\n",
              "\n",
              "  .colab-df-quickchart:hover {\n",
              "    background-color: var(--hover-bg-color);\n",
              "    box-shadow: 0 1px 2px rgba(60, 64, 67, 0.3), 0 1px 3px 1px rgba(60, 64, 67, 0.15);\n",
              "    fill: var(--button-hover-fill-color);\n",
              "  }\n",
              "\n",
              "  .colab-df-quickchart-complete:disabled,\n",
              "  .colab-df-quickchart-complete:disabled:hover {\n",
              "    background-color: var(--disabled-bg-color);\n",
              "    fill: var(--disabled-fill-color);\n",
              "    box-shadow: none;\n",
              "  }\n",
              "\n",
              "  .colab-df-spinner {\n",
              "    border: 2px solid var(--fill-color);\n",
              "    border-color: transparent;\n",
              "    border-bottom-color: var(--fill-color);\n",
              "    animation:\n",
              "      spin 1s steps(1) infinite;\n",
              "  }\n",
              "\n",
              "  @keyframes spin {\n",
              "    0% {\n",
              "      border-color: transparent;\n",
              "      border-bottom-color: var(--fill-color);\n",
              "      border-left-color: var(--fill-color);\n",
              "    }\n",
              "    20% {\n",
              "      border-color: transparent;\n",
              "      border-left-color: var(--fill-color);\n",
              "      border-top-color: var(--fill-color);\n",
              "    }\n",
              "    30% {\n",
              "      border-color: transparent;\n",
              "      border-left-color: var(--fill-color);\n",
              "      border-top-color: var(--fill-color);\n",
              "      border-right-color: var(--fill-color);\n",
              "    }\n",
              "    40% {\n",
              "      border-color: transparent;\n",
              "      border-right-color: var(--fill-color);\n",
              "      border-top-color: var(--fill-color);\n",
              "    }\n",
              "    60% {\n",
              "      border-color: transparent;\n",
              "      border-right-color: var(--fill-color);\n",
              "    }\n",
              "    80% {\n",
              "      border-color: transparent;\n",
              "      border-right-color: var(--fill-color);\n",
              "      border-bottom-color: var(--fill-color);\n",
              "    }\n",
              "    90% {\n",
              "      border-color: transparent;\n",
              "      border-bottom-color: var(--fill-color);\n",
              "    }\n",
              "  }\n",
              "</style>\n",
              "\n",
              "      <script>\n",
              "        async function quickchart(key) {\n",
              "          const quickchartButtonEl =\n",
              "            document.querySelector('#' + key + ' button');\n",
              "          quickchartButtonEl.disabled = true;  // To prevent multiple clicks.\n",
              "          quickchartButtonEl.classList.add('colab-df-spinner');\n",
              "          try {\n",
              "            const charts = await google.colab.kernel.invokeFunction(\n",
              "                'suggestCharts', [key], {});\n",
              "          } catch (error) {\n",
              "            console.error('Error during call to suggestCharts:', error);\n",
              "          }\n",
              "          quickchartButtonEl.classList.remove('colab-df-spinner');\n",
              "          quickchartButtonEl.classList.add('colab-df-quickchart-complete');\n",
              "        }\n",
              "        (() => {\n",
              "          let quickchartButtonEl =\n",
              "            document.querySelector('#df-f29cca21-27b0-4e37-afe7-7fe913c73ac6 button');\n",
              "          quickchartButtonEl.style.display =\n",
              "            google.colab.kernel.accessAllowed ? 'block' : 'none';\n",
              "        })();\n",
              "      </script>\n",
              "    </div>\n",
              "\n",
              "    </div>\n",
              "  </div>\n"
            ],
            "application/vnd.google.colaboratory.intrinsic+json": {
              "type": "dataframe",
              "variable_name": "df_lex",
              "summary": "{\n  \"name\": \"df_lex\",\n  \"rows\": 117,\n  \"fields\": [\n    {\n      \"column\": \"original_lemma\",\n      \"properties\": {\n        \"dtype\": \"category\",\n        \"num_unique_values\": 23,\n        \"samples\": [\n          \"repost\",\n          \"reply\",\n          \"comment\"\n        ],\n        \"semantic_type\": \"\",\n        \"description\": \"\"\n      }\n    },\n    {\n      \"column\": \"loanword_lemma\",\n      \"properties\": {\n        \"dtype\": \"string\",\n        \"num_unique_values\": 62,\n        \"samples\": [\n          \"seguir\",\n          \"repiulada\",\n          \"comment\"\n        ],\n        \"semantic_type\": \"\",\n        \"description\": \"\"\n      }\n    },\n    {\n      \"column\": \"loanword_form\",\n      \"properties\": {\n        \"dtype\": \"string\",\n        \"num_unique_values\": 117,\n        \"samples\": [\n          \"blocat\",\n          \"like\",\n          \"etiquetant\"\n        ],\n        \"semantic_type\": \"\",\n        \"description\": \"\"\n      }\n    },\n    {\n      \"column\": \"loanword_pos\",\n      \"properties\": {\n        \"dtype\": \"category\",\n        \"num_unique_values\": 3,\n        \"samples\": [\n          \"noun, verb\",\n          \"noun\",\n          \"verb\"\n        ],\n        \"semantic_type\": \"\",\n        \"description\": \"\"\n      }\n    },\n    {\n      \"column\": \"loanword_features\",\n      \"properties\": {\n        \"dtype\": \"category\",\n        \"num_unique_values\": 7,\n        \"samples\": [\n          \"lemma\",\n          \"plural\",\n          \"singular\"\n        ],\n        \"semantic_type\": \"\",\n        \"description\": \"\"\n      }\n    },\n    {\n      \"column\": \"loanword_type\",\n      \"properties\": {\n        \"dtype\": \"category\",\n        \"num_unique_values\": 6,\n        \"samples\": [\n          \"direct borrowing\",\n          \"calque\",\n          \"syntactic composition\"\n        ],\n        \"semantic_type\": \"\",\n        \"description\": \"\"\n      }\n    },\n    {\n      \"column\": \"loanword_category\",\n      \"properties\": {\n        \"dtype\": \"category\",\n        \"num_unique_values\": 2,\n        \"samples\": [\n          \"native lexeme\",\n          \"foreign lexeme\"\n        ],\n        \"semantic_type\": \"\",\n        \"description\": \"\"\n      }\n    }\n  ]\n}"
            }
          },
          "metadata": {},
          "execution_count": 5
        }
      ],
      "source": [
        "# Load the lexicon file - contains keywords and type of borrowing\n",
        "df_lex = pd.read_csv(lexiconFile, sep=';')\n",
        "print(df_lex.shape)\n",
        "df_lex.head()"
      ]
    },
    {
      "cell_type": "code",
      "execution_count": 6,
      "id": "257d71db",
      "metadata": {
        "id": "257d71db",
        "colab": {
          "base_uri": "https://localhost:8080/",
          "height": 224
        },
        "outputId": "ed536ad4-b2ca-4a4b-fb41-d9989909d113"
      },
      "outputs": [
        {
          "output_type": "stream",
          "name": "stdout",
          "text": [
            "(15747, 4)\n"
          ]
        },
        {
          "output_type": "execute_result",
          "data": {
            "text/plain": [
              "                    id searchQuery  \\\n",
              "0  1619677524967190528    repiulet   \n",
              "1  1620168513376894976    retuitar   \n",
              "2  1619742793383170048    retuitar   \n",
              "3  1619666435776864256    retuitar   \n",
              "4  1619642801406509056    retuitar   \n",
              "\n",
              "                                                text  \\\n",
              "0  Un ruzi*, que he barrat tot d'una, vota pel me...   \n",
              "1  podeu demanar la dimissió de Sigfrid Gras sens...   \n",
              "2                  Perquè, retuitar? Perque fa falta   \n",
              "3  En contra de retuitar genocides, per molt sucó...   \n",
              "4  Retuit si tu també creus que tampoc s'ha de re...   \n",
              "\n",
              "                   timestamp  \n",
              "0  2023-01-29 12:43:00+00:00  \n",
              "1  2023-01-30 21:14:00+00:00  \n",
              "2  2023-01-29 17:02:00+00:00  \n",
              "3  2023-01-29 11:59:00+00:00  \n",
              "4  2023-01-29 10:25:00+00:00  "
            ],
            "text/html": [
              "\n",
              "  <div id=\"df-e20178e8-33db-4fef-9022-0dafe1431ecd\" class=\"colab-df-container\">\n",
              "    <div>\n",
              "<style scoped>\n",
              "    .dataframe tbody tr th:only-of-type {\n",
              "        vertical-align: middle;\n",
              "    }\n",
              "\n",
              "    .dataframe tbody tr th {\n",
              "        vertical-align: top;\n",
              "    }\n",
              "\n",
              "    .dataframe thead th {\n",
              "        text-align: right;\n",
              "    }\n",
              "</style>\n",
              "<table border=\"1\" class=\"dataframe\">\n",
              "  <thead>\n",
              "    <tr style=\"text-align: right;\">\n",
              "      <th></th>\n",
              "      <th>id</th>\n",
              "      <th>searchQuery</th>\n",
              "      <th>text</th>\n",
              "      <th>timestamp</th>\n",
              "    </tr>\n",
              "  </thead>\n",
              "  <tbody>\n",
              "    <tr>\n",
              "      <th>0</th>\n",
              "      <td>1619677524967190528</td>\n",
              "      <td>repiulet</td>\n",
              "      <td>Un ruzi*, que he barrat tot d'una, vota pel me...</td>\n",
              "      <td>2023-01-29 12:43:00+00:00</td>\n",
              "    </tr>\n",
              "    <tr>\n",
              "      <th>1</th>\n",
              "      <td>1620168513376894976</td>\n",
              "      <td>retuitar</td>\n",
              "      <td>podeu demanar la dimissió de Sigfrid Gras sens...</td>\n",
              "      <td>2023-01-30 21:14:00+00:00</td>\n",
              "    </tr>\n",
              "    <tr>\n",
              "      <th>2</th>\n",
              "      <td>1619742793383170048</td>\n",
              "      <td>retuitar</td>\n",
              "      <td>Perquè, retuitar? Perque fa falta</td>\n",
              "      <td>2023-01-29 17:02:00+00:00</td>\n",
              "    </tr>\n",
              "    <tr>\n",
              "      <th>3</th>\n",
              "      <td>1619666435776864256</td>\n",
              "      <td>retuitar</td>\n",
              "      <td>En contra de retuitar genocides, per molt sucó...</td>\n",
              "      <td>2023-01-29 11:59:00+00:00</td>\n",
              "    </tr>\n",
              "    <tr>\n",
              "      <th>4</th>\n",
              "      <td>1619642801406509056</td>\n",
              "      <td>retuitar</td>\n",
              "      <td>Retuit si tu també creus que tampoc s'ha de re...</td>\n",
              "      <td>2023-01-29 10:25:00+00:00</td>\n",
              "    </tr>\n",
              "  </tbody>\n",
              "</table>\n",
              "</div>\n",
              "    <div class=\"colab-df-buttons\">\n",
              "\n",
              "  <div class=\"colab-df-container\">\n",
              "    <button class=\"colab-df-convert\" onclick=\"convertToInteractive('df-e20178e8-33db-4fef-9022-0dafe1431ecd')\"\n",
              "            title=\"Convert this dataframe to an interactive table.\"\n",
              "            style=\"display:none;\">\n",
              "\n",
              "  <svg xmlns=\"http://www.w3.org/2000/svg\" height=\"24px\" viewBox=\"0 -960 960 960\">\n",
              "    <path d=\"M120-120v-720h720v720H120Zm60-500h600v-160H180v160Zm220 220h160v-160H400v160Zm0 220h160v-160H400v160ZM180-400h160v-160H180v160Zm440 0h160v-160H620v160ZM180-180h160v-160H180v160Zm440 0h160v-160H620v160Z\"/>\n",
              "  </svg>\n",
              "    </button>\n",
              "\n",
              "  <style>\n",
              "    .colab-df-container {\n",
              "      display:flex;\n",
              "      gap: 12px;\n",
              "    }\n",
              "\n",
              "    .colab-df-convert {\n",
              "      background-color: #E8F0FE;\n",
              "      border: none;\n",
              "      border-radius: 50%;\n",
              "      cursor: pointer;\n",
              "      display: none;\n",
              "      fill: #1967D2;\n",
              "      height: 32px;\n",
              "      padding: 0 0 0 0;\n",
              "      width: 32px;\n",
              "    }\n",
              "\n",
              "    .colab-df-convert:hover {\n",
              "      background-color: #E2EBFA;\n",
              "      box-shadow: 0px 1px 2px rgba(60, 64, 67, 0.3), 0px 1px 3px 1px rgba(60, 64, 67, 0.15);\n",
              "      fill: #174EA6;\n",
              "    }\n",
              "\n",
              "    .colab-df-buttons div {\n",
              "      margin-bottom: 4px;\n",
              "    }\n",
              "\n",
              "    [theme=dark] .colab-df-convert {\n",
              "      background-color: #3B4455;\n",
              "      fill: #D2E3FC;\n",
              "    }\n",
              "\n",
              "    [theme=dark] .colab-df-convert:hover {\n",
              "      background-color: #434B5C;\n",
              "      box-shadow: 0px 1px 3px 1px rgba(0, 0, 0, 0.15);\n",
              "      filter: drop-shadow(0px 1px 2px rgba(0, 0, 0, 0.3));\n",
              "      fill: #FFFFFF;\n",
              "    }\n",
              "  </style>\n",
              "\n",
              "    <script>\n",
              "      const buttonEl =\n",
              "        document.querySelector('#df-e20178e8-33db-4fef-9022-0dafe1431ecd button.colab-df-convert');\n",
              "      buttonEl.style.display =\n",
              "        google.colab.kernel.accessAllowed ? 'block' : 'none';\n",
              "\n",
              "      async function convertToInteractive(key) {\n",
              "        const element = document.querySelector('#df-e20178e8-33db-4fef-9022-0dafe1431ecd');\n",
              "        const dataTable =\n",
              "          await google.colab.kernel.invokeFunction('convertToInteractive',\n",
              "                                                    [key], {});\n",
              "        if (!dataTable) return;\n",
              "\n",
              "        const docLinkHtml = 'Like what you see? Visit the ' +\n",
              "          '<a target=\"_blank\" href=https://colab.research.google.com/notebooks/data_table.ipynb>data table notebook</a>'\n",
              "          + ' to learn more about interactive tables.';\n",
              "        element.innerHTML = '';\n",
              "        dataTable['output_type'] = 'display_data';\n",
              "        await google.colab.output.renderOutput(dataTable, element);\n",
              "        const docLink = document.createElement('div');\n",
              "        docLink.innerHTML = docLinkHtml;\n",
              "        element.appendChild(docLink);\n",
              "      }\n",
              "    </script>\n",
              "  </div>\n",
              "\n",
              "\n",
              "    <div id=\"df-e8a395b3-bcde-4d39-8cb0-2e5468d3532f\">\n",
              "      <button class=\"colab-df-quickchart\" onclick=\"quickchart('df-e8a395b3-bcde-4d39-8cb0-2e5468d3532f')\"\n",
              "                title=\"Suggest charts\"\n",
              "                style=\"display:none;\">\n",
              "\n",
              "<svg xmlns=\"http://www.w3.org/2000/svg\" height=\"24px\"viewBox=\"0 0 24 24\"\n",
              "     width=\"24px\">\n",
              "    <g>\n",
              "        <path d=\"M19 3H5c-1.1 0-2 .9-2 2v14c0 1.1.9 2 2 2h14c1.1 0 2-.9 2-2V5c0-1.1-.9-2-2-2zM9 17H7v-7h2v7zm4 0h-2V7h2v10zm4 0h-2v-4h2v4z\"/>\n",
              "    </g>\n",
              "</svg>\n",
              "      </button>\n",
              "\n",
              "<style>\n",
              "  .colab-df-quickchart {\n",
              "      --bg-color: #E8F0FE;\n",
              "      --fill-color: #1967D2;\n",
              "      --hover-bg-color: #E2EBFA;\n",
              "      --hover-fill-color: #174EA6;\n",
              "      --disabled-fill-color: #AAA;\n",
              "      --disabled-bg-color: #DDD;\n",
              "  }\n",
              "\n",
              "  [theme=dark] .colab-df-quickchart {\n",
              "      --bg-color: #3B4455;\n",
              "      --fill-color: #D2E3FC;\n",
              "      --hover-bg-color: #434B5C;\n",
              "      --hover-fill-color: #FFFFFF;\n",
              "      --disabled-bg-color: #3B4455;\n",
              "      --disabled-fill-color: #666;\n",
              "  }\n",
              "\n",
              "  .colab-df-quickchart {\n",
              "    background-color: var(--bg-color);\n",
              "    border: none;\n",
              "    border-radius: 50%;\n",
              "    cursor: pointer;\n",
              "    display: none;\n",
              "    fill: var(--fill-color);\n",
              "    height: 32px;\n",
              "    padding: 0;\n",
              "    width: 32px;\n",
              "  }\n",
              "\n",
              "  .colab-df-quickchart:hover {\n",
              "    background-color: var(--hover-bg-color);\n",
              "    box-shadow: 0 1px 2px rgba(60, 64, 67, 0.3), 0 1px 3px 1px rgba(60, 64, 67, 0.15);\n",
              "    fill: var(--button-hover-fill-color);\n",
              "  }\n",
              "\n",
              "  .colab-df-quickchart-complete:disabled,\n",
              "  .colab-df-quickchart-complete:disabled:hover {\n",
              "    background-color: var(--disabled-bg-color);\n",
              "    fill: var(--disabled-fill-color);\n",
              "    box-shadow: none;\n",
              "  }\n",
              "\n",
              "  .colab-df-spinner {\n",
              "    border: 2px solid var(--fill-color);\n",
              "    border-color: transparent;\n",
              "    border-bottom-color: var(--fill-color);\n",
              "    animation:\n",
              "      spin 1s steps(1) infinite;\n",
              "  }\n",
              "\n",
              "  @keyframes spin {\n",
              "    0% {\n",
              "      border-color: transparent;\n",
              "      border-bottom-color: var(--fill-color);\n",
              "      border-left-color: var(--fill-color);\n",
              "    }\n",
              "    20% {\n",
              "      border-color: transparent;\n",
              "      border-left-color: var(--fill-color);\n",
              "      border-top-color: var(--fill-color);\n",
              "    }\n",
              "    30% {\n",
              "      border-color: transparent;\n",
              "      border-left-color: var(--fill-color);\n",
              "      border-top-color: var(--fill-color);\n",
              "      border-right-color: var(--fill-color);\n",
              "    }\n",
              "    40% {\n",
              "      border-color: transparent;\n",
              "      border-right-color: var(--fill-color);\n",
              "      border-top-color: var(--fill-color);\n",
              "    }\n",
              "    60% {\n",
              "      border-color: transparent;\n",
              "      border-right-color: var(--fill-color);\n",
              "    }\n",
              "    80% {\n",
              "      border-color: transparent;\n",
              "      border-right-color: var(--fill-color);\n",
              "      border-bottom-color: var(--fill-color);\n",
              "    }\n",
              "    90% {\n",
              "      border-color: transparent;\n",
              "      border-bottom-color: var(--fill-color);\n",
              "    }\n",
              "  }\n",
              "</style>\n",
              "\n",
              "      <script>\n",
              "        async function quickchart(key) {\n",
              "          const quickchartButtonEl =\n",
              "            document.querySelector('#' + key + ' button');\n",
              "          quickchartButtonEl.disabled = true;  // To prevent multiple clicks.\n",
              "          quickchartButtonEl.classList.add('colab-df-spinner');\n",
              "          try {\n",
              "            const charts = await google.colab.kernel.invokeFunction(\n",
              "                'suggestCharts', [key], {});\n",
              "          } catch (error) {\n",
              "            console.error('Error during call to suggestCharts:', error);\n",
              "          }\n",
              "          quickchartButtonEl.classList.remove('colab-df-spinner');\n",
              "          quickchartButtonEl.classList.add('colab-df-quickchart-complete');\n",
              "        }\n",
              "        (() => {\n",
              "          let quickchartButtonEl =\n",
              "            document.querySelector('#df-e8a395b3-bcde-4d39-8cb0-2e5468d3532f button');\n",
              "          quickchartButtonEl.style.display =\n",
              "            google.colab.kernel.accessAllowed ? 'block' : 'none';\n",
              "        })();\n",
              "      </script>\n",
              "    </div>\n",
              "\n",
              "    </div>\n",
              "  </div>\n"
            ],
            "application/vnd.google.colaboratory.intrinsic+json": {
              "type": "dataframe",
              "variable_name": "df",
              "summary": "{\n  \"name\": \"df\",\n  \"rows\": 15747,\n  \"fields\": [\n    {\n      \"column\": \"id\",\n      \"properties\": {\n        \"dtype\": \"number\",\n        \"std\": 35023031747223416,\n        \"min\": 1283844679935590400,\n        \"max\": 1754904523917697280,\n        \"num_unique_values\": 15747,\n        \"samples\": [\n          1652223786949701634,\n          1620170795749359616,\n          1619621564143779841\n        ],\n        \"semantic_type\": \"\",\n        \"description\": \"\"\n      }\n    },\n    {\n      \"column\": \"searchQuery\",\n      \"properties\": {\n        \"dtype\": \"category\",\n        \"num_unique_values\": 109,\n        \"samples\": [\n          \"comentant\",\n          \"retuitejar\",\n          \"comentari\"\n        ],\n        \"semantic_type\": \"\",\n        \"description\": \"\"\n      }\n    },\n    {\n      \"column\": \"text\",\n      \"properties\": {\n        \"dtype\": \"string\",\n        \"num_unique_values\": 15022,\n        \"samples\": [\n          \"\\ud83d\\ude01.  Moltes gr\\u00e0cies Valent\\u00ed\",\n          \"\\ud83d\\udcfb\\u26bd\\ufe0f Escolta de nou la retransmissi\\u00f3 del @realvalladolid 1-0 VCF en @Capital_vlc\\n\\n\\ud83c\\udf99 @pacolloret_, @LuisUrrutiaB, @cegeavivo, Lagardera, Juanjo Rodri i @AbelMartiSerra \\n\\n\\u2022Pr\\u00e8via go.ivoox.com/rf/102216781\\n\\n\\u2022Partit go.ivoox.com/rf/102216796\\n\\n\\u2022Post go.ivoox.com/rf/102222418\",\n          \"peg\\u00f3 mal un tuit de spreen updates\"\n        ],\n        \"semantic_type\": \"\",\n        \"description\": \"\"\n      }\n    },\n    {\n      \"column\": \"timestamp\",\n      \"properties\": {\n        \"dtype\": \"category\",\n        \"num_unique_values\": 6370,\n        \"samples\": [\n          \"2023-10-29T17:46:00.000Z\",\n          \"2023-01-30 18:28:00+00:00\",\n          \"2023-01-30 14:20:00+00:00\"\n        ],\n        \"semantic_type\": \"\",\n        \"description\": \"\"\n      }\n    }\n  ]\n}"
            }
          },
          "metadata": {},
          "execution_count": 6
        }
      ],
      "source": [
        "# Load the data file - contains the tweets\n",
        "df = pd.read_csv(dataFile, sep=';', index_col=0)\n",
        "print(df.shape)\n",
        "df.head()"
      ]
    },
    {
      "cell_type": "markdown",
      "id": "54e08c38",
      "metadata": {
        "id": "54e08c38"
      },
      "source": [
        "**PRE-PROCESSING: DATA CLEANING**"
      ]
    },
    {
      "cell_type": "code",
      "execution_count": null,
      "id": "9d846624",
      "metadata": {
        "id": "9d846624"
      },
      "outputs": [],
      "source": [
        "# Remove rows that have empty text column (NA)\n",
        "df = df.dropna(axis=0, subset=['text'], ignore_index=True)\n",
        "print(df.shape)\n",
        "df.head()"
      ]
    },
    {
      "cell_type": "code",
      "execution_count": null,
      "id": "61cd4a01",
      "metadata": {
        "id": "61cd4a01"
      },
      "outputs": [],
      "source": [
        "# Convert to lowercase both searchQuery and text\n",
        "df['searchQuery'] = df['searchQuery'].apply(str.lower)\n",
        "df['text'] = df['text'].apply(str.lower)"
      ]
    },
    {
      "cell_type": "code",
      "execution_count": null,
      "id": "98d01329",
      "metadata": {
        "id": "98d01329"
      },
      "outputs": [],
      "source": [
        "# Clean text: remove newline chars, links, hashtags\n",
        "def cleanText(t: str):\n",
        "    t = re.sub(r'\\n', ' ', t) # Remove newline chars\n",
        "    t = re.sub(r'\\s\\w*\\.?(\\w*\\/)+\\w*', '', t) # Remove links\n",
        "    t = re.sub(r'#[\\w\\\\]*\\s', '', t) # Remove hashtags\n",
        "    t = re.sub(r'\\s{2,}', ' ', t) # Remove duplicated spaces\n",
        "    return t"
      ]
    },
    {
      "cell_type": "code",
      "execution_count": null,
      "id": "a24644a6",
      "metadata": {
        "id": "a24644a6"
      },
      "outputs": [],
      "source": [
        "# Clean text: remove newline chars, links, hashtags\n",
        "df['cleanText'] = df['text'].apply(cleanText)"
      ]
    },
    {
      "cell_type": "code",
      "execution_count": null,
      "id": "397212fb",
      "metadata": {
        "id": "397212fb"
      },
      "outputs": [],
      "source": [
        "print(df.shape)\n",
        "df.head()"
      ]
    },
    {
      "cell_type": "markdown",
      "id": "c15ce56b",
      "metadata": {
        "id": "c15ce56b"
      },
      "source": [
        "**PRE-PROCESSING: FILTERING**"
      ]
    },
    {
      "cell_type": "code",
      "execution_count": null,
      "id": "0ae3f7a7",
      "metadata": {
        "id": "0ae3f7a7"
      },
      "outputs": [],
      "source": [
        "# Language detection\n",
        "# Add row to indicate if the tweet is written in Catalan or not (1 - CAT; 0 - NOT CAT)\n",
        "df['is_catalan'] = df['text'].apply(is_catalan)"
      ]
    },
    {
      "cell_type": "code",
      "execution_count": null,
      "id": "93545659",
      "metadata": {
        "id": "93545659"
      },
      "outputs": [],
      "source": [
        "print(df.shape)\n",
        "df.head()"
      ]
    },
    {
      "cell_type": "code",
      "execution_count": null,
      "id": "03423d3a",
      "metadata": {
        "id": "03423d3a"
      },
      "outputs": [],
      "source": [
        "df[df['is_catalan'] == 0].shape # Not Catalan"
      ]
    },
    {
      "cell_type": "code",
      "execution_count": null,
      "id": "7ec5a73a",
      "metadata": {
        "id": "7ec5a73a"
      },
      "outputs": [],
      "source": [
        "df[df['is_catalan'] == 1].shape # Catalan"
      ]
    },
    {
      "cell_type": "code",
      "execution_count": null,
      "id": "99ecd186",
      "metadata": {
        "id": "99ecd186"
      },
      "outputs": [],
      "source": [
        "# Filter - keep only the rows that are in Catalan\n",
        "df_cat = df[df['is_catalan'] == 1]\n",
        "df_cat.drop('is_catalan', axis=1, inplace=True)"
      ]
    },
    {
      "cell_type": "code",
      "execution_count": null,
      "id": "f4f51e87",
      "metadata": {
        "id": "f4f51e87"
      },
      "outputs": [],
      "source": [
        "print(df_cat.shape)\n",
        "df_cat.head()"
      ]
    },
    {
      "cell_type": "code",
      "execution_count": null,
      "id": "22c8084d",
      "metadata": {
        "id": "22c8084d"
      },
      "outputs": [],
      "source": [
        "# From the lexicon file, we obtain all the keywords we want to search for in the texts\n",
        "kw_list = list(set(df_lex['loanword_form'].tolist()))\n",
        "len(kw_list)"
      ]
    },
    {
      "cell_type": "code",
      "execution_count": null,
      "id": "981bb6d4",
      "metadata": {
        "id": "981bb6d4"
      },
      "outputs": [],
      "source": [
        "# Initialize list to store rows that contain the keywords (if a row contains more than one, it will be repeated for each word)\n",
        "list_df_kw = []\n",
        "\n",
        "# Iterate over each row of the dataframe\n",
        "for _, row in df_cat.iterrows():\n",
        "    #print(f'---{i}---')\n",
        "    #print(row['cleanText'])\n",
        "    #print('------')\n",
        "    # Iterate over each keyword to see if any is found in the text\n",
        "    for word in kw_list:\n",
        "        pattern = f\"\\\\b{word}\\\\b\"\n",
        "        r = re.findall(pattern, row['cleanText'])\n",
        "        if r:\n",
        "            #print(r)\n",
        "            # Copy each row into a new list, adding the word found in the text (new column in the final DF)\n",
        "            list_df_kw.append(row.to_list() + [word])\n",
        "\n",
        "#list_df_kw"
      ]
    },
    {
      "cell_type": "code",
      "execution_count": null,
      "id": "5e735edc",
      "metadata": {
        "id": "5e735edc"
      },
      "outputs": [],
      "source": [
        "# Create new DataFrame with the searches of keywords in the tweets\n",
        "# Column Names: id, searchQuery, text, timestamp, cleanText, foundWord\n",
        "df_filt = pd.DataFrame(list_df_kw, columns=['id', 'searchQuery', 'text', 'timestamp', 'cleanText', 'foundWord'])\n",
        "df_filt.head(10)"
      ]
    },
    {
      "cell_type": "code",
      "execution_count": null,
      "id": "c7b6b170",
      "metadata": {
        "id": "c7b6b170"
      },
      "outputs": [],
      "source": [
        "df_filt.shape"
      ]
    },
    {
      "cell_type": "code",
      "execution_count": null,
      "id": "19655e4f",
      "metadata": {
        "id": "19655e4f"
      },
      "outputs": [],
      "source": [
        "# Save clean dataset into csv\n",
        "df_filt.to_csv(\"cleanDataset.csv\", sep=\";\", index=False)"
      ]
    },
    {
      "cell_type": "code",
      "execution_count": null,
      "id": "94d500ae",
      "metadata": {
        "id": "94d500ae"
      },
      "outputs": [],
      "source": [
        "# Extract a random sample of 300 tweets to annotate manually (to use as Gold labels) (use random_sate=42 for reproducibility)\n",
        "df_sample = df_filt.sample(300, random_state=42)\n",
        "df_sample.head()"
      ]
    },
    {
      "cell_type": "code",
      "execution_count": null,
      "id": "c78c7bef",
      "metadata": {
        "id": "c78c7bef"
      },
      "outputs": [],
      "source": [
        "# Save to csv\n",
        "df_sample.to_csv(annotationSampleFile, sep=\";\", index=False)"
      ]
    },
    {
      "cell_type": "code",
      "execution_count": null,
      "id": "853b4c3f",
      "metadata": {
        "id": "853b4c3f"
      },
      "outputs": [],
      "source": [
        "# Load annotated dataset sample\n",
        "# To avoid encoding issues, we only select the id, foundWord and the socialMediaSense columns of the annotated file\n",
        "df_annot = pd.read_csv(tempAnnotatedSample, sep=\";\")[['id', 'foundWord', 'socialMediaSense']]\n",
        "\n",
        "# We merge the labels with the existing DF by means of the id\n",
        "df_annot_sample = pd.merge(df_sample, df_annot, how='inner', on=['id', 'foundWord'])\n",
        "# We convert the socialMediaSense values from float64 into int64\n",
        "df_annot_sample['socialMediaSense'] = df_annot_sample['socialMediaSense'].astype('Int64')\n",
        "df_annot_sample.head()"
      ]
    },
    {
      "cell_type": "code",
      "execution_count": null,
      "id": "15944ad8",
      "metadata": {
        "id": "15944ad8"
      },
      "outputs": [],
      "source": [
        "Counter(df_annot_sample['socialMediaSense'])"
      ]
    },
    {
      "cell_type": "code",
      "execution_count": null,
      "id": "16880d7e",
      "metadata": {
        "id": "16880d7e"
      },
      "outputs": [],
      "source": [
        "print(195/300, 105/300)"
      ]
    },
    {
      "cell_type": "code",
      "execution_count": null,
      "id": "56f4a9e9",
      "metadata": {
        "id": "56f4a9e9"
      },
      "outputs": [],
      "source": [
        "# Save the final annotated sample (with valid encoding) to a csv to be processed in the WSD part\n",
        "df_annot_sample.to_csv(definitiveAnnotatedSample, sep=\";\", index=False)"
      ]
    }
  ],
  "metadata": {
    "kernelspec": {
      "display_name": "tfmvenv",
      "language": "python",
      "name": "python3"
    },
    "language_info": {
      "codemirror_mode": {
        "name": "ipython",
        "version": 3
      },
      "file_extension": ".py",
      "mimetype": "text/x-python",
      "name": "python",
      "nbconvert_exporter": "python",
      "pygments_lexer": "ipython3",
      "version": "3.12.5"
    },
    "colab": {
      "provenance": [],
      "include_colab_link": true
    }
  },
  "nbformat": 4,
  "nbformat_minor": 5
}