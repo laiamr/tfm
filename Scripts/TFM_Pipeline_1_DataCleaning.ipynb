{
  "cells": [
    {
      "cell_type": "markdown",
      "metadata": {
        "id": "view-in-github",
        "colab_type": "text"
      },
      "source": [
        "<a href=\"https://colab.research.google.com/github/laiamr/tfm/blob/main/Scripts/TFM_Pipeline_1_DataCleaning.ipynb\" target=\"_parent\"><img src=\"https://colab.research.google.com/assets/colab-badge.svg\" alt=\"Open In Colab\"/></a>"
      ]
    },
    {
      "cell_type": "code",
      "source": [
        "!pip install pandas spacy spacy-langdetect"
      ],
      "metadata": {
        "id": "37ukRJIMjC24"
      },
      "id": "37ukRJIMjC24",
      "execution_count": null,
      "outputs": []
    },
    {
      "cell_type": "code",
      "execution_count": null,
      "id": "1c5e62e8",
      "metadata": {
        "id": "1c5e62e8"
      },
      "outputs": [],
      "source": [
        "import pandas as pd\n",
        "import spacy\n",
        "from spacy.language import Language  # For custom pipeline components\n",
        "from spacy_langdetect import LanguageDetector  # For language detection\n",
        "import re\n",
        "from collections import Counter"
      ]
    },
    {
      "cell_type": "markdown",
      "id": "d9646fbb",
      "metadata": {
        "id": "d9646fbb"
      },
      "source": [
        "**CONSTANTS and SPACY SETUP**"
      ]
    },
    {
      "cell_type": "code",
      "execution_count": null,
      "id": "79d55a02",
      "metadata": {
        "id": "79d55a02"
      },
      "outputs": [],
      "source": [
        "# File names\n",
        "dataFile = 'https://raw.githubusercontent.com/laiamr/tfm/refs/heads/main/Data/CAT_Tweets.csv'\n",
        "lexiconFile = 'https://raw.githubusercontent.com/laiamr/tfm/refs/heads/main/Data/WordList.csv'\n",
        "annotationSampleFile = 'https://raw.githubusercontent.com/laiamr/tfm/refs/heads/main/Data/annotation_sample.csv'\n",
        "tempAnnotatedSample = 'https://raw.githubusercontent.com/laiamr/tfm/refs/heads/main/Data/manually_annotated_sample.csv'\n",
        "definitiveAnnotatedSample = 'https://raw.githubusercontent.com/laiamr/tfm/refs/heads/main/Data/annotated_sample.csv'"
      ]
    },
    {
      "cell_type": "code",
      "execution_count": null,
      "id": "9bd0c1b8",
      "metadata": {
        "id": "9bd0c1b8"
      },
      "outputs": [],
      "source": [
        "# FUNCTIONALITY NEEDED TO DETECT THE LANGUAGE IN THE TWEETS\n",
        "# Load spacy model for Catalan\n",
        "nlp = spacy.load(\"ca_core_news_md\")\n",
        "\n",
        "# Add language detector functionality into the pipeline\n",
        "# Custom language detector factory function\n",
        "@Language.factory(\"language_detector\")\n",
        "def create_language_detector(nlp, name):\n",
        "    return LanguageDetector() # Create the detector component\n",
        "\n",
        "# Add language detector to the spaCy pipeline\n",
        "nlp.add_pipe(\"language_detector\", last=True)\n",
        "\n",
        "# Function to check if the text is in catalan\n",
        "def is_catalan(text):\n",
        "    doc = nlp(text)  # Process the text with the spaCy pipeline\n",
        "    detect_language = doc._.language  # Access language detection results\n",
        "    #print(detect_language)\n",
        "    return int(detect_language['language'] == 'ca' and detect_language['score'] > 0.9)  # Check if detected language is catalan and with high confidence"
      ]
    },
    {
      "cell_type": "markdown",
      "id": "8ea5bd8b",
      "metadata": {
        "id": "8ea5bd8b"
      },
      "source": [
        "**LOAD THE TWO DATA FILES**"
      ]
    },
    {
      "cell_type": "code",
      "execution_count": null,
      "id": "120f27f5",
      "metadata": {
        "id": "120f27f5",
        "outputId": "4403e87b-2923-44c5-944c-cc5fbac5bc76"
      },
      "outputs": [
        {
          "name": "stdout",
          "output_type": "stream",
          "text": [
            "(117, 7)\n"
          ]
        },
        {
          "data": {
            "text/html": [
              "<div>\n",
              "<style scoped>\n",
              "    .dataframe tbody tr th:only-of-type {\n",
              "        vertical-align: middle;\n",
              "    }\n",
              "\n",
              "    .dataframe tbody tr th {\n",
              "        vertical-align: top;\n",
              "    }\n",
              "\n",
              "    .dataframe thead th {\n",
              "        text-align: right;\n",
              "    }\n",
              "</style>\n",
              "<table border=\"1\" class=\"dataframe\">\n",
              "  <thead>\n",
              "    <tr style=\"text-align: right;\">\n",
              "      <th></th>\n",
              "      <th>original_lemma</th>\n",
              "      <th>loanword_lemma</th>\n",
              "      <th>loanword_form</th>\n",
              "      <th>loanword_pos</th>\n",
              "      <th>loanword_features</th>\n",
              "      <th>loanword_type</th>\n",
              "      <th>loanword_category</th>\n",
              "    </tr>\n",
              "  </thead>\n",
              "  <tbody>\n",
              "    <tr>\n",
              "      <th>0</th>\n",
              "      <td>comment</td>\n",
              "      <td>comment</td>\n",
              "      <td>comment</td>\n",
              "      <td>noun, verb</td>\n",
              "      <td>lemma</td>\n",
              "      <td>direct borrowing</td>\n",
              "      <td>foreign lexeme</td>\n",
              "    </tr>\n",
              "    <tr>\n",
              "      <th>1</th>\n",
              "      <td>tag</td>\n",
              "      <td>tag</td>\n",
              "      <td>tag</td>\n",
              "      <td>noun, verb</td>\n",
              "      <td>lemma</td>\n",
              "      <td>direct borrowing</td>\n",
              "      <td>foreign lexeme</td>\n",
              "    </tr>\n",
              "    <tr>\n",
              "      <th>2</th>\n",
              "      <td>tag</td>\n",
              "      <td>tag</td>\n",
              "      <td>tags</td>\n",
              "      <td>noun</td>\n",
              "      <td>plural</td>\n",
              "      <td>direct borrowing</td>\n",
              "      <td>foreign lexeme</td>\n",
              "    </tr>\n",
              "    <tr>\n",
              "      <th>3</th>\n",
              "      <td>story</td>\n",
              "      <td>story</td>\n",
              "      <td>story</td>\n",
              "      <td>noun</td>\n",
              "      <td>lemma</td>\n",
              "      <td>direct borrowing</td>\n",
              "      <td>foreign lexeme</td>\n",
              "    </tr>\n",
              "    <tr>\n",
              "      <th>4</th>\n",
              "      <td>like</td>\n",
              "      <td>like</td>\n",
              "      <td>like</td>\n",
              "      <td>noun, verb</td>\n",
              "      <td>lemma</td>\n",
              "      <td>direct borrowing</td>\n",
              "      <td>foreign lexeme</td>\n",
              "    </tr>\n",
              "  </tbody>\n",
              "</table>\n",
              "</div>"
            ],
            "text/plain": [
              "  original_lemma loanword_lemma loanword_form loanword_pos loanword_features  \\\n",
              "0        comment        comment       comment   noun, verb             lemma   \n",
              "1            tag            tag           tag   noun, verb             lemma   \n",
              "2            tag            tag          tags         noun            plural   \n",
              "3          story          story         story         noun             lemma   \n",
              "4           like           like          like   noun, verb             lemma   \n",
              "\n",
              "      loanword_type loanword_category  \n",
              "0  direct borrowing    foreign lexeme  \n",
              "1  direct borrowing    foreign lexeme  \n",
              "2  direct borrowing    foreign lexeme  \n",
              "3  direct borrowing    foreign lexeme  \n",
              "4  direct borrowing    foreign lexeme  "
            ]
          },
          "execution_count": 7,
          "metadata": {},
          "output_type": "execute_result"
        }
      ],
      "source": [
        "# Load the lexicon file - contains keywords and type of borrowing\n",
        "df_lex = pd.read_csv(folderName+lexiconFile, sep=';')\n",
        "print(df_lex.shape)\n",
        "df_lex.head()"
      ]
    },
    {
      "cell_type": "code",
      "execution_count": null,
      "id": "257d71db",
      "metadata": {
        "id": "257d71db",
        "outputId": "2545a678-cdab-4090-b58d-6f48eb1afbad"
      },
      "outputs": [
        {
          "name": "stdout",
          "output_type": "stream",
          "text": [
            "(15747, 4)\n"
          ]
        },
        {
          "data": {
            "text/html": [
              "<div>\n",
              "<style scoped>\n",
              "    .dataframe tbody tr th:only-of-type {\n",
              "        vertical-align: middle;\n",
              "    }\n",
              "\n",
              "    .dataframe tbody tr th {\n",
              "        vertical-align: top;\n",
              "    }\n",
              "\n",
              "    .dataframe thead th {\n",
              "        text-align: right;\n",
              "    }\n",
              "</style>\n",
              "<table border=\"1\" class=\"dataframe\">\n",
              "  <thead>\n",
              "    <tr style=\"text-align: right;\">\n",
              "      <th></th>\n",
              "      <th>id</th>\n",
              "      <th>searchQuery</th>\n",
              "      <th>text</th>\n",
              "      <th>timestamp</th>\n",
              "    </tr>\n",
              "  </thead>\n",
              "  <tbody>\n",
              "    <tr>\n",
              "      <th>0</th>\n",
              "      <td>1619677524967190528</td>\n",
              "      <td>repiulet</td>\n",
              "      <td>Un ruzi*, que he barrat tot d'una, vota pel me...</td>\n",
              "      <td>2023-01-29 12:43:00+00:00</td>\n",
              "    </tr>\n",
              "    <tr>\n",
              "      <th>1</th>\n",
              "      <td>1620168513376894976</td>\n",
              "      <td>retuitar</td>\n",
              "      <td>podeu demanar la dimissió de Sigfrid Gras sens...</td>\n",
              "      <td>2023-01-30 21:14:00+00:00</td>\n",
              "    </tr>\n",
              "    <tr>\n",
              "      <th>2</th>\n",
              "      <td>1619742793383170048</td>\n",
              "      <td>retuitar</td>\n",
              "      <td>Perquè, retuitar? Perque fa falta</td>\n",
              "      <td>2023-01-29 17:02:00+00:00</td>\n",
              "    </tr>\n",
              "    <tr>\n",
              "      <th>3</th>\n",
              "      <td>1619666435776864256</td>\n",
              "      <td>retuitar</td>\n",
              "      <td>En contra de retuitar genocides, per molt sucó...</td>\n",
              "      <td>2023-01-29 11:59:00+00:00</td>\n",
              "    </tr>\n",
              "    <tr>\n",
              "      <th>4</th>\n",
              "      <td>1619642801406509056</td>\n",
              "      <td>retuitar</td>\n",
              "      <td>Retuit si tu també creus que tampoc s'ha de re...</td>\n",
              "      <td>2023-01-29 10:25:00+00:00</td>\n",
              "    </tr>\n",
              "  </tbody>\n",
              "</table>\n",
              "</div>"
            ],
            "text/plain": [
              "                    id searchQuery  \\\n",
              "0  1619677524967190528    repiulet   \n",
              "1  1620168513376894976    retuitar   \n",
              "2  1619742793383170048    retuitar   \n",
              "3  1619666435776864256    retuitar   \n",
              "4  1619642801406509056    retuitar   \n",
              "\n",
              "                                                text  \\\n",
              "0  Un ruzi*, que he barrat tot d'una, vota pel me...   \n",
              "1  podeu demanar la dimissió de Sigfrid Gras sens...   \n",
              "2                  Perquè, retuitar? Perque fa falta   \n",
              "3  En contra de retuitar genocides, per molt sucó...   \n",
              "4  Retuit si tu també creus que tampoc s'ha de re...   \n",
              "\n",
              "                   timestamp  \n",
              "0  2023-01-29 12:43:00+00:00  \n",
              "1  2023-01-30 21:14:00+00:00  \n",
              "2  2023-01-29 17:02:00+00:00  \n",
              "3  2023-01-29 11:59:00+00:00  \n",
              "4  2023-01-29 10:25:00+00:00  "
            ]
          },
          "execution_count": 10,
          "metadata": {},
          "output_type": "execute_result"
        }
      ],
      "source": [
        "# Load the data file - contains the tweets\n",
        "df = pd.read_csv(folderName+dataFile, sep=';', index_col=0)\n",
        "print(df.shape)\n",
        "df.head()"
      ]
    },
    {
      "cell_type": "markdown",
      "id": "54e08c38",
      "metadata": {
        "id": "54e08c38"
      },
      "source": [
        "**PRE-PROCESSING: DATA CLEANING**"
      ]
    },
    {
      "cell_type": "code",
      "execution_count": null,
      "id": "9d846624",
      "metadata": {
        "id": "9d846624"
      },
      "outputs": [],
      "source": [
        "# Remove rows that have empty text column (NA)\n",
        "df = df.dropna(axis=0, subset=['text'], ignore_index=True)\n",
        "print(df.shape)\n",
        "df.head()"
      ]
    },
    {
      "cell_type": "code",
      "execution_count": null,
      "id": "61cd4a01",
      "metadata": {
        "id": "61cd4a01"
      },
      "outputs": [],
      "source": [
        "# Convert to lowercase both searchQuery and text\n",
        "df['searchQuery'] = df['searchQuery'].apply(str.lower)\n",
        "df['text'] = df['text'].apply(str.lower)"
      ]
    },
    {
      "cell_type": "code",
      "execution_count": null,
      "id": "98d01329",
      "metadata": {
        "id": "98d01329"
      },
      "outputs": [],
      "source": [
        "# Clean text: remove newline chars, links, hashtags\n",
        "def cleanText(t: str):\n",
        "    t = re.sub(r'\\n', ' ', t) # Remove newline chars\n",
        "    t = re.sub(r'\\s\\w*\\.?(\\w*\\/)+\\w*', '', t) # Remove links\n",
        "    t = re.sub(r'#[\\w\\\\]*\\s', '', t) # Remove hashtags\n",
        "    t = re.sub(r'\\s{2,}', ' ', t) # Remove duplicated spaces\n",
        "    return t"
      ]
    },
    {
      "cell_type": "code",
      "execution_count": null,
      "id": "a24644a6",
      "metadata": {
        "id": "a24644a6"
      },
      "outputs": [],
      "source": [
        "# Clean text: remove newline chars, links, hashtags\n",
        "df['cleanText'] = df['text'].apply(cleanText)"
      ]
    },
    {
      "cell_type": "code",
      "execution_count": null,
      "id": "397212fb",
      "metadata": {
        "id": "397212fb",
        "outputId": "52430f31-499f-4db8-fcb9-f7b04d7192d7"
      },
      "outputs": [
        {
          "name": "stdout",
          "output_type": "stream",
          "text": [
            "(15584, 5)\n"
          ]
        },
        {
          "data": {
            "text/html": [
              "<div>\n",
              "<style scoped>\n",
              "    .dataframe tbody tr th:only-of-type {\n",
              "        vertical-align: middle;\n",
              "    }\n",
              "\n",
              "    .dataframe tbody tr th {\n",
              "        vertical-align: top;\n",
              "    }\n",
              "\n",
              "    .dataframe thead th {\n",
              "        text-align: right;\n",
              "    }\n",
              "</style>\n",
              "<table border=\"1\" class=\"dataframe\">\n",
              "  <thead>\n",
              "    <tr style=\"text-align: right;\">\n",
              "      <th></th>\n",
              "      <th>id</th>\n",
              "      <th>searchQuery</th>\n",
              "      <th>text</th>\n",
              "      <th>timestamp</th>\n",
              "      <th>cleanText</th>\n",
              "    </tr>\n",
              "  </thead>\n",
              "  <tbody>\n",
              "    <tr>\n",
              "      <th>0</th>\n",
              "      <td>1619677524967190528</td>\n",
              "      <td>repiulet</td>\n",
              "      <td>un ruzi*, que he barrat tot d'una, vota pel me...</td>\n",
              "      <td>2023-01-29 12:43:00+00:00</td>\n",
              "      <td>un ruzi*, que he barrat tot d'una, vota pel me...</td>\n",
              "    </tr>\n",
              "    <tr>\n",
              "      <th>1</th>\n",
              "      <td>1620168513376894976</td>\n",
              "      <td>retuitar</td>\n",
              "      <td>podeu demanar la dimissió de sigfrid gras sens...</td>\n",
              "      <td>2023-01-30 21:14:00+00:00</td>\n",
              "      <td>podeu demanar la dimissió de sigfrid gras sens...</td>\n",
              "    </tr>\n",
              "    <tr>\n",
              "      <th>2</th>\n",
              "      <td>1619742793383170048</td>\n",
              "      <td>retuitar</td>\n",
              "      <td>perquè, retuitar? perque fa falta</td>\n",
              "      <td>2023-01-29 17:02:00+00:00</td>\n",
              "      <td>perquè, retuitar? perque fa falta</td>\n",
              "    </tr>\n",
              "    <tr>\n",
              "      <th>3</th>\n",
              "      <td>1619666435776864256</td>\n",
              "      <td>retuitar</td>\n",
              "      <td>en contra de retuitar genocides, per molt sucó...</td>\n",
              "      <td>2023-01-29 11:59:00+00:00</td>\n",
              "      <td>en contra de retuitar genocides, per molt sucó...</td>\n",
              "    </tr>\n",
              "    <tr>\n",
              "      <th>4</th>\n",
              "      <td>1619642801406509056</td>\n",
              "      <td>retuitar</td>\n",
              "      <td>retuit si tu també creus que tampoc s'ha de re...</td>\n",
              "      <td>2023-01-29 10:25:00+00:00</td>\n",
              "      <td>retuit si tu també creus que tampoc s'ha de re...</td>\n",
              "    </tr>\n",
              "  </tbody>\n",
              "</table>\n",
              "</div>"
            ],
            "text/plain": [
              "                    id searchQuery  \\\n",
              "0  1619677524967190528    repiulet   \n",
              "1  1620168513376894976    retuitar   \n",
              "2  1619742793383170048    retuitar   \n",
              "3  1619666435776864256    retuitar   \n",
              "4  1619642801406509056    retuitar   \n",
              "\n",
              "                                                text  \\\n",
              "0  un ruzi*, que he barrat tot d'una, vota pel me...   \n",
              "1  podeu demanar la dimissió de sigfrid gras sens...   \n",
              "2                  perquè, retuitar? perque fa falta   \n",
              "3  en contra de retuitar genocides, per molt sucó...   \n",
              "4  retuit si tu també creus que tampoc s'ha de re...   \n",
              "\n",
              "                   timestamp  \\\n",
              "0  2023-01-29 12:43:00+00:00   \n",
              "1  2023-01-30 21:14:00+00:00   \n",
              "2  2023-01-29 17:02:00+00:00   \n",
              "3  2023-01-29 11:59:00+00:00   \n",
              "4  2023-01-29 10:25:00+00:00   \n",
              "\n",
              "                                           cleanText  \n",
              "0  un ruzi*, que he barrat tot d'una, vota pel me...  \n",
              "1  podeu demanar la dimissió de sigfrid gras sens...  \n",
              "2                  perquè, retuitar? perque fa falta  \n",
              "3  en contra de retuitar genocides, per molt sucó...  \n",
              "4  retuit si tu també creus que tampoc s'ha de re...  "
            ]
          },
          "execution_count": 24,
          "metadata": {},
          "output_type": "execute_result"
        }
      ],
      "source": [
        "print(df.shape)\n",
        "df.head()"
      ]
    },
    {
      "cell_type": "markdown",
      "id": "c15ce56b",
      "metadata": {
        "id": "c15ce56b"
      },
      "source": [
        "**PRE-PROCESSING: FILTERING**"
      ]
    },
    {
      "cell_type": "code",
      "execution_count": null,
      "id": "0ae3f7a7",
      "metadata": {
        "id": "0ae3f7a7"
      },
      "outputs": [],
      "source": [
        "# Language detection\n",
        "# Add row to indicate if the tweet is written in Catalan or not (1 - CAT; 0 - NOT CAT)\n",
        "df['is_catalan'] = df['text'].apply(is_catalan)"
      ]
    },
    {
      "cell_type": "code",
      "execution_count": null,
      "id": "93545659",
      "metadata": {
        "id": "93545659",
        "outputId": "94754862-fe13-4f08-d4a5-b56ced2dc757"
      },
      "outputs": [
        {
          "name": "stdout",
          "output_type": "stream",
          "text": [
            "(15584, 6)\n"
          ]
        },
        {
          "data": {
            "text/html": [
              "<div>\n",
              "<style scoped>\n",
              "    .dataframe tbody tr th:only-of-type {\n",
              "        vertical-align: middle;\n",
              "    }\n",
              "\n",
              "    .dataframe tbody tr th {\n",
              "        vertical-align: top;\n",
              "    }\n",
              "\n",
              "    .dataframe thead th {\n",
              "        text-align: right;\n",
              "    }\n",
              "</style>\n",
              "<table border=\"1\" class=\"dataframe\">\n",
              "  <thead>\n",
              "    <tr style=\"text-align: right;\">\n",
              "      <th></th>\n",
              "      <th>id</th>\n",
              "      <th>searchQuery</th>\n",
              "      <th>text</th>\n",
              "      <th>timestamp</th>\n",
              "      <th>cleanText</th>\n",
              "      <th>is_catalan</th>\n",
              "    </tr>\n",
              "  </thead>\n",
              "  <tbody>\n",
              "    <tr>\n",
              "      <th>0</th>\n",
              "      <td>1619677524967190528</td>\n",
              "      <td>repiulet</td>\n",
              "      <td>un ruzi*, que he barrat tot d'una, vota pel me...</td>\n",
              "      <td>2023-01-29 12:43:00+00:00</td>\n",
              "      <td>un ruzi*, que he barrat tot d'una, vota pel me...</td>\n",
              "      <td>1</td>\n",
              "    </tr>\n",
              "    <tr>\n",
              "      <th>1</th>\n",
              "      <td>1620168513376894976</td>\n",
              "      <td>retuitar</td>\n",
              "      <td>podeu demanar la dimissió de sigfrid gras sens...</td>\n",
              "      <td>2023-01-30 21:14:00+00:00</td>\n",
              "      <td>podeu demanar la dimissió de sigfrid gras sens...</td>\n",
              "      <td>1</td>\n",
              "    </tr>\n",
              "    <tr>\n",
              "      <th>2</th>\n",
              "      <td>1619742793383170048</td>\n",
              "      <td>retuitar</td>\n",
              "      <td>perquè, retuitar? perque fa falta</td>\n",
              "      <td>2023-01-29 17:02:00+00:00</td>\n",
              "      <td>perquè, retuitar? perque fa falta</td>\n",
              "      <td>1</td>\n",
              "    </tr>\n",
              "    <tr>\n",
              "      <th>3</th>\n",
              "      <td>1619666435776864256</td>\n",
              "      <td>retuitar</td>\n",
              "      <td>en contra de retuitar genocides, per molt sucó...</td>\n",
              "      <td>2023-01-29 11:59:00+00:00</td>\n",
              "      <td>en contra de retuitar genocides, per molt sucó...</td>\n",
              "      <td>1</td>\n",
              "    </tr>\n",
              "    <tr>\n",
              "      <th>4</th>\n",
              "      <td>1619642801406509056</td>\n",
              "      <td>retuitar</td>\n",
              "      <td>retuit si tu també creus que tampoc s'ha de re...</td>\n",
              "      <td>2023-01-29 10:25:00+00:00</td>\n",
              "      <td>retuit si tu també creus que tampoc s'ha de re...</td>\n",
              "      <td>1</td>\n",
              "    </tr>\n",
              "  </tbody>\n",
              "</table>\n",
              "</div>"
            ],
            "text/plain": [
              "                    id searchQuery  \\\n",
              "0  1619677524967190528    repiulet   \n",
              "1  1620168513376894976    retuitar   \n",
              "2  1619742793383170048    retuitar   \n",
              "3  1619666435776864256    retuitar   \n",
              "4  1619642801406509056    retuitar   \n",
              "\n",
              "                                                text  \\\n",
              "0  un ruzi*, que he barrat tot d'una, vota pel me...   \n",
              "1  podeu demanar la dimissió de sigfrid gras sens...   \n",
              "2                  perquè, retuitar? perque fa falta   \n",
              "3  en contra de retuitar genocides, per molt sucó...   \n",
              "4  retuit si tu també creus que tampoc s'ha de re...   \n",
              "\n",
              "                   timestamp  \\\n",
              "0  2023-01-29 12:43:00+00:00   \n",
              "1  2023-01-30 21:14:00+00:00   \n",
              "2  2023-01-29 17:02:00+00:00   \n",
              "3  2023-01-29 11:59:00+00:00   \n",
              "4  2023-01-29 10:25:00+00:00   \n",
              "\n",
              "                                           cleanText  is_catalan  \n",
              "0  un ruzi*, que he barrat tot d'una, vota pel me...           1  \n",
              "1  podeu demanar la dimissió de sigfrid gras sens...           1  \n",
              "2                  perquè, retuitar? perque fa falta           1  \n",
              "3  en contra de retuitar genocides, per molt sucó...           1  \n",
              "4  retuit si tu també creus que tampoc s'ha de re...           1  "
            ]
          },
          "execution_count": 26,
          "metadata": {},
          "output_type": "execute_result"
        }
      ],
      "source": [
        "print(df.shape)\n",
        "df.head()"
      ]
    },
    {
      "cell_type": "code",
      "execution_count": null,
      "id": "03423d3a",
      "metadata": {
        "id": "03423d3a",
        "outputId": "80be5863-91cc-4ad8-a3b7-4e324c566108"
      },
      "outputs": [
        {
          "data": {
            "text/plain": [
              "(5896, 6)"
            ]
          },
          "execution_count": 27,
          "metadata": {},
          "output_type": "execute_result"
        }
      ],
      "source": [
        "df[df['is_catalan'] == 0].shape # Not Catalan"
      ]
    },
    {
      "cell_type": "code",
      "execution_count": null,
      "id": "7ec5a73a",
      "metadata": {
        "id": "7ec5a73a",
        "outputId": "d01e152d-6237-4d8c-ae01-9fd59b3f997d"
      },
      "outputs": [
        {
          "data": {
            "text/plain": [
              "(9688, 6)"
            ]
          },
          "execution_count": 28,
          "metadata": {},
          "output_type": "execute_result"
        }
      ],
      "source": [
        "df[df['is_catalan'] == 1].shape # Catalan"
      ]
    },
    {
      "cell_type": "code",
      "execution_count": null,
      "id": "99ecd186",
      "metadata": {
        "id": "99ecd186",
        "outputId": "879482f8-4622-45b3-92cc-c3dee784d76e"
      },
      "outputs": [
        {
          "name": "stderr",
          "output_type": "stream",
          "text": [
            "/var/folders/n5/fr7ssm7s57z_7psd2b6ddp9r0000gp/T/ipykernel_1705/4288251229.py:3: SettingWithCopyWarning: \n",
            "A value is trying to be set on a copy of a slice from a DataFrame\n",
            "\n",
            "See the caveats in the documentation: https://pandas.pydata.org/pandas-docs/stable/user_guide/indexing.html#returning-a-view-versus-a-copy\n",
            "  df_cat.drop('is_catalan', axis=1, inplace=True)\n"
          ]
        }
      ],
      "source": [
        "# Filter - keep only the rows that are in Catalan\n",
        "df_cat = df[df['is_catalan'] == 1]\n",
        "df_cat.drop('is_catalan', axis=1, inplace=True)"
      ]
    },
    {
      "cell_type": "code",
      "execution_count": null,
      "id": "f4f51e87",
      "metadata": {
        "id": "f4f51e87",
        "outputId": "7e2de876-4fcd-40dc-8cb2-f10b353b9c8f"
      },
      "outputs": [
        {
          "name": "stdout",
          "output_type": "stream",
          "text": [
            "(9688, 5)\n"
          ]
        },
        {
          "data": {
            "text/html": [
              "<div>\n",
              "<style scoped>\n",
              "    .dataframe tbody tr th:only-of-type {\n",
              "        vertical-align: middle;\n",
              "    }\n",
              "\n",
              "    .dataframe tbody tr th {\n",
              "        vertical-align: top;\n",
              "    }\n",
              "\n",
              "    .dataframe thead th {\n",
              "        text-align: right;\n",
              "    }\n",
              "</style>\n",
              "<table border=\"1\" class=\"dataframe\">\n",
              "  <thead>\n",
              "    <tr style=\"text-align: right;\">\n",
              "      <th></th>\n",
              "      <th>id</th>\n",
              "      <th>searchQuery</th>\n",
              "      <th>text</th>\n",
              "      <th>timestamp</th>\n",
              "      <th>cleanText</th>\n",
              "    </tr>\n",
              "  </thead>\n",
              "  <tbody>\n",
              "    <tr>\n",
              "      <th>0</th>\n",
              "      <td>1619677524967190528</td>\n",
              "      <td>repiulet</td>\n",
              "      <td>un ruzi*, que he barrat tot d'una, vota pel me...</td>\n",
              "      <td>2023-01-29 12:43:00+00:00</td>\n",
              "      <td>un ruzi*, que he barrat tot d'una, vota pel me...</td>\n",
              "    </tr>\n",
              "    <tr>\n",
              "      <th>1</th>\n",
              "      <td>1620168513376894976</td>\n",
              "      <td>retuitar</td>\n",
              "      <td>podeu demanar la dimissió de sigfrid gras sens...</td>\n",
              "      <td>2023-01-30 21:14:00+00:00</td>\n",
              "      <td>podeu demanar la dimissió de sigfrid gras sens...</td>\n",
              "    </tr>\n",
              "    <tr>\n",
              "      <th>2</th>\n",
              "      <td>1619742793383170048</td>\n",
              "      <td>retuitar</td>\n",
              "      <td>perquè, retuitar? perque fa falta</td>\n",
              "      <td>2023-01-29 17:02:00+00:00</td>\n",
              "      <td>perquè, retuitar? perque fa falta</td>\n",
              "    </tr>\n",
              "    <tr>\n",
              "      <th>3</th>\n",
              "      <td>1619666435776864256</td>\n",
              "      <td>retuitar</td>\n",
              "      <td>en contra de retuitar genocides, per molt sucó...</td>\n",
              "      <td>2023-01-29 11:59:00+00:00</td>\n",
              "      <td>en contra de retuitar genocides, per molt sucó...</td>\n",
              "    </tr>\n",
              "    <tr>\n",
              "      <th>4</th>\n",
              "      <td>1619642801406509056</td>\n",
              "      <td>retuitar</td>\n",
              "      <td>retuit si tu també creus que tampoc s'ha de re...</td>\n",
              "      <td>2023-01-29 10:25:00+00:00</td>\n",
              "      <td>retuit si tu també creus que tampoc s'ha de re...</td>\n",
              "    </tr>\n",
              "  </tbody>\n",
              "</table>\n",
              "</div>"
            ],
            "text/plain": [
              "                    id searchQuery  \\\n",
              "0  1619677524967190528    repiulet   \n",
              "1  1620168513376894976    retuitar   \n",
              "2  1619742793383170048    retuitar   \n",
              "3  1619666435776864256    retuitar   \n",
              "4  1619642801406509056    retuitar   \n",
              "\n",
              "                                                text  \\\n",
              "0  un ruzi*, que he barrat tot d'una, vota pel me...   \n",
              "1  podeu demanar la dimissió de sigfrid gras sens...   \n",
              "2                  perquè, retuitar? perque fa falta   \n",
              "3  en contra de retuitar genocides, per molt sucó...   \n",
              "4  retuit si tu també creus que tampoc s'ha de re...   \n",
              "\n",
              "                   timestamp  \\\n",
              "0  2023-01-29 12:43:00+00:00   \n",
              "1  2023-01-30 21:14:00+00:00   \n",
              "2  2023-01-29 17:02:00+00:00   \n",
              "3  2023-01-29 11:59:00+00:00   \n",
              "4  2023-01-29 10:25:00+00:00   \n",
              "\n",
              "                                           cleanText  \n",
              "0  un ruzi*, que he barrat tot d'una, vota pel me...  \n",
              "1  podeu demanar la dimissió de sigfrid gras sens...  \n",
              "2                  perquè, retuitar? perque fa falta  \n",
              "3  en contra de retuitar genocides, per molt sucó...  \n",
              "4  retuit si tu també creus que tampoc s'ha de re...  "
            ]
          },
          "execution_count": 30,
          "metadata": {},
          "output_type": "execute_result"
        }
      ],
      "source": [
        "print(df_cat.shape)\n",
        "df_cat.head()"
      ]
    },
    {
      "cell_type": "code",
      "execution_count": null,
      "id": "22c8084d",
      "metadata": {
        "id": "22c8084d",
        "outputId": "a90a7c07-59dd-4659-83f6-66a7d6ac38ff"
      },
      "outputs": [
        {
          "data": {
            "text/plain": [
              "117"
            ]
          },
          "execution_count": 68,
          "metadata": {},
          "output_type": "execute_result"
        }
      ],
      "source": [
        "# From the lexicon file, we obtain all the keywords we want to search for in the texts\n",
        "kw_list = list(set(df_lex['loanword_form'].tolist()))\n",
        "len(kw_list)"
      ]
    },
    {
      "cell_type": "code",
      "execution_count": null,
      "id": "981bb6d4",
      "metadata": {
        "id": "981bb6d4"
      },
      "outputs": [],
      "source": [
        "# Initialize list to store rows that contain the keywords (if a row contains more than one, it will be repeated for each word)\n",
        "list_df_kw = []\n",
        "\n",
        "# Iterate over each row of the dataframe\n",
        "for _, row in df_cat.iterrows():\n",
        "    #print(f'---{i}---')\n",
        "    #print(row['cleanText'])\n",
        "    #print('------')\n",
        "    # Iterate over each keyword to see if any is found in the text\n",
        "    for word in kw_list:\n",
        "        pattern = f\"\\\\b{word}\\\\b\"\n",
        "        r = re.findall(pattern, row['cleanText'])\n",
        "        if r:\n",
        "            #print(r)\n",
        "            # Copy each row into a new list, adding the word found in the text (new column in the final DF)\n",
        "            list_df_kw.append(row.to_list() + [word])\n",
        "\n",
        "#list_df_kw"
      ]
    },
    {
      "cell_type": "code",
      "execution_count": null,
      "id": "5e735edc",
      "metadata": {
        "id": "5e735edc",
        "outputId": "50f240f6-a076-430d-aec2-34ca526fed27"
      },
      "outputs": [
        {
          "data": {
            "text/html": [
              "<div>\n",
              "<style scoped>\n",
              "    .dataframe tbody tr th:only-of-type {\n",
              "        vertical-align: middle;\n",
              "    }\n",
              "\n",
              "    .dataframe tbody tr th {\n",
              "        vertical-align: top;\n",
              "    }\n",
              "\n",
              "    .dataframe thead th {\n",
              "        text-align: right;\n",
              "    }\n",
              "</style>\n",
              "<table border=\"1\" class=\"dataframe\">\n",
              "  <thead>\n",
              "    <tr style=\"text-align: right;\">\n",
              "      <th></th>\n",
              "      <th>id</th>\n",
              "      <th>searchQuery</th>\n",
              "      <th>text</th>\n",
              "      <th>timestamp</th>\n",
              "      <th>cleanText</th>\n",
              "      <th>foundWord</th>\n",
              "    </tr>\n",
              "  </thead>\n",
              "  <tbody>\n",
              "    <tr>\n",
              "      <th>0</th>\n",
              "      <td>1619677524967190528</td>\n",
              "      <td>repiulet</td>\n",
              "      <td>un ruzi*, que he barrat tot d'una, vota pel me...</td>\n",
              "      <td>2023-01-29 12:43:00+00:00</td>\n",
              "      <td>un ruzi*, que he barrat tot d'una, vota pel me...</td>\n",
              "      <td>repiulet</td>\n",
              "    </tr>\n",
              "    <tr>\n",
              "      <th>1</th>\n",
              "      <td>1620168513376894976</td>\n",
              "      <td>retuitar</td>\n",
              "      <td>podeu demanar la dimissió de sigfrid gras sens...</td>\n",
              "      <td>2023-01-30 21:14:00+00:00</td>\n",
              "      <td>podeu demanar la dimissió de sigfrid gras sens...</td>\n",
              "      <td>retuitar</td>\n",
              "    </tr>\n",
              "    <tr>\n",
              "      <th>2</th>\n",
              "      <td>1619742793383170048</td>\n",
              "      <td>retuitar</td>\n",
              "      <td>perquè, retuitar? perque fa falta</td>\n",
              "      <td>2023-01-29 17:02:00+00:00</td>\n",
              "      <td>perquè, retuitar? perque fa falta</td>\n",
              "      <td>retuitar</td>\n",
              "    </tr>\n",
              "    <tr>\n",
              "      <th>3</th>\n",
              "      <td>1619666435776864256</td>\n",
              "      <td>retuitar</td>\n",
              "      <td>en contra de retuitar genocides, per molt sucó...</td>\n",
              "      <td>2023-01-29 11:59:00+00:00</td>\n",
              "      <td>en contra de retuitar genocides, per molt sucó...</td>\n",
              "      <td>retuitar</td>\n",
              "    </tr>\n",
              "    <tr>\n",
              "      <th>4</th>\n",
              "      <td>1619642801406509056</td>\n",
              "      <td>retuitar</td>\n",
              "      <td>retuit si tu també creus que tampoc s'ha de re...</td>\n",
              "      <td>2023-01-29 10:25:00+00:00</td>\n",
              "      <td>retuit si tu també creus que tampoc s'ha de re...</td>\n",
              "      <td>retuit</td>\n",
              "    </tr>\n",
              "    <tr>\n",
              "      <th>5</th>\n",
              "      <td>1619642801406509056</td>\n",
              "      <td>retuitar</td>\n",
              "      <td>retuit si tu també creus que tampoc s'ha de re...</td>\n",
              "      <td>2023-01-29 10:25:00+00:00</td>\n",
              "      <td>retuit si tu també creus que tampoc s'ha de re...</td>\n",
              "      <td>retuitar</td>\n",
              "    </tr>\n",
              "    <tr>\n",
              "      <th>6</th>\n",
              "      <td>1619493816993718272</td>\n",
              "      <td>retuitar</td>\n",
              "      <td>@kanen49 si us plau, deixa de retuitar aquests...</td>\n",
              "      <td>2023-01-29 00:33:00+00:00</td>\n",
              "      <td>@kanen49 si us plau, deixa de retuitar aquests...</td>\n",
              "      <td>retuitar</td>\n",
              "    </tr>\n",
              "    <tr>\n",
              "      <th>7</th>\n",
              "      <td>1620132857305001984</td>\n",
              "      <td>share</td>\n",
              "      <td>aneu perdent llençols. al final tindreu conten...</td>\n",
              "      <td>2023-01-30 18:52:00+00:00</td>\n",
              "      <td>aneu perdent llençols. al final tindreu conten...</td>\n",
              "      <td>perfil</td>\n",
              "    </tr>\n",
              "    <tr>\n",
              "      <th>8</th>\n",
              "      <td>1620132857305001984</td>\n",
              "      <td>share</td>\n",
              "      <td>aneu perdent llençols. al final tindreu conten...</td>\n",
              "      <td>2023-01-30 18:52:00+00:00</td>\n",
              "      <td>aneu perdent llençols. al final tindreu conten...</td>\n",
              "      <td>share</td>\n",
              "    </tr>\n",
              "    <tr>\n",
              "      <th>9</th>\n",
              "      <td>1620206220014665728</td>\n",
              "      <td>post</td>\n",
              "      <td>volví a borrar mis post en ig</td>\n",
              "      <td>2023-01-30 23:43:00+00:00</td>\n",
              "      <td>volví a borrar mis post en ig</td>\n",
              "      <td>post</td>\n",
              "    </tr>\n",
              "  </tbody>\n",
              "</table>\n",
              "</div>"
            ],
            "text/plain": [
              "                    id searchQuery  \\\n",
              "0  1619677524967190528    repiulet   \n",
              "1  1620168513376894976    retuitar   \n",
              "2  1619742793383170048    retuitar   \n",
              "3  1619666435776864256    retuitar   \n",
              "4  1619642801406509056    retuitar   \n",
              "5  1619642801406509056    retuitar   \n",
              "6  1619493816993718272    retuitar   \n",
              "7  1620132857305001984       share   \n",
              "8  1620132857305001984       share   \n",
              "9  1620206220014665728        post   \n",
              "\n",
              "                                                text  \\\n",
              "0  un ruzi*, que he barrat tot d'una, vota pel me...   \n",
              "1  podeu demanar la dimissió de sigfrid gras sens...   \n",
              "2                  perquè, retuitar? perque fa falta   \n",
              "3  en contra de retuitar genocides, per molt sucó...   \n",
              "4  retuit si tu també creus que tampoc s'ha de re...   \n",
              "5  retuit si tu també creus que tampoc s'ha de re...   \n",
              "6  @kanen49 si us plau, deixa de retuitar aquests...   \n",
              "7  aneu perdent llençols. al final tindreu conten...   \n",
              "8  aneu perdent llençols. al final tindreu conten...   \n",
              "9                      volví a borrar mis post en ig   \n",
              "\n",
              "                   timestamp  \\\n",
              "0  2023-01-29 12:43:00+00:00   \n",
              "1  2023-01-30 21:14:00+00:00   \n",
              "2  2023-01-29 17:02:00+00:00   \n",
              "3  2023-01-29 11:59:00+00:00   \n",
              "4  2023-01-29 10:25:00+00:00   \n",
              "5  2023-01-29 10:25:00+00:00   \n",
              "6  2023-01-29 00:33:00+00:00   \n",
              "7  2023-01-30 18:52:00+00:00   \n",
              "8  2023-01-30 18:52:00+00:00   \n",
              "9  2023-01-30 23:43:00+00:00   \n",
              "\n",
              "                                           cleanText foundWord  \n",
              "0  un ruzi*, que he barrat tot d'una, vota pel me...  repiulet  \n",
              "1  podeu demanar la dimissió de sigfrid gras sens...  retuitar  \n",
              "2                  perquè, retuitar? perque fa falta  retuitar  \n",
              "3  en contra de retuitar genocides, per molt sucó...  retuitar  \n",
              "4  retuit si tu també creus que tampoc s'ha de re...    retuit  \n",
              "5  retuit si tu també creus que tampoc s'ha de re...  retuitar  \n",
              "6  @kanen49 si us plau, deixa de retuitar aquests...  retuitar  \n",
              "7  aneu perdent llençols. al final tindreu conten...    perfil  \n",
              "8  aneu perdent llençols. al final tindreu conten...     share  \n",
              "9                      volví a borrar mis post en ig      post  "
            ]
          },
          "execution_count": 34,
          "metadata": {},
          "output_type": "execute_result"
        }
      ],
      "source": [
        "# Create new DataFrame with the searches of keywords in the tweets\n",
        "# Column Names: id, searchQuery, text, timestamp, cleanText, foundWord\n",
        "df_filt = pd.DataFrame(list_df_kw, columns=['id', 'searchQuery', 'text', 'timestamp', 'cleanText', 'foundWord'])\n",
        "df_filt.head(10)"
      ]
    },
    {
      "cell_type": "code",
      "execution_count": null,
      "id": "c7b6b170",
      "metadata": {
        "id": "c7b6b170",
        "outputId": "93e07d72-b285-4d29-a59b-d9db58862b9a"
      },
      "outputs": [
        {
          "data": {
            "text/plain": [
              "(7041, 6)"
            ]
          },
          "execution_count": 48,
          "metadata": {},
          "output_type": "execute_result"
        }
      ],
      "source": [
        "df_filt.shape"
      ]
    },
    {
      "cell_type": "code",
      "execution_count": null,
      "id": "19655e4f",
      "metadata": {
        "id": "19655e4f"
      },
      "outputs": [],
      "source": [
        "# Save clean dataset into csv\n",
        "df_filt.to_csv(folderName+\"cleanDataset.csv\", sep=\";\", index=False)"
      ]
    },
    {
      "cell_type": "code",
      "execution_count": null,
      "id": "94d500ae",
      "metadata": {
        "id": "94d500ae",
        "outputId": "7826ccd2-6d9b-4470-f35d-25a62f875451"
      },
      "outputs": [
        {
          "data": {
            "text/html": [
              "<div>\n",
              "<style scoped>\n",
              "    .dataframe tbody tr th:only-of-type {\n",
              "        vertical-align: middle;\n",
              "    }\n",
              "\n",
              "    .dataframe tbody tr th {\n",
              "        vertical-align: top;\n",
              "    }\n",
              "\n",
              "    .dataframe thead th {\n",
              "        text-align: right;\n",
              "    }\n",
              "</style>\n",
              "<table border=\"1\" class=\"dataframe\">\n",
              "  <thead>\n",
              "    <tr style=\"text-align: right;\">\n",
              "      <th></th>\n",
              "      <th>id</th>\n",
              "      <th>searchQuery</th>\n",
              "      <th>text</th>\n",
              "      <th>timestamp</th>\n",
              "      <th>cleanText</th>\n",
              "      <th>foundWord</th>\n",
              "    </tr>\n",
              "  </thead>\n",
              "  <tbody>\n",
              "    <tr>\n",
              "      <th>1741</th>\n",
              "      <td>1620047577906298880</td>\n",
              "      <td>m'agrada</td>\n",
              "      <td>no m'agrada de fer servir el mot 'correcte'. d...</td>\n",
              "      <td>2023-01-30 13:13:00+00:00</td>\n",
              "      <td>no m'agrada de fer servir el mot 'correcte'. d...</td>\n",
              "      <td>m'agrada</td>\n",
              "    </tr>\n",
              "    <tr>\n",
              "      <th>457</th>\n",
              "      <td>1620099264805486592</td>\n",
              "      <td>respondre</td>\n",
              "      <td>si la majoria de catalunya decideix que vol ro...</td>\n",
              "      <td>2023-01-30 16:38:00+00:00</td>\n",
              "      <td>si la majoria de catalunya decideix que vol ro...</td>\n",
              "      <td>respondre</td>\n",
              "    </tr>\n",
              "    <tr>\n",
              "      <th>177</th>\n",
              "      <td>1620116848825217024</td>\n",
              "      <td>retuit</td>\n",
              "      <td>et segueixo i no puc fer retuit a les teves pi...</td>\n",
              "      <td>2023-01-30 17:48:00+00:00</td>\n",
              "      <td>et segueixo i no puc fer retuit a les teves pi...</td>\n",
              "      <td>retuit</td>\n",
              "    </tr>\n",
              "    <tr>\n",
              "      <th>4113</th>\n",
              "      <td>1652264071687806977</td>\n",
              "      <td>tuits</td>\n",
              "      <td>sí.\\nsolen ser tuits patrocinats. \\nde pagament.</td>\n",
              "      <td>2023-04-29T10:50:00.000Z</td>\n",
              "      <td>sí. solen ser tuits patrocinats. de pagament.</td>\n",
              "      <td>tuits</td>\n",
              "    </tr>\n",
              "    <tr>\n",
              "      <th>3612</th>\n",
              "      <td>1652412536573108225</td>\n",
              "      <td>amic</td>\n",
              "      <td>gràcies amic!! ✊🏻</td>\n",
              "      <td>2023-04-29T20:40:00.000Z</td>\n",
              "      <td>gràcies amic!! ✊🏻</td>\n",
              "      <td>amic</td>\n",
              "    </tr>\n",
              "  </tbody>\n",
              "</table>\n",
              "</div>"
            ],
            "text/plain": [
              "                       id searchQuery  \\\n",
              "1741  1620047577906298880    m'agrada   \n",
              "457   1620099264805486592   respondre   \n",
              "177   1620116848825217024      retuit   \n",
              "4113  1652264071687806977       tuits   \n",
              "3612  1652412536573108225        amic   \n",
              "\n",
              "                                                   text  \\\n",
              "1741  no m'agrada de fer servir el mot 'correcte'. d...   \n",
              "457   si la majoria de catalunya decideix que vol ro...   \n",
              "177   et segueixo i no puc fer retuit a les teves pi...   \n",
              "4113   sí.\\nsolen ser tuits patrocinats. \\nde pagament.   \n",
              "3612                                  gràcies amic!! ✊🏻   \n",
              "\n",
              "                      timestamp  \\\n",
              "1741  2023-01-30 13:13:00+00:00   \n",
              "457   2023-01-30 16:38:00+00:00   \n",
              "177   2023-01-30 17:48:00+00:00   \n",
              "4113   2023-04-29T10:50:00.000Z   \n",
              "3612   2023-04-29T20:40:00.000Z   \n",
              "\n",
              "                                              cleanText  foundWord  \n",
              "1741  no m'agrada de fer servir el mot 'correcte'. d...   m'agrada  \n",
              "457   si la majoria de catalunya decideix que vol ro...  respondre  \n",
              "177   et segueixo i no puc fer retuit a les teves pi...     retuit  \n",
              "4113      sí. solen ser tuits patrocinats. de pagament.      tuits  \n",
              "3612                                  gràcies amic!! ✊🏻       amic  "
            ]
          },
          "execution_count": 50,
          "metadata": {},
          "output_type": "execute_result"
        }
      ],
      "source": [
        "# Extract a random sample of 300 tweets to annotate manually (to use as Gold labels) (use random_sate=42 for reproducibility)\n",
        "df_sample = df_filt.sample(300, random_state=42)\n",
        "df_sample.head()"
      ]
    },
    {
      "cell_type": "code",
      "execution_count": null,
      "id": "c78c7bef",
      "metadata": {
        "id": "c78c7bef"
      },
      "outputs": [],
      "source": [
        "# Save to csv\n",
        "df_sample.to_csv(folderName+annotationSampleFile, sep=\";\", index=False)"
      ]
    },
    {
      "cell_type": "code",
      "execution_count": null,
      "id": "853b4c3f",
      "metadata": {
        "id": "853b4c3f",
        "outputId": "1ac67333-9f1b-4006-bea4-0016420f46bc"
      },
      "outputs": [
        {
          "data": {
            "text/html": [
              "<div>\n",
              "<style scoped>\n",
              "    .dataframe tbody tr th:only-of-type {\n",
              "        vertical-align: middle;\n",
              "    }\n",
              "\n",
              "    .dataframe tbody tr th {\n",
              "        vertical-align: top;\n",
              "    }\n",
              "\n",
              "    .dataframe thead th {\n",
              "        text-align: right;\n",
              "    }\n",
              "</style>\n",
              "<table border=\"1\" class=\"dataframe\">\n",
              "  <thead>\n",
              "    <tr style=\"text-align: right;\">\n",
              "      <th></th>\n",
              "      <th>id</th>\n",
              "      <th>searchQuery</th>\n",
              "      <th>text</th>\n",
              "      <th>timestamp</th>\n",
              "      <th>cleanText</th>\n",
              "      <th>foundWord</th>\n",
              "      <th>socialMediaSense</th>\n",
              "    </tr>\n",
              "  </thead>\n",
              "  <tbody>\n",
              "    <tr>\n",
              "      <th>0</th>\n",
              "      <td>1620047577906298880</td>\n",
              "      <td>m'agrada</td>\n",
              "      <td>no m'agrada de fer servir el mot 'correcte'. d...</td>\n",
              "      <td>2023-01-30 13:13:00+00:00</td>\n",
              "      <td>no m'agrada de fer servir el mot 'correcte'. d...</td>\n",
              "      <td>m'agrada</td>\n",
              "      <td>0</td>\n",
              "    </tr>\n",
              "    <tr>\n",
              "      <th>1</th>\n",
              "      <td>1620099264805486592</td>\n",
              "      <td>respondre</td>\n",
              "      <td>si la majoria de catalunya decideix que vol ro...</td>\n",
              "      <td>2023-01-30 16:38:00+00:00</td>\n",
              "      <td>si la majoria de catalunya decideix que vol ro...</td>\n",
              "      <td>respondre</td>\n",
              "      <td>0</td>\n",
              "    </tr>\n",
              "    <tr>\n",
              "      <th>2</th>\n",
              "      <td>1620116848825217024</td>\n",
              "      <td>retuit</td>\n",
              "      <td>et segueixo i no puc fer retuit a les teves pi...</td>\n",
              "      <td>2023-01-30 17:48:00+00:00</td>\n",
              "      <td>et segueixo i no puc fer retuit a les teves pi...</td>\n",
              "      <td>retuit</td>\n",
              "      <td>1</td>\n",
              "    </tr>\n",
              "    <tr>\n",
              "      <th>3</th>\n",
              "      <td>1652264071687806977</td>\n",
              "      <td>tuits</td>\n",
              "      <td>sí.\\nsolen ser tuits patrocinats. \\nde pagament.</td>\n",
              "      <td>2023-04-29T10:50:00.000Z</td>\n",
              "      <td>sí. solen ser tuits patrocinats. de pagament.</td>\n",
              "      <td>tuits</td>\n",
              "      <td>1</td>\n",
              "    </tr>\n",
              "    <tr>\n",
              "      <th>4</th>\n",
              "      <td>1652412536573108225</td>\n",
              "      <td>amic</td>\n",
              "      <td>gràcies amic!! ✊🏻</td>\n",
              "      <td>2023-04-29T20:40:00.000Z</td>\n",
              "      <td>gràcies amic!! ✊🏻</td>\n",
              "      <td>amic</td>\n",
              "      <td>0</td>\n",
              "    </tr>\n",
              "  </tbody>\n",
              "</table>\n",
              "</div>"
            ],
            "text/plain": [
              "                    id searchQuery  \\\n",
              "0  1620047577906298880    m'agrada   \n",
              "1  1620099264805486592   respondre   \n",
              "2  1620116848825217024      retuit   \n",
              "3  1652264071687806977       tuits   \n",
              "4  1652412536573108225        amic   \n",
              "\n",
              "                                                text  \\\n",
              "0  no m'agrada de fer servir el mot 'correcte'. d...   \n",
              "1  si la majoria de catalunya decideix que vol ro...   \n",
              "2  et segueixo i no puc fer retuit a les teves pi...   \n",
              "3   sí.\\nsolen ser tuits patrocinats. \\nde pagament.   \n",
              "4                                  gràcies amic!! ✊🏻   \n",
              "\n",
              "                   timestamp  \\\n",
              "0  2023-01-30 13:13:00+00:00   \n",
              "1  2023-01-30 16:38:00+00:00   \n",
              "2  2023-01-30 17:48:00+00:00   \n",
              "3   2023-04-29T10:50:00.000Z   \n",
              "4   2023-04-29T20:40:00.000Z   \n",
              "\n",
              "                                           cleanText  foundWord  \\\n",
              "0  no m'agrada de fer servir el mot 'correcte'. d...   m'agrada   \n",
              "1  si la majoria de catalunya decideix que vol ro...  respondre   \n",
              "2  et segueixo i no puc fer retuit a les teves pi...     retuit   \n",
              "3      sí. solen ser tuits patrocinats. de pagament.      tuits   \n",
              "4                                  gràcies amic!! ✊🏻       amic   \n",
              "\n",
              "   socialMediaSense  \n",
              "0                 0  \n",
              "1                 0  \n",
              "2                 1  \n",
              "3                 1  \n",
              "4                 0  "
            ]
          },
          "execution_count": 56,
          "metadata": {},
          "output_type": "execute_result"
        }
      ],
      "source": [
        "# Load annotated dataset sample\n",
        "# To avoid encoding issues, we only select the id, foundWord and the socialMediaSense columns of the annotated file\n",
        "df_annot = pd.read_csv(folderName+tempAnnotatedSample, sep=\";\")[['id', 'foundWord', 'socialMediaSense']]\n",
        "\n",
        "# We merge the labels with the existing DF by means of the id\n",
        "df_annot_sample = pd.merge(df_sample, df_annot, how='inner', on=['id', 'foundWord'])\n",
        "# We convert the socialMediaSense values from float64 into int64\n",
        "df_annot_sample['socialMediaSense'] = df_annot_sample['socialMediaSense'].astype('Int64')\n",
        "df_annot_sample.head()"
      ]
    },
    {
      "cell_type": "code",
      "execution_count": null,
      "id": "15944ad8",
      "metadata": {
        "id": "15944ad8",
        "outputId": "7ab670b2-fff3-47bc-8100-90f0a57f7d22"
      },
      "outputs": [
        {
          "data": {
            "text/plain": [
              "Counter({np.int64(0): 195, np.int64(1): 105})"
            ]
          },
          "execution_count": 57,
          "metadata": {},
          "output_type": "execute_result"
        }
      ],
      "source": [
        "Counter(df_annot_sample['socialMediaSense'])"
      ]
    },
    {
      "cell_type": "code",
      "execution_count": null,
      "id": "16880d7e",
      "metadata": {
        "id": "16880d7e",
        "outputId": "7743d1c0-b7eb-44d7-95aa-04c816018788"
      },
      "outputs": [
        {
          "name": "stdout",
          "output_type": "stream",
          "text": [
            "0.65 0.35\n"
          ]
        }
      ],
      "source": [
        "print(195/300, 105/300)"
      ]
    },
    {
      "cell_type": "code",
      "execution_count": null,
      "id": "56f4a9e9",
      "metadata": {
        "id": "56f4a9e9"
      },
      "outputs": [],
      "source": [
        "# Save the final annotated sample (with valid encoding) to a csv to be processed in the WSD part\n",
        "df_annot_sample.to_csv(folderName+definitiveAnnotatedSample, sep=\";\", index=False)"
      ]
    }
  ],
  "metadata": {
    "kernelspec": {
      "display_name": "tfmvenv",
      "language": "python",
      "name": "python3"
    },
    "language_info": {
      "codemirror_mode": {
        "name": "ipython",
        "version": 3
      },
      "file_extension": ".py",
      "mimetype": "text/x-python",
      "name": "python",
      "nbconvert_exporter": "python",
      "pygments_lexer": "ipython3",
      "version": "3.12.5"
    },
    "colab": {
      "provenance": [],
      "include_colab_link": true
    }
  },
  "nbformat": 4,
  "nbformat_minor": 5
}